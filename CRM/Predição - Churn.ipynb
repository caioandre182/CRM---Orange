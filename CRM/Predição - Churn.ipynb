{
 "cells": [
  {
   "cell_type": "markdown",
   "id": "15e4dce2",
   "metadata": {},
   "source": [
    "# Modelo - Churn"
   ]
  },
  {
   "cell_type": "markdown",
   "id": "827a6a09",
   "metadata": {},
   "source": [
    "## 1. Introdução"
   ]
  },
  {
   "cell_type": "markdown",
   "id": "93137c4c",
   "metadata": {},
   "source": [
    "<p>\n",
    "    No Notebook <code>CRM - Tratamento das Variáveis</code>, executamos as etapas de limpeza, preparação dos dados e selecionamento das features para cada uma das variáveis que faremos a previsão.\n",
    "</p>"
   ]
  },
  {
   "cell_type": "markdown",
   "id": "1cec9864",
   "metadata": {},
   "source": [
    "### 1.1 Objetivo"
   ]
  },
  {
   "cell_type": "markdown",
   "id": "96722127",
   "metadata": {},
   "source": [
    "<p>\n",
    "    Iremos criar um modelo de classificação que faz a previsão do Churn, ou seja, se o cliente pode ou não fazer o cancelamento de seu plano/serviço. Testaremos dois modelos, Random Forest e Gradient Boost, o que tiver melhor desempenho, receberá um Tuning para melhorar seu números.\n",
    "</p>"
   ]
  },
  {
   "cell_type": "markdown",
   "id": "38e039f8",
   "metadata": {},
   "source": [
    "## 2. Bibliotecas e Dataset"
   ]
  },
  {
   "cell_type": "markdown",
   "id": "617b619d",
   "metadata": {},
   "source": [
    "### 2.1 Importando as bibliotecas"
   ]
  },
  {
   "cell_type": "code",
   "execution_count": 1,
   "id": "c92034a9",
   "metadata": {},
   "outputs": [
    {
     "data": {
      "application/javascript": [
       "\n",
       "            setTimeout(function() {\n",
       "                var nbb_cell_id = 1;\n",
       "                var nbb_unformatted_code = \"# Manipula\\u00e7\\u00e3o dos dados\\nimport pandas as pd\\nimport numpy as np\\n\\n# Visualiza\\u00e7\\u00e3o\\nimport matplotlib.pyplot as plt\\nimport seaborn as sns\\n\\n# Modelos de Classifi\\u00e7\\u00e3o\\nfrom sklearn.ensemble import RandomForestClassifier, GradientBoostingClassifier\\n\\n# M\\u00e9tricas de avalia\\u00e7\\u00e3o\\nfrom sklearn.metrics import roc_auc_score, accuracy_score\\n\\n# Sele\\u00e7\\u00e3o\\nfrom sklearn.model_selection import train_test_split, cross_val_score, GridSearchCV\\n\\n#### Settings ####\\npd.options.display.float_format = \\\"{:,.3f}\\\".format\\nplt.style.use(\\\"classic\\\")\\n# plt.rcParams(\\\"figure.figsize\\\") = [10,5]\\n%load_ext nb_black\";\n",
       "                var nbb_formatted_code = \"# Manipula\\u00e7\\u00e3o dos dados\\nimport pandas as pd\\nimport numpy as np\\n\\n# Visualiza\\u00e7\\u00e3o\\nimport matplotlib.pyplot as plt\\nimport seaborn as sns\\n\\n# Modelos de Classifi\\u00e7\\u00e3o\\nfrom sklearn.ensemble import RandomForestClassifier, GradientBoostingClassifier\\n\\n# M\\u00e9tricas de avalia\\u00e7\\u00e3o\\nfrom sklearn.metrics import roc_auc_score, accuracy_score\\n\\n# Sele\\u00e7\\u00e3o\\nfrom sklearn.model_selection import train_test_split, cross_val_score, GridSearchCV\\n\\n#### Settings ####\\npd.options.display.float_format = \\\"{:,.3f}\\\".format\\nplt.style.use(\\\"classic\\\")\\n# plt.rcParams(\\\"figure.figsize\\\") = [10,5]\\n%load_ext nb_black\";\n",
       "                var nbb_cells = Jupyter.notebook.get_cells();\n",
       "                for (var i = 0; i < nbb_cells.length; ++i) {\n",
       "                    if (nbb_cells[i].input_prompt_number == nbb_cell_id) {\n",
       "                        if (nbb_cells[i].get_text() == nbb_unformatted_code) {\n",
       "                             nbb_cells[i].set_text(nbb_formatted_code);\n",
       "                        }\n",
       "                        break;\n",
       "                    }\n",
       "                }\n",
       "            }, 500);\n",
       "            "
      ],
      "text/plain": [
       "<IPython.core.display.Javascript object>"
      ]
     },
     "metadata": {},
     "output_type": "display_data"
    }
   ],
   "source": [
    "# Manipulação dos dados\n",
    "import pandas as pd\n",
    "import numpy as np\n",
    "\n",
    "# Visualização\n",
    "import matplotlib.pyplot as plt\n",
    "import seaborn as sns\n",
    "\n",
    "# Modelos de Classifição\n",
    "from sklearn.ensemble import RandomForestClassifier, GradientBoostingClassifier\n",
    "\n",
    "# Métricas de avaliação\n",
    "from sklearn.metrics import roc_auc_score, accuracy_score\n",
    "\n",
    "# Seleção\n",
    "from sklearn.model_selection import train_test_split, cross_val_score, GridSearchCV\n",
    "\n",
    "#### Settings ####\n",
    "pd.options.display.float_format = \"{:,.3f}\".format\n",
    "plt.style.use(\"classic\")\n",
    "# plt.rcParams(\"figure.figsize\") = [10,5]\n",
    "%load_ext nb_black"
   ]
  },
  {
   "cell_type": "markdown",
   "id": "72af5228",
   "metadata": {},
   "source": [
    "### 2.2 Carregando e visualizando o dataset"
   ]
  },
  {
   "cell_type": "code",
   "execution_count": 35,
   "id": "f6dc661d",
   "metadata": {},
   "outputs": [
    {
     "data": {
      "text/html": [
       "<div>\n",
       "<style scoped>\n",
       "    .dataframe tbody tr th:only-of-type {\n",
       "        vertical-align: middle;\n",
       "    }\n",
       "\n",
       "    .dataframe tbody tr th {\n",
       "        vertical-align: top;\n",
       "    }\n",
       "\n",
       "    .dataframe thead th {\n",
       "        text-align: right;\n",
       "    }\n",
       "</style>\n",
       "<table border=\"1\" class=\"dataframe\">\n",
       "  <thead>\n",
       "    <tr style=\"text-align: right;\">\n",
       "      <th></th>\n",
       "      <th>Var57</th>\n",
       "      <th>Var73</th>\n",
       "      <th>Var113</th>\n",
       "      <th>Var81</th>\n",
       "      <th>Var153</th>\n",
       "      <th>Var133</th>\n",
       "      <th>Var76</th>\n",
       "      <th>Var38</th>\n",
       "      <th>Var134</th>\n",
       "      <th>Var28</th>\n",
       "      <th>...</th>\n",
       "      <th>Var192_zKnrjIPxRp</th>\n",
       "      <th>Var193_NRCqczK</th>\n",
       "      <th>Var192_86ct0Gdncc</th>\n",
       "      <th>Var195_TnJpfvsJgF</th>\n",
       "      <th>Var192_CEaWq6KZjV</th>\n",
       "      <th>Var192_BSxr4R4FLE</th>\n",
       "      <th>Var197_5B99</th>\n",
       "      <th>Var193_X2uI6IsGev</th>\n",
       "      <th>Var193_LrdVolaSGUfkVeWC</th>\n",
       "      <th>Var197_ZF5Q</th>\n",
       "    </tr>\n",
       "  </thead>\n",
       "  <tbody>\n",
       "    <tr>\n",
       "      <th>0</th>\n",
       "      <td>4.077</td>\n",
       "      <td>36.000</td>\n",
       "      <td>117,625.600</td>\n",
       "      <td>7,333.110</td>\n",
       "      <td>1,812,252.000</td>\n",
       "      <td>1,212,385.000</td>\n",
       "      <td>1,350,864.000</td>\n",
       "      <td>3,570.000</td>\n",
       "      <td>69,134.000</td>\n",
       "      <td>166.560</td>\n",
       "      <td>...</td>\n",
       "      <td>0</td>\n",
       "      <td>0</td>\n",
       "      <td>0</td>\n",
       "      <td>0</td>\n",
       "      <td>0</td>\n",
       "      <td>0</td>\n",
       "      <td>0</td>\n",
       "      <td>0</td>\n",
       "      <td>0</td>\n",
       "      <td>0</td>\n",
       "    </tr>\n",
       "    <tr>\n",
       "      <th>1</th>\n",
       "      <td>5.408</td>\n",
       "      <td>26.000</td>\n",
       "      <td>-356,411.600</td>\n",
       "      <td>151,098.900</td>\n",
       "      <td>10,439,160.000</td>\n",
       "      <td>4,136,430.000</td>\n",
       "      <td>2,872,928.000</td>\n",
       "      <td>4,764,966.000</td>\n",
       "      <td>357,038.000</td>\n",
       "      <td>353.520</td>\n",
       "      <td>...</td>\n",
       "      <td>0</td>\n",
       "      <td>0</td>\n",
       "      <td>0</td>\n",
       "      <td>0</td>\n",
       "      <td>0</td>\n",
       "      <td>0</td>\n",
       "      <td>0</td>\n",
       "      <td>0</td>\n",
       "      <td>0</td>\n",
       "      <td>0</td>\n",
       "    </tr>\n",
       "    <tr>\n",
       "      <th>2</th>\n",
       "      <td>6.600</td>\n",
       "      <td>130.000</td>\n",
       "      <td>405,104.000</td>\n",
       "      <td>16,211.580</td>\n",
       "      <td>9,826,360.000</td>\n",
       "      <td>3,478,905.000</td>\n",
       "      <td>1,675,776.000</td>\n",
       "      <td>5,883,894.000</td>\n",
       "      <td>248,932.000</td>\n",
       "      <td>220.080</td>\n",
       "      <td>...</td>\n",
       "      <td>0</td>\n",
       "      <td>0</td>\n",
       "      <td>0</td>\n",
       "      <td>0</td>\n",
       "      <td>0</td>\n",
       "      <td>0</td>\n",
       "      <td>0</td>\n",
       "      <td>0</td>\n",
       "      <td>0</td>\n",
       "      <td>0</td>\n",
       "    </tr>\n",
       "    <tr>\n",
       "      <th>3</th>\n",
       "      <td>1.988</td>\n",
       "      <td>12.000</td>\n",
       "      <td>-275,703.600</td>\n",
       "      <td>103,084.053</td>\n",
       "      <td>0.000</td>\n",
       "      <td>0.000</td>\n",
       "      <td>0.000</td>\n",
       "      <td>0.000</td>\n",
       "      <td>0.000</td>\n",
       "      <td>22.080</td>\n",
       "      <td>...</td>\n",
       "      <td>0</td>\n",
       "      <td>0</td>\n",
       "      <td>0</td>\n",
       "      <td>0</td>\n",
       "      <td>0</td>\n",
       "      <td>0</td>\n",
       "      <td>0</td>\n",
       "      <td>0</td>\n",
       "      <td>0</td>\n",
       "      <td>0</td>\n",
       "    </tr>\n",
       "    <tr>\n",
       "      <th>4</th>\n",
       "      <td>4.552</td>\n",
       "      <td>82.000</td>\n",
       "      <td>10,714.840</td>\n",
       "      <td>37,423.500</td>\n",
       "      <td>644,836.000</td>\n",
       "      <td>150,650.000</td>\n",
       "      <td>784,448.000</td>\n",
       "      <td>0.000</td>\n",
       "      <td>66,046.000</td>\n",
       "      <td>200.000</td>\n",
       "      <td>...</td>\n",
       "      <td>0</td>\n",
       "      <td>0</td>\n",
       "      <td>0</td>\n",
       "      <td>0</td>\n",
       "      <td>0</td>\n",
       "      <td>0</td>\n",
       "      <td>0</td>\n",
       "      <td>0</td>\n",
       "      <td>0</td>\n",
       "      <td>0</td>\n",
       "    </tr>\n",
       "  </tbody>\n",
       "</table>\n",
       "<p>5 rows × 685 columns</p>\n",
       "</div>"
      ],
      "text/plain": [
       "   Var57   Var73       Var113       Var81         Var153        Var133  \\\n",
       "0  4.077  36.000  117,625.600   7,333.110  1,812,252.000 1,212,385.000   \n",
       "1  5.408  26.000 -356,411.600 151,098.900 10,439,160.000 4,136,430.000   \n",
       "2  6.600 130.000  405,104.000  16,211.580  9,826,360.000 3,478,905.000   \n",
       "3  1.988  12.000 -275,703.600 103,084.053          0.000         0.000   \n",
       "4  4.552  82.000   10,714.840  37,423.500    644,836.000   150,650.000   \n",
       "\n",
       "          Var76         Var38      Var134   Var28  ...  Var192_zKnrjIPxRp  \\\n",
       "0 1,350,864.000     3,570.000  69,134.000 166.560  ...                  0   \n",
       "1 2,872,928.000 4,764,966.000 357,038.000 353.520  ...                  0   \n",
       "2 1,675,776.000 5,883,894.000 248,932.000 220.080  ...                  0   \n",
       "3         0.000         0.000       0.000  22.080  ...                  0   \n",
       "4   784,448.000         0.000  66,046.000 200.000  ...                  0   \n",
       "\n",
       "   Var193_NRCqczK  Var192_86ct0Gdncc  Var195_TnJpfvsJgF  Var192_CEaWq6KZjV  \\\n",
       "0               0                  0                  0                  0   \n",
       "1               0                  0                  0                  0   \n",
       "2               0                  0                  0                  0   \n",
       "3               0                  0                  0                  0   \n",
       "4               0                  0                  0                  0   \n",
       "\n",
       "   Var192_BSxr4R4FLE  Var197_5B99  Var193_X2uI6IsGev  Var193_LrdVolaSGUfkVeWC  \\\n",
       "0                  0            0                  0                        0   \n",
       "1                  0            0                  0                        0   \n",
       "2                  0            0                  0                        0   \n",
       "3                  0            0                  0                        0   \n",
       "4                  0            0                  0                        0   \n",
       "\n",
       "   Var197_ZF5Q  \n",
       "0            0  \n",
       "1            0  \n",
       "2            0  \n",
       "3            0  \n",
       "4            0  \n",
       "\n",
       "[5 rows x 685 columns]"
      ]
     },
     "execution_count": 35,
     "metadata": {},
     "output_type": "execute_result"
    },
    {
     "data": {
      "application/javascript": [
       "\n",
       "            setTimeout(function() {\n",
       "                var nbb_cell_id = 35;\n",
       "                var nbb_unformatted_code = \"features_c = pd.read_csv(\\\"features_train_churn.csv\\\")\\nchurn = pd.read_csv(\\\"orange_small_train_churn.labels\\\", header=None)\\nfeatures_c.head()\";\n",
       "                var nbb_formatted_code = \"features_c = pd.read_csv(\\\"features_train_churn.csv\\\")\\nchurn = pd.read_csv(\\\"orange_small_train_churn.labels\\\", header=None)\\nfeatures_c.head()\";\n",
       "                var nbb_cells = Jupyter.notebook.get_cells();\n",
       "                for (var i = 0; i < nbb_cells.length; ++i) {\n",
       "                    if (nbb_cells[i].input_prompt_number == nbb_cell_id) {\n",
       "                        if (nbb_cells[i].get_text() == nbb_unformatted_code) {\n",
       "                             nbb_cells[i].set_text(nbb_formatted_code);\n",
       "                        }\n",
       "                        break;\n",
       "                    }\n",
       "                }\n",
       "            }, 500);\n",
       "            "
      ],
      "text/plain": [
       "<IPython.core.display.Javascript object>"
      ]
     },
     "metadata": {},
     "output_type": "display_data"
    }
   ],
   "source": [
    "features_c = pd.read_csv(\"features_train_churn.csv\")\n",
    "churn = pd.read_csv(\"orange_small_train_churn.labels\", header=None)\n",
    "features_c.head()"
   ]
  },
  {
   "cell_type": "markdown",
   "id": "d8df8a81",
   "metadata": {},
   "source": [
    "### 2.3 X e y"
   ]
  },
  {
   "cell_type": "markdown",
   "id": "999b917d",
   "metadata": {},
   "source": [
    "#### Iremos separar as variáveis que farão a previsão, da variável target, que é onde transmite se o cliente cancelou ou não"
   ]
  },
  {
   "cell_type": "code",
   "execution_count": 60,
   "id": "855b9f7f",
   "metadata": {},
   "outputs": [
    {
     "data": {
      "application/javascript": [
       "\n",
       "            setTimeout(function() {\n",
       "                var nbb_cell_id = 60;\n",
       "                var nbb_unformatted_code = \"X = features_c.iloc[:, :-1].values\\ny = churn.values.ravel()\";\n",
       "                var nbb_formatted_code = \"X = features_c.iloc[:, :-1].values\\ny = churn.values.ravel()\";\n",
       "                var nbb_cells = Jupyter.notebook.get_cells();\n",
       "                for (var i = 0; i < nbb_cells.length; ++i) {\n",
       "                    if (nbb_cells[i].input_prompt_number == nbb_cell_id) {\n",
       "                        if (nbb_cells[i].get_text() == nbb_unformatted_code) {\n",
       "                             nbb_cells[i].set_text(nbb_formatted_code);\n",
       "                        }\n",
       "                        break;\n",
       "                    }\n",
       "                }\n",
       "            }, 500);\n",
       "            "
      ],
      "text/plain": [
       "<IPython.core.display.Javascript object>"
      ]
     },
     "metadata": {},
     "output_type": "display_data"
    }
   ],
   "source": [
    "X = features_c.iloc[:, :-1].values\n",
    "y = churn.values.ravel()"
   ]
  },
  {
   "cell_type": "markdown",
   "id": "7eb635ed",
   "metadata": {},
   "source": [
    "---------------------------------------------"
   ]
  },
  {
   "cell_type": "markdown",
   "id": "a208bfac",
   "metadata": {},
   "source": [
    "#### Como o dataset já esta pronto, vamos para o fase de divisão, onde reservaremos 80% dos dados para treino, e 20% para o teste"
   ]
  },
  {
   "cell_type": "markdown",
   "id": "7a51b3a7",
   "metadata": {},
   "source": [
    "### 3. Divisão entre treino e teste"
   ]
  },
  {
   "cell_type": "code",
   "execution_count": 61,
   "id": "ca553d0f",
   "metadata": {},
   "outputs": [
    {
     "data": {
      "application/javascript": [
       "\n",
       "            setTimeout(function() {\n",
       "                var nbb_cell_id = 61;\n",
       "                var nbb_unformatted_code = \"X_train, X_test, y_train, y_test = train_test_split(\\n    X, y, test_size=0.2, stratify=y, random_state=1\\n)\";\n",
       "                var nbb_formatted_code = \"X_train, X_test, y_train, y_test = train_test_split(\\n    X, y, test_size=0.2, stratify=y, random_state=1\\n)\";\n",
       "                var nbb_cells = Jupyter.notebook.get_cells();\n",
       "                for (var i = 0; i < nbb_cells.length; ++i) {\n",
       "                    if (nbb_cells[i].input_prompt_number == nbb_cell_id) {\n",
       "                        if (nbb_cells[i].get_text() == nbb_unformatted_code) {\n",
       "                             nbb_cells[i].set_text(nbb_formatted_code);\n",
       "                        }\n",
       "                        break;\n",
       "                    }\n",
       "                }\n",
       "            }, 500);\n",
       "            "
      ],
      "text/plain": [
       "<IPython.core.display.Javascript object>"
      ]
     },
     "metadata": {},
     "output_type": "display_data"
    }
   ],
   "source": [
    "X_train, X_test, y_train, y_test = train_test_split(\n",
    "    X, y, test_size=0.2, stratify=y, random_state=1\n",
    ")"
   ]
  },
  {
   "cell_type": "code",
   "execution_count": 62,
   "id": "0c8a9caa",
   "metadata": {},
   "outputs": [
    {
     "data": {
      "text/plain": [
       "((40000, 684), (10000, 684))"
      ]
     },
     "execution_count": 62,
     "metadata": {},
     "output_type": "execute_result"
    },
    {
     "data": {
      "application/javascript": [
       "\n",
       "            setTimeout(function() {\n",
       "                var nbb_cell_id = 62;\n",
       "                var nbb_unformatted_code = \"X_train.shape, X_test.shape\";\n",
       "                var nbb_formatted_code = \"X_train.shape, X_test.shape\";\n",
       "                var nbb_cells = Jupyter.notebook.get_cells();\n",
       "                for (var i = 0; i < nbb_cells.length; ++i) {\n",
       "                    if (nbb_cells[i].input_prompt_number == nbb_cell_id) {\n",
       "                        if (nbb_cells[i].get_text() == nbb_unformatted_code) {\n",
       "                             nbb_cells[i].set_text(nbb_formatted_code);\n",
       "                        }\n",
       "                        break;\n",
       "                    }\n",
       "                }\n",
       "            }, 500);\n",
       "            "
      ],
      "text/plain": [
       "<IPython.core.display.Javascript object>"
      ]
     },
     "metadata": {},
     "output_type": "display_data"
    }
   ],
   "source": [
    "X_train.shape, X_test.shape"
   ]
  },
  {
   "cell_type": "code",
   "execution_count": 63,
   "id": "0bf5eb3a",
   "metadata": {},
   "outputs": [
    {
     "data": {
      "text/plain": [
       "((40000,), (10000,))"
      ]
     },
     "execution_count": 63,
     "metadata": {},
     "output_type": "execute_result"
    },
    {
     "data": {
      "application/javascript": [
       "\n",
       "            setTimeout(function() {\n",
       "                var nbb_cell_id = 63;\n",
       "                var nbb_unformatted_code = \"y_train.shape, y_test.shape\";\n",
       "                var nbb_formatted_code = \"y_train.shape, y_test.shape\";\n",
       "                var nbb_cells = Jupyter.notebook.get_cells();\n",
       "                for (var i = 0; i < nbb_cells.length; ++i) {\n",
       "                    if (nbb_cells[i].input_prompt_number == nbb_cell_id) {\n",
       "                        if (nbb_cells[i].get_text() == nbb_unformatted_code) {\n",
       "                             nbb_cells[i].set_text(nbb_formatted_code);\n",
       "                        }\n",
       "                        break;\n",
       "                    }\n",
       "                }\n",
       "            }, 500);\n",
       "            "
      ],
      "text/plain": [
       "<IPython.core.display.Javascript object>"
      ]
     },
     "metadata": {},
     "output_type": "display_data"
    }
   ],
   "source": [
    "y_train.shape, y_test.shape"
   ]
  },
  {
   "cell_type": "markdown",
   "id": "749d348b",
   "metadata": {},
   "source": [
    "-------------------------------------------------------"
   ]
  },
  {
   "cell_type": "markdown",
   "id": "e12e16c0",
   "metadata": {},
   "source": [
    "#### Agora iremos testar os dois modelos, com os parâmetros default do classificador, e escolheremos o que tiver melhor desempenho."
   ]
  },
  {
   "cell_type": "markdown",
   "id": "d2cc5529",
   "metadata": {},
   "source": [
    "#### A métrica que usaremos será o AUC, que mede a área sob a curva ROC, que é uma excelente métrica para avaliar um modelo de classificação"
   ]
  },
  {
   "cell_type": "markdown",
   "id": "c0c69c80",
   "metadata": {},
   "source": [
    "## 4. Random Forest Classifier"
   ]
  },
  {
   "cell_type": "markdown",
   "id": "4f2aa2f4",
   "metadata": {},
   "source": [
    "### 4.1 - Média dos testes"
   ]
  },
  {
   "cell_type": "markdown",
   "id": "f9ed48f3",
   "metadata": {},
   "source": [
    "#### Faremos uma função para verificar a média dos testes, através de um cross validation"
   ]
  },
  {
   "cell_type": "code",
   "execution_count": 64,
   "id": "1d849441",
   "metadata": {},
   "outputs": [
    {
     "data": {
      "application/javascript": [
       "\n",
       "            setTimeout(function() {\n",
       "                var nbb_cell_id = 64;\n",
       "                var nbb_unformatted_code = \"def rfc_test(X_train, y_train, n_estimators=100, cv=10):\\n    rfc = RandomForestClassifier(n_estimators=n_estimators)\\n    cv_scores = cross_val_score(\\n        rfc, X_train, y_train, scoring=\\\"roc_auc\\\", cv=cv, n_jobs=-1\\n    )\\n    print(f\\\"M\\u00e9dia dos testes: {cv_scores.mean()}\\\")\";\n",
       "                var nbb_formatted_code = \"def rfc_test(X_train, y_train, n_estimators=100, cv=10):\\n    rfc = RandomForestClassifier(n_estimators=n_estimators)\\n    cv_scores = cross_val_score(\\n        rfc, X_train, y_train, scoring=\\\"roc_auc\\\", cv=cv, n_jobs=-1\\n    )\\n    print(f\\\"M\\u00e9dia dos testes: {cv_scores.mean()}\\\")\";\n",
       "                var nbb_cells = Jupyter.notebook.get_cells();\n",
       "                for (var i = 0; i < nbb_cells.length; ++i) {\n",
       "                    if (nbb_cells[i].input_prompt_number == nbb_cell_id) {\n",
       "                        if (nbb_cells[i].get_text() == nbb_unformatted_code) {\n",
       "                             nbb_cells[i].set_text(nbb_formatted_code);\n",
       "                        }\n",
       "                        break;\n",
       "                    }\n",
       "                }\n",
       "            }, 500);\n",
       "            "
      ],
      "text/plain": [
       "<IPython.core.display.Javascript object>"
      ]
     },
     "metadata": {},
     "output_type": "display_data"
    }
   ],
   "source": [
    "def rfc_test(X_train, y_train, n_estimators=100, cv=10):\n",
    "    rfc = RandomForestClassifier(n_estimators=n_estimators)\n",
    "    cv_scores = cross_val_score(\n",
    "        rfc, X_train, y_train, scoring=\"roc_auc\", cv=cv, n_jobs=-1\n",
    "    )\n",
    "    print(f\"Média dos testes: {cv_scores.mean()}\")"
   ]
  },
  {
   "cell_type": "code",
   "execution_count": 65,
   "id": "ceaf8e8a",
   "metadata": {},
   "outputs": [
    {
     "name": "stdout",
     "output_type": "stream",
     "text": [
      "Média dos testes: 0.6234420522360222\n",
      "CPU times: total: 219 ms\n",
      "Wall time: 1min 52s\n"
     ]
    },
    {
     "data": {
      "application/javascript": [
       "\n",
       "            setTimeout(function() {\n",
       "                var nbb_cell_id = 65;\n",
       "                var nbb_unformatted_code = \"%%time\\nrfc_test(X_train,y_train, 100, 10)\";\n",
       "                var nbb_formatted_code = \"%%time\\nrfc_test(X_train,y_train, 100, 10)\";\n",
       "                var nbb_cells = Jupyter.notebook.get_cells();\n",
       "                for (var i = 0; i < nbb_cells.length; ++i) {\n",
       "                    if (nbb_cells[i].input_prompt_number == nbb_cell_id) {\n",
       "                        if (nbb_cells[i].get_text() == nbb_unformatted_code) {\n",
       "                             nbb_cells[i].set_text(nbb_formatted_code);\n",
       "                        }\n",
       "                        break;\n",
       "                    }\n",
       "                }\n",
       "            }, 500);\n",
       "            "
      ],
      "text/plain": [
       "<IPython.core.display.Javascript object>"
      ]
     },
     "metadata": {},
     "output_type": "display_data"
    }
   ],
   "source": [
    "%%time\n",
    "rfc_test(X_train,y_train, 100, 10)"
   ]
  },
  {
   "cell_type": "markdown",
   "id": "3c0e2c01",
   "metadata": {},
   "source": [
    "## 5. Gradient Boosting"
   ]
  },
  {
   "cell_type": "markdown",
   "id": "8f407f5e",
   "metadata": {},
   "source": [
    "### 5.1 Média dos testes"
   ]
  },
  {
   "cell_type": "code",
   "execution_count": 67,
   "id": "80cf6e9c",
   "metadata": {},
   "outputs": [
    {
     "data": {
      "application/javascript": [
       "\n",
       "            setTimeout(function() {\n",
       "                var nbb_cell_id = 67;\n",
       "                var nbb_unformatted_code = \"def gbc_test(X_train, y_train, n_estimators=100, learning_rate=0.1, cv=10):\\n    gbc = GradientBoostingClassifier(\\n        n_estimators=n_estimators, learning_rate=learning_rate\\n    )\\n    cv_scores = cross_val_score(gbc, X_train, y_train, scoring=\\\"roc_auc\\\", cv=cv)\\n    print(f\\\"M\\u00e9dia dos testes: {cv_scores.mean()}\\\")\";\n",
       "                var nbb_formatted_code = \"def gbc_test(X_train, y_train, n_estimators=100, learning_rate=0.1, cv=10):\\n    gbc = GradientBoostingClassifier(\\n        n_estimators=n_estimators, learning_rate=learning_rate\\n    )\\n    cv_scores = cross_val_score(gbc, X_train, y_train, scoring=\\\"roc_auc\\\", cv=cv)\\n    print(f\\\"M\\u00e9dia dos testes: {cv_scores.mean()}\\\")\";\n",
       "                var nbb_cells = Jupyter.notebook.get_cells();\n",
       "                for (var i = 0; i < nbb_cells.length; ++i) {\n",
       "                    if (nbb_cells[i].input_prompt_number == nbb_cell_id) {\n",
       "                        if (nbb_cells[i].get_text() == nbb_unformatted_code) {\n",
       "                             nbb_cells[i].set_text(nbb_formatted_code);\n",
       "                        }\n",
       "                        break;\n",
       "                    }\n",
       "                }\n",
       "            }, 500);\n",
       "            "
      ],
      "text/plain": [
       "<IPython.core.display.Javascript object>"
      ]
     },
     "metadata": {},
     "output_type": "display_data"
    }
   ],
   "source": [
    "def gbc_test(X_train, y_train, n_estimators=100, learning_rate=0.1, cv=10):\n",
    "    gbc = GradientBoostingClassifier(\n",
    "        n_estimators=n_estimators, learning_rate=learning_rate\n",
    "    )\n",
    "    cv_scores = cross_val_score(gbc, X_train, y_train, scoring=\"roc_auc\", cv=cv, n_jobs=-1)\n",
    "    print(f\"Média dos testes: {cv_scores.mean()}\")"
   ]
  },
  {
   "cell_type": "code",
   "execution_count": 68,
   "id": "483a21f2",
   "metadata": {},
   "outputs": [
    {
     "name": "stdout",
     "output_type": "stream",
     "text": [
      "Média dos testes: 0.6760673948442181\n",
      "CPU times: total: 20min 26s\n",
      "Wall time: 21min 17s\n"
     ]
    },
    {
     "data": {
      "application/javascript": [
       "\n",
       "            setTimeout(function() {\n",
       "                var nbb_cell_id = 68;\n",
       "                var nbb_unformatted_code = \"%%time\\ngbc_test(X_train, y_train, 100, 0.1, 10)\";\n",
       "                var nbb_formatted_code = \"%%time\\ngbc_test(X_train, y_train, 100, 0.1, 10)\";\n",
       "                var nbb_cells = Jupyter.notebook.get_cells();\n",
       "                for (var i = 0; i < nbb_cells.length; ++i) {\n",
       "                    if (nbb_cells[i].input_prompt_number == nbb_cell_id) {\n",
       "                        if (nbb_cells[i].get_text() == nbb_unformatted_code) {\n",
       "                             nbb_cells[i].set_text(nbb_formatted_code);\n",
       "                        }\n",
       "                        break;\n",
       "                    }\n",
       "                }\n",
       "            }, 500);\n",
       "            "
      ],
      "text/plain": [
       "<IPython.core.display.Javascript object>"
      ]
     },
     "metadata": {},
     "output_type": "display_data"
    }
   ],
   "source": [
    "%%time\n",
    "gbc_test(X_train, y_train, 100, 0.1, 10)"
   ]
  },
  {
   "cell_type": "markdown",
   "id": "09158ad6",
   "metadata": {},
   "source": [
    "-----------------------------------\n"
   ]
  },
  {
   "cell_type": "markdown",
   "id": "211c3afb",
   "metadata": {},
   "source": [
    "## 6. Otimização do modelo vencedor"
   ]
  },
  {
   "cell_type": "markdown",
   "id": "569ca026",
   "metadata": {},
   "source": [
    "#### Podemos notar que o modelo vencedor foi o Gradiente Bosting com 0.67, já o Random Forest teve a média de 0.62"
   ]
  },
  {
   "cell_type": "markdown",
   "id": "e7702218",
   "metadata": {},
   "source": [
    "### 6.1 Como faremos o Tuning do modelo"
   ]
  },
  {
   "cell_type": "markdown",
   "id": "4799598e",
   "metadata": {},
   "source": [
    "#### Faremos o otimização do modelo, parâmetro por parâmetro, e guarderemos os resultados do melhores em variáveis e no final termemos o modelo considerado ideal"
   ]
  },
  {
   "cell_type": "markdown",
   "id": "b6c52a81",
   "metadata": {},
   "source": [
    "#### A função optimize, treinará o modelo com os parâmetros indicados por nós, e retornará algumas informações, como o melhor score, o modelo, e os melhores parâmetros, onde guardaremos em variáveis."
   ]
  },
  {
   "cell_type": "code",
   "execution_count": 66,
   "id": "6ecd2138",
   "metadata": {},
   "outputs": [
    {
     "data": {
      "application/javascript": [
       "\n",
       "            setTimeout(function() {\n",
       "                var nbb_cell_id = 66;\n",
       "                var nbb_unformatted_code = \"def optimize(n_estimators, learning_rate, min_samples_split, min_samples_leaf, max_depth, \\n             max_features,subsample, params, cv = 10):\\n    \\n    gbc = GradientBoostingClassifier(n_estimators=n_estimators, \\n                                     learning_rate=learning_rate, \\n                                     min_samples_split=min_samples_split, \\n                                     min_samples_leaf=min_samples_leaf,\\n                                     max_depth=max_depth, \\n                                     max_features=max_features, \\n                                     subsample=subsample)\\n    grid_search = GridSearchCV(estimator = gbc, param_grid=params, scoring='roc_auc', n_jobs=-1,cv=cv)\\n    \\n    grid_search.fit(X_train, y_train)\\n    result = grid_search.cv_results_\\n    best_params = grid_search.best_params_\\n    best_score = grid_search.best_score_\\n    print(best_params, best_score)\\n    \\n    return gbc, best_params, best_score\";\n",
       "                var nbb_formatted_code = \"def optimize(\\n    n_estimators,\\n    learning_rate,\\n    min_samples_split,\\n    min_samples_leaf,\\n    max_depth,\\n    max_features,\\n    subsample,\\n    params,\\n    cv=10,\\n):\\n\\n    gbc = GradientBoostingClassifier(\\n        n_estimators=n_estimators,\\n        learning_rate=learning_rate,\\n        min_samples_split=min_samples_split,\\n        min_samples_leaf=min_samples_leaf,\\n        max_depth=max_depth,\\n        max_features=max_features,\\n        subsample=subsample,\\n    )\\n    grid_search = GridSearchCV(\\n        estimator=gbc, param_grid=params, scoring=\\\"roc_auc\\\", n_jobs=-1, cv=cv\\n    )\\n\\n    grid_search.fit(X_train, y_train)\\n    result = grid_search.cv_results_\\n    best_params = grid_search.best_params_\\n    best_score = grid_search.best_score_\\n    print(best_params, best_score)\\n\\n    return gbc, best_params, best_score\";\n",
       "                var nbb_cells = Jupyter.notebook.get_cells();\n",
       "                for (var i = 0; i < nbb_cells.length; ++i) {\n",
       "                    if (nbb_cells[i].input_prompt_number == nbb_cell_id) {\n",
       "                        if (nbb_cells[i].get_text() == nbb_unformatted_code) {\n",
       "                             nbb_cells[i].set_text(nbb_formatted_code);\n",
       "                        }\n",
       "                        break;\n",
       "                    }\n",
       "                }\n",
       "            }, 500);\n",
       "            "
      ],
      "text/plain": [
       "<IPython.core.display.Javascript object>"
      ]
     },
     "metadata": {},
     "output_type": "display_data"
    }
   ],
   "source": [
    "def optimize(\n",
    "    n_estimators,\n",
    "    learning_rate,\n",
    "    min_samples_split,\n",
    "    min_samples_leaf,\n",
    "    max_depth,\n",
    "    max_features,\n",
    "    subsample,\n",
    "    params,\n",
    "    cv=10,\n",
    "):\n",
    "\n",
    "    gbc = GradientBoostingClassifier(\n",
    "        n_estimators=n_estimators,\n",
    "        learning_rate=learning_rate,\n",
    "        min_samples_split=min_samples_split,\n",
    "        min_samples_leaf=min_samples_leaf,\n",
    "        max_depth=max_depth,\n",
    "        max_features=max_features,\n",
    "        subsample=subsample,\n",
    "    )\n",
    "    grid_search = GridSearchCV(\n",
    "        estimator=gbc, param_grid=params, scoring=\"roc_auc\", n_jobs=-1, cv=cv\n",
    "    )\n",
    "\n",
    "    grid_search.fit(X_train, y_train)\n",
    "    result = grid_search.cv_results_\n",
    "    best_params = grid_search.best_params_\n",
    "    best_score = grid_search.best_score_\n",
    "    print(best_params, best_score)\n",
    "\n",
    "    return gbc, best_params, best_score"
   ]
  },
  {
   "cell_type": "code",
   "execution_count": 70,
   "id": "9da93630",
   "metadata": {},
   "outputs": [
    {
     "data": {
      "application/javascript": [
       "\n",
       "            setTimeout(function() {\n",
       "                var nbb_cell_id = 70;\n",
       "                var nbb_unformatted_code = \"# Vari\\u00e1veis para coletar os resultados\\n\\nmodels = np.array([])\\nopt_params = dict()\\nscores = np.array([])\";\n",
       "                var nbb_formatted_code = \"# Vari\\u00e1veis para coletar os resultados\\n\\nmodels = np.array([])\\nopt_params = dict()\\nscores = np.array([])\";\n",
       "                var nbb_cells = Jupyter.notebook.get_cells();\n",
       "                for (var i = 0; i < nbb_cells.length; ++i) {\n",
       "                    if (nbb_cells[i].input_prompt_number == nbb_cell_id) {\n",
       "                        if (nbb_cells[i].get_text() == nbb_unformatted_code) {\n",
       "                             nbb_cells[i].set_text(nbb_formatted_code);\n",
       "                        }\n",
       "                        break;\n",
       "                    }\n",
       "                }\n",
       "            }, 500);\n",
       "            "
      ],
      "text/plain": [
       "<IPython.core.display.Javascript object>"
      ]
     },
     "metadata": {},
     "output_type": "display_data"
    }
   ],
   "source": [
    "# Variáveis para coletar os resultados\n",
    "\n",
    "models = np.array([])\n",
    "opt_params = dict()\n",
    "scores = np.array([])"
   ]
  },
  {
   "cell_type": "markdown",
   "id": "7afc2af8",
   "metadata": {},
   "source": [
    "### 6.2 Primeiro Modelo - n_estimators"
   ]
  },
  {
   "cell_type": "code",
   "execution_count": 71,
   "id": "1ec09631",
   "metadata": {},
   "outputs": [
    {
     "data": {
      "application/javascript": [
       "\n",
       "            setTimeout(function() {\n",
       "                var nbb_cell_id = 71;\n",
       "                var nbb_unformatted_code = \"#Par\\u00e2metros\\nlearning_rate = 0.1\\nn_estimators = None\\nmax_depth = 8\\nmin_samples_split = 250\\nmin_samples_leaf = 20\\nmax_features = 'sqrt'\\nsubsample = 0.8\\n\\nparams = {'n_estimators': range(50, 151, 10)}\";\n",
       "                var nbb_formatted_code = \"# Par\\u00e2metros\\nlearning_rate = 0.1\\nn_estimators = None\\nmax_depth = 8\\nmin_samples_split = 250\\nmin_samples_leaf = 20\\nmax_features = \\\"sqrt\\\"\\nsubsample = 0.8\\n\\nparams = {\\\"n_estimators\\\": range(50, 151, 10)}\";\n",
       "                var nbb_cells = Jupyter.notebook.get_cells();\n",
       "                for (var i = 0; i < nbb_cells.length; ++i) {\n",
       "                    if (nbb_cells[i].input_prompt_number == nbb_cell_id) {\n",
       "                        if (nbb_cells[i].get_text() == nbb_unformatted_code) {\n",
       "                             nbb_cells[i].set_text(nbb_formatted_code);\n",
       "                        }\n",
       "                        break;\n",
       "                    }\n",
       "                }\n",
       "            }, 500);\n",
       "            "
      ],
      "text/plain": [
       "<IPython.core.display.Javascript object>"
      ]
     },
     "metadata": {},
     "output_type": "display_data"
    }
   ],
   "source": [
    "# Parâmetros\n",
    "learning_rate = 0.1\n",
    "n_estimators = None\n",
    "max_depth = 8\n",
    "min_samples_split = 250\n",
    "min_samples_leaf = 20\n",
    "max_features = \"sqrt\"\n",
    "subsample = 0.8\n",
    "\n",
    "params = {\"n_estimators\": range(50, 151, 10)}"
   ]
  },
  {
   "cell_type": "code",
   "execution_count": 72,
   "id": "b1d1ac87",
   "metadata": {},
   "outputs": [
    {
     "name": "stdout",
     "output_type": "stream",
     "text": [
      "{'n_estimators': 110} 0.67266111064321\n"
     ]
    },
    {
     "data": {
      "application/javascript": [
       "\n",
       "            setTimeout(function() {\n",
       "                var nbb_cell_id = 72;\n",
       "                var nbb_unformatted_code = \"gbc, opt_param, score = optimize(n_estimators=n_estimators, \\n                                 learning_rate=learning_rate, \\n                                 min_samples_split=min_samples_split, \\n                                 min_samples_leaf=min_samples_leaf,\\n                                 max_depth=max_depth, \\n                                 max_features=max_features, \\n                                 subsample=subsample,\\n                                 params=params,\\n                                 cv=5)\";\n",
       "                var nbb_formatted_code = \"gbc, opt_param, score = optimize(\\n    n_estimators=n_estimators,\\n    learning_rate=learning_rate,\\n    min_samples_split=min_samples_split,\\n    min_samples_leaf=min_samples_leaf,\\n    max_depth=max_depth,\\n    max_features=max_features,\\n    subsample=subsample,\\n    params=params,\\n    cv=5,\\n)\";\n",
       "                var nbb_cells = Jupyter.notebook.get_cells();\n",
       "                for (var i = 0; i < nbb_cells.length; ++i) {\n",
       "                    if (nbb_cells[i].input_prompt_number == nbb_cell_id) {\n",
       "                        if (nbb_cells[i].get_text() == nbb_unformatted_code) {\n",
       "                             nbb_cells[i].set_text(nbb_formatted_code);\n",
       "                        }\n",
       "                        break;\n",
       "                    }\n",
       "                }\n",
       "            }, 500);\n",
       "            "
      ],
      "text/plain": [
       "<IPython.core.display.Javascript object>"
      ]
     },
     "metadata": {},
     "output_type": "display_data"
    }
   ],
   "source": [
    "gbc, opt_param, score = optimize(\n",
    "    n_estimators=n_estimators,\n",
    "    learning_rate=learning_rate,\n",
    "    min_samples_split=min_samples_split,\n",
    "    min_samples_leaf=min_samples_leaf,\n",
    "    max_depth=max_depth,\n",
    "    max_features=max_features,\n",
    "    subsample=subsample,\n",
    "    params=params,\n",
    "    cv=5,\n",
    ")"
   ]
  },
  {
   "cell_type": "code",
   "execution_count": 73,
   "id": "450afc9e",
   "metadata": {},
   "outputs": [
    {
     "data": {
      "application/javascript": [
       "\n",
       "            setTimeout(function() {\n",
       "                var nbb_cell_id = 73;\n",
       "                var nbb_unformatted_code = \"# Atualizando as vari\\u00e1veis com os resultados\\nmodels = np.append(models, gbc)\\nopt_params = {**opt_params, **opt_param}\\nscores = np.append(scores, score)\";\n",
       "                var nbb_formatted_code = \"# Atualizando as vari\\u00e1veis com os resultados\\nmodels = np.append(models, gbc)\\nopt_params = {**opt_params, **opt_param}\\nscores = np.append(scores, score)\";\n",
       "                var nbb_cells = Jupyter.notebook.get_cells();\n",
       "                for (var i = 0; i < nbb_cells.length; ++i) {\n",
       "                    if (nbb_cells[i].input_prompt_number == nbb_cell_id) {\n",
       "                        if (nbb_cells[i].get_text() == nbb_unformatted_code) {\n",
       "                             nbb_cells[i].set_text(nbb_formatted_code);\n",
       "                        }\n",
       "                        break;\n",
       "                    }\n",
       "                }\n",
       "            }, 500);\n",
       "            "
      ],
      "text/plain": [
       "<IPython.core.display.Javascript object>"
      ]
     },
     "metadata": {},
     "output_type": "display_data"
    }
   ],
   "source": [
    "# Atualizando as variáveis com os resultados\n",
    "models = np.append(models, gbc)\n",
    "opt_params = {**opt_params, **opt_param}\n",
    "scores = np.append(scores, score)"
   ]
  },
  {
   "cell_type": "markdown",
   "id": "89b5c057",
   "metadata": {},
   "source": [
    "____________________________________________"
   ]
  },
  {
   "cell_type": "markdown",
   "id": "fb666262",
   "metadata": {},
   "source": [
    "### 6.3 Segundo Modelo - max_depth e min_samples_split"
   ]
  },
  {
   "cell_type": "code",
   "execution_count": 74,
   "id": "f17f9a85",
   "metadata": {},
   "outputs": [
    {
     "data": {
      "application/javascript": [
       "\n",
       "            setTimeout(function() {\n",
       "                var nbb_cell_id = 74;\n",
       "                var nbb_unformatted_code = \"n_estimators = opt_params['n_estimators']\\nmax_depth = None\\nmin_samples_split = None\\nmin_samples_leaf = 20\\nmax_features = 'sqrt'\\nsubsample = 0.8\\n\\nparams = {'max_depth': range(3, 12, 2), 'min_samples_split': range(150, 401, 50)}\";\n",
       "                var nbb_formatted_code = \"n_estimators = opt_params[\\\"n_estimators\\\"]\\nmax_depth = None\\nmin_samples_split = None\\nmin_samples_leaf = 20\\nmax_features = \\\"sqrt\\\"\\nsubsample = 0.8\\n\\nparams = {\\\"max_depth\\\": range(3, 12, 2), \\\"min_samples_split\\\": range(150, 401, 50)}\";\n",
       "                var nbb_cells = Jupyter.notebook.get_cells();\n",
       "                for (var i = 0; i < nbb_cells.length; ++i) {\n",
       "                    if (nbb_cells[i].input_prompt_number == nbb_cell_id) {\n",
       "                        if (nbb_cells[i].get_text() == nbb_unformatted_code) {\n",
       "                             nbb_cells[i].set_text(nbb_formatted_code);\n",
       "                        }\n",
       "                        break;\n",
       "                    }\n",
       "                }\n",
       "            }, 500);\n",
       "            "
      ],
      "text/plain": [
       "<IPython.core.display.Javascript object>"
      ]
     },
     "metadata": {},
     "output_type": "display_data"
    }
   ],
   "source": [
    "n_estimators = opt_params[\"n_estimators\"]\n",
    "max_depth = None\n",
    "min_samples_split = None\n",
    "min_samples_leaf = 20\n",
    "max_features = \"sqrt\"\n",
    "subsample = 0.8\n",
    "\n",
    "params = {\"max_depth\": range(3, 12, 2), \"min_samples_split\": range(150, 401, 50)}"
   ]
  },
  {
   "cell_type": "code",
   "execution_count": 75,
   "id": "4f4743db",
   "metadata": {},
   "outputs": [
    {
     "name": "stdout",
     "output_type": "stream",
     "text": [
      "{'max_depth': 5, 'min_samples_split': 250} 0.6757441859379628\n",
      "CPU times: total: 10.9 s\n",
      "Wall time: 11min 25s\n"
     ]
    },
    {
     "data": {
      "application/javascript": [
       "\n",
       "            setTimeout(function() {\n",
       "                var nbb_cell_id = 75;\n",
       "                var nbb_unformatted_code = \"%%time\\ngbc, opt_param, score = optimize(n_estimators=n_estimators, \\n                                 learning_rate=learning_rate, \\n                                 min_samples_split=min_samples_split, \\n                                 min_samples_leaf=min_samples_leaf,\\n                                 max_depth=max_depth, \\n                                 max_features=max_features, \\n                                 subsample=subsample,\\n                                 params=params,\\n                                 cv=5)\";\n",
       "                var nbb_formatted_code = \"%%time\\ngbc, opt_param, score = optimize(n_estimators=n_estimators, \\n                                 learning_rate=learning_rate, \\n                                 min_samples_split=min_samples_split, \\n                                 min_samples_leaf=min_samples_leaf,\\n                                 max_depth=max_depth, \\n                                 max_features=max_features, \\n                                 subsample=subsample,\\n                                 params=params,\\n                                 cv=5)\";\n",
       "                var nbb_cells = Jupyter.notebook.get_cells();\n",
       "                for (var i = 0; i < nbb_cells.length; ++i) {\n",
       "                    if (nbb_cells[i].input_prompt_number == nbb_cell_id) {\n",
       "                        if (nbb_cells[i].get_text() == nbb_unformatted_code) {\n",
       "                             nbb_cells[i].set_text(nbb_formatted_code);\n",
       "                        }\n",
       "                        break;\n",
       "                    }\n",
       "                }\n",
       "            }, 500);\n",
       "            "
      ],
      "text/plain": [
       "<IPython.core.display.Javascript object>"
      ]
     },
     "metadata": {},
     "output_type": "display_data"
    }
   ],
   "source": [
    "%%time\n",
    "gbc, opt_param, score = optimize(n_estimators=n_estimators, \n",
    "                                 learning_rate=learning_rate, \n",
    "                                 min_samples_split=min_samples_split, \n",
    "                                 min_samples_leaf=min_samples_leaf,\n",
    "                                 max_depth=max_depth, \n",
    "                                 max_features=max_features, \n",
    "                                 subsample=subsample,\n",
    "                                 params=params,\n",
    "                                 cv=5)"
   ]
  },
  {
   "cell_type": "code",
   "execution_count": 76,
   "id": "4d737530",
   "metadata": {},
   "outputs": [
    {
     "data": {
      "application/javascript": [
       "\n",
       "            setTimeout(function() {\n",
       "                var nbb_cell_id = 76;\n",
       "                var nbb_unformatted_code = \"# Atualizando as vari\\u00e1veis com os resultados\\nmodels = np.append(models, gbc)\\nopt_params = {**opt_params, **opt_param}\\nscores = np.append(scores, score)\";\n",
       "                var nbb_formatted_code = \"# Atualizando as vari\\u00e1veis com os resultados\\nmodels = np.append(models, gbc)\\nopt_params = {**opt_params, **opt_param}\\nscores = np.append(scores, score)\";\n",
       "                var nbb_cells = Jupyter.notebook.get_cells();\n",
       "                for (var i = 0; i < nbb_cells.length; ++i) {\n",
       "                    if (nbb_cells[i].input_prompt_number == nbb_cell_id) {\n",
       "                        if (nbb_cells[i].get_text() == nbb_unformatted_code) {\n",
       "                             nbb_cells[i].set_text(nbb_formatted_code);\n",
       "                        }\n",
       "                        break;\n",
       "                    }\n",
       "                }\n",
       "            }, 500);\n",
       "            "
      ],
      "text/plain": [
       "<IPython.core.display.Javascript object>"
      ]
     },
     "metadata": {},
     "output_type": "display_data"
    }
   ],
   "source": [
    "# Atualizando as variáveis com os resultados\n",
    "models = np.append(models, gbc)\n",
    "opt_params = {**opt_params, **opt_param}\n",
    "scores = np.append(scores, score)"
   ]
  },
  {
   "cell_type": "markdown",
   "id": "d166c845",
   "metadata": {},
   "source": [
    "---------------------------------"
   ]
  },
  {
   "cell_type": "markdown",
   "id": "283ad989",
   "metadata": {},
   "source": [
    "### 6.4 Terceiro Modelo - min_samples_leaf"
   ]
  },
  {
   "cell_type": "code",
   "execution_count": 77,
   "id": "c52a6800",
   "metadata": {},
   "outputs": [
    {
     "data": {
      "application/javascript": [
       "\n",
       "            setTimeout(function() {\n",
       "                var nbb_cell_id = 77;\n",
       "                var nbb_unformatted_code = \"max_depth = opt_params['max_depth']\\nmin_samples_split = opt_params['min_samples_split']\\nmin_samples_leaf = None\\n\\nparams = {'min_samples_leaf' : range(25, 65, 5)}\";\n",
       "                var nbb_formatted_code = \"max_depth = opt_params[\\\"max_depth\\\"]\\nmin_samples_split = opt_params[\\\"min_samples_split\\\"]\\nmin_samples_leaf = None\\n\\nparams = {\\\"min_samples_leaf\\\": range(25, 65, 5)}\";\n",
       "                var nbb_cells = Jupyter.notebook.get_cells();\n",
       "                for (var i = 0; i < nbb_cells.length; ++i) {\n",
       "                    if (nbb_cells[i].input_prompt_number == nbb_cell_id) {\n",
       "                        if (nbb_cells[i].get_text() == nbb_unformatted_code) {\n",
       "                             nbb_cells[i].set_text(nbb_formatted_code);\n",
       "                        }\n",
       "                        break;\n",
       "                    }\n",
       "                }\n",
       "            }, 500);\n",
       "            "
      ],
      "text/plain": [
       "<IPython.core.display.Javascript object>"
      ]
     },
     "metadata": {},
     "output_type": "display_data"
    }
   ],
   "source": [
    "max_depth = opt_params[\"max_depth\"]\n",
    "min_samples_split = opt_params[\"min_samples_split\"]\n",
    "min_samples_leaf = None\n",
    "\n",
    "params = {\"min_samples_leaf\": range(25, 65, 5)}"
   ]
  },
  {
   "cell_type": "code",
   "execution_count": 78,
   "id": "e7a2f27b",
   "metadata": {},
   "outputs": [
    {
     "name": "stdout",
     "output_type": "stream",
     "text": [
      "{'min_samples_leaf': 55} 0.6758598193519848\n",
      "CPU times: total: 8.81 s\n",
      "Wall time: 2min 14s\n"
     ]
    },
    {
     "data": {
      "application/javascript": [
       "\n",
       "            setTimeout(function() {\n",
       "                var nbb_cell_id = 78;\n",
       "                var nbb_unformatted_code = \"%%time\\ngbc, opt_param, score = optimize(n_estimators=n_estimators, \\n                                 learning_rate=learning_rate, \\n                                 min_samples_split=min_samples_split, \\n                                 min_samples_leaf=min_samples_leaf,\\n                                 max_depth=max_depth, \\n                                 max_features=max_features, \\n                                 subsample=subsample,\\n                                 params=params,\\n                                 cv=5)\";\n",
       "                var nbb_formatted_code = \"%%time\\ngbc, opt_param, score = optimize(n_estimators=n_estimators, \\n                                 learning_rate=learning_rate, \\n                                 min_samples_split=min_samples_split, \\n                                 min_samples_leaf=min_samples_leaf,\\n                                 max_depth=max_depth, \\n                                 max_features=max_features, \\n                                 subsample=subsample,\\n                                 params=params,\\n                                 cv=5)\";\n",
       "                var nbb_cells = Jupyter.notebook.get_cells();\n",
       "                for (var i = 0; i < nbb_cells.length; ++i) {\n",
       "                    if (nbb_cells[i].input_prompt_number == nbb_cell_id) {\n",
       "                        if (nbb_cells[i].get_text() == nbb_unformatted_code) {\n",
       "                             nbb_cells[i].set_text(nbb_formatted_code);\n",
       "                        }\n",
       "                        break;\n",
       "                    }\n",
       "                }\n",
       "            }, 500);\n",
       "            "
      ],
      "text/plain": [
       "<IPython.core.display.Javascript object>"
      ]
     },
     "metadata": {},
     "output_type": "display_data"
    }
   ],
   "source": [
    "%%time\n",
    "gbc, opt_param, score = optimize(n_estimators=n_estimators, \n",
    "                                 learning_rate=learning_rate, \n",
    "                                 min_samples_split=min_samples_split, \n",
    "                                 min_samples_leaf=min_samples_leaf,\n",
    "                                 max_depth=max_depth, \n",
    "                                 max_features=max_features, \n",
    "                                 subsample=subsample,\n",
    "                                 params=params,\n",
    "                                 cv=5)"
   ]
  },
  {
   "cell_type": "code",
   "execution_count": 79,
   "id": "7ff1d8fa",
   "metadata": {},
   "outputs": [
    {
     "data": {
      "application/javascript": [
       "\n",
       "            setTimeout(function() {\n",
       "                var nbb_cell_id = 79;\n",
       "                var nbb_unformatted_code = \"# Atualizando as vari\\u00e1veis com os resultados\\nmodels = np.append(models, gbc)\\nopt_params = {**opt_params, **opt_param}\\nscores = np.append(scores, score)\";\n",
       "                var nbb_formatted_code = \"# Atualizando as vari\\u00e1veis com os resultados\\nmodels = np.append(models, gbc)\\nopt_params = {**opt_params, **opt_param}\\nscores = np.append(scores, score)\";\n",
       "                var nbb_cells = Jupyter.notebook.get_cells();\n",
       "                for (var i = 0; i < nbb_cells.length; ++i) {\n",
       "                    if (nbb_cells[i].input_prompt_number == nbb_cell_id) {\n",
       "                        if (nbb_cells[i].get_text() == nbb_unformatted_code) {\n",
       "                             nbb_cells[i].set_text(nbb_formatted_code);\n",
       "                        }\n",
       "                        break;\n",
       "                    }\n",
       "                }\n",
       "            }, 500);\n",
       "            "
      ],
      "text/plain": [
       "<IPython.core.display.Javascript object>"
      ]
     },
     "metadata": {},
     "output_type": "display_data"
    }
   ],
   "source": [
    "# Atualizando as variáveis com os resultados\n",
    "models = np.append(models, gbc)\n",
    "opt_params = {**opt_params, **opt_param}\n",
    "scores = np.append(scores, score)"
   ]
  },
  {
   "cell_type": "markdown",
   "id": "fc13b50b",
   "metadata": {},
   "source": [
    "------------------------------------------"
   ]
  },
  {
   "cell_type": "markdown",
   "id": "e4a55118",
   "metadata": {},
   "source": [
    "### 6.5 Quarto Modelo - max_features"
   ]
  },
  {
   "cell_type": "code",
   "execution_count": 80,
   "id": "a9362eca",
   "metadata": {},
   "outputs": [
    {
     "data": {
      "application/javascript": [
       "\n",
       "            setTimeout(function() {\n",
       "                var nbb_cell_id = 80;\n",
       "                var nbb_unformatted_code = \"min_samples_leaf = opt_params['min_samples_leaf']\\nmax_features = None\\n\\nparams = {'max_features' : (range(21, 31, 1))}\";\n",
       "                var nbb_formatted_code = \"min_samples_leaf = opt_params[\\\"min_samples_leaf\\\"]\\nmax_features = None\\n\\nparams = {\\\"max_features\\\": (range(21, 31, 1))}\";\n",
       "                var nbb_cells = Jupyter.notebook.get_cells();\n",
       "                for (var i = 0; i < nbb_cells.length; ++i) {\n",
       "                    if (nbb_cells[i].input_prompt_number == nbb_cell_id) {\n",
       "                        if (nbb_cells[i].get_text() == nbb_unformatted_code) {\n",
       "                             nbb_cells[i].set_text(nbb_formatted_code);\n",
       "                        }\n",
       "                        break;\n",
       "                    }\n",
       "                }\n",
       "            }, 500);\n",
       "            "
      ],
      "text/plain": [
       "<IPython.core.display.Javascript object>"
      ]
     },
     "metadata": {},
     "output_type": "display_data"
    }
   ],
   "source": [
    "min_samples_leaf = opt_params[\"min_samples_leaf\"]\n",
    "max_features = None\n",
    "\n",
    "params = {\"max_features\": (range(21, 31, 1))}"
   ]
  },
  {
   "cell_type": "code",
   "execution_count": 81,
   "id": "5e4a80c8",
   "metadata": {},
   "outputs": [
    {
     "name": "stdout",
     "output_type": "stream",
     "text": [
      "{'max_features': 23} 0.6766611926183973\n",
      "CPU times: total: 7.83 s\n",
      "Wall time: 3min 6s\n"
     ]
    },
    {
     "data": {
      "application/javascript": [
       "\n",
       "            setTimeout(function() {\n",
       "                var nbb_cell_id = 81;\n",
       "                var nbb_unformatted_code = \"%%time\\ngbc, opt_param, score = optimize(n_estimators=n_estimators, \\n                                 learning_rate=learning_rate, \\n                                 min_samples_split=min_samples_split, \\n                                 min_samples_leaf=min_samples_leaf,\\n                                 max_depth=max_depth, \\n                                 max_features=max_features, \\n                                 subsample=subsample,\\n                                 params=params,\\n                                 cv=5)\";\n",
       "                var nbb_formatted_code = \"%%time\\ngbc, opt_param, score = optimize(n_estimators=n_estimators, \\n                                 learning_rate=learning_rate, \\n                                 min_samples_split=min_samples_split, \\n                                 min_samples_leaf=min_samples_leaf,\\n                                 max_depth=max_depth, \\n                                 max_features=max_features, \\n                                 subsample=subsample,\\n                                 params=params,\\n                                 cv=5)\";\n",
       "                var nbb_cells = Jupyter.notebook.get_cells();\n",
       "                for (var i = 0; i < nbb_cells.length; ++i) {\n",
       "                    if (nbb_cells[i].input_prompt_number == nbb_cell_id) {\n",
       "                        if (nbb_cells[i].get_text() == nbb_unformatted_code) {\n",
       "                             nbb_cells[i].set_text(nbb_formatted_code);\n",
       "                        }\n",
       "                        break;\n",
       "                    }\n",
       "                }\n",
       "            }, 500);\n",
       "            "
      ],
      "text/plain": [
       "<IPython.core.display.Javascript object>"
      ]
     },
     "metadata": {},
     "output_type": "display_data"
    }
   ],
   "source": [
    "%%time\n",
    "gbc, opt_param, score = optimize(n_estimators=n_estimators, \n",
    "                                 learning_rate=learning_rate, \n",
    "                                 min_samples_split=min_samples_split, \n",
    "                                 min_samples_leaf=min_samples_leaf,\n",
    "                                 max_depth=max_depth, \n",
    "                                 max_features=max_features, \n",
    "                                 subsample=subsample,\n",
    "                                 params=params,\n",
    "                                 cv=5)"
   ]
  },
  {
   "cell_type": "code",
   "execution_count": 82,
   "id": "71951104",
   "metadata": {},
   "outputs": [
    {
     "data": {
      "application/javascript": [
       "\n",
       "            setTimeout(function() {\n",
       "                var nbb_cell_id = 82;\n",
       "                var nbb_unformatted_code = \"# Atualizando as vari\\u00e1veis com os resultados\\nmodels = np.append(models, gbc)\\nopt_params = {**opt_params, **opt_param}\\nscores = np.append(scores, score)\";\n",
       "                var nbb_formatted_code = \"# Atualizando as vari\\u00e1veis com os resultados\\nmodels = np.append(models, gbc)\\nopt_params = {**opt_params, **opt_param}\\nscores = np.append(scores, score)\";\n",
       "                var nbb_cells = Jupyter.notebook.get_cells();\n",
       "                for (var i = 0; i < nbb_cells.length; ++i) {\n",
       "                    if (nbb_cells[i].input_prompt_number == nbb_cell_id) {\n",
       "                        if (nbb_cells[i].get_text() == nbb_unformatted_code) {\n",
       "                             nbb_cells[i].set_text(nbb_formatted_code);\n",
       "                        }\n",
       "                        break;\n",
       "                    }\n",
       "                }\n",
       "            }, 500);\n",
       "            "
      ],
      "text/plain": [
       "<IPython.core.display.Javascript object>"
      ]
     },
     "metadata": {},
     "output_type": "display_data"
    }
   ],
   "source": [
    "# Atualizando as variáveis com os resultados\n",
    "models = np.append(models, gbc)\n",
    "opt_params = {**opt_params, **opt_param}\n",
    "scores = np.append(scores, score)"
   ]
  },
  {
   "cell_type": "markdown",
   "id": "8061b35f",
   "metadata": {},
   "source": [
    "--------------------------"
   ]
  },
  {
   "cell_type": "markdown",
   "id": "b9ffeb97",
   "metadata": {},
   "source": [
    "### 6.6 Quinto Modelo - subsample"
   ]
  },
  {
   "cell_type": "code",
   "execution_count": 83,
   "id": "4b91ab5c",
   "metadata": {},
   "outputs": [
    {
     "data": {
      "application/javascript": [
       "\n",
       "            setTimeout(function() {\n",
       "                var nbb_cell_id = 83;\n",
       "                var nbb_unformatted_code = \"max_features = opt_params['max_features']\\nsubsample = None\\n\\nparams = {'subsample' : np.append(np.arange(0.6, 1, 0.05), 1)}\";\n",
       "                var nbb_formatted_code = \"max_features = opt_params[\\\"max_features\\\"]\\nsubsample = None\\n\\nparams = {\\\"subsample\\\": np.append(np.arange(0.6, 1, 0.05), 1)}\";\n",
       "                var nbb_cells = Jupyter.notebook.get_cells();\n",
       "                for (var i = 0; i < nbb_cells.length; ++i) {\n",
       "                    if (nbb_cells[i].input_prompt_number == nbb_cell_id) {\n",
       "                        if (nbb_cells[i].get_text() == nbb_unformatted_code) {\n",
       "                             nbb_cells[i].set_text(nbb_formatted_code);\n",
       "                        }\n",
       "                        break;\n",
       "                    }\n",
       "                }\n",
       "            }, 500);\n",
       "            "
      ],
      "text/plain": [
       "<IPython.core.display.Javascript object>"
      ]
     },
     "metadata": {},
     "output_type": "display_data"
    }
   ],
   "source": [
    "max_features = opt_params[\"max_features\"]\n",
    "subsample = None\n",
    "\n",
    "params = {\"subsample\": np.append(np.arange(0.6, 1, 0.05), 1)}"
   ]
  },
  {
   "cell_type": "code",
   "execution_count": 84,
   "id": "75e89ca5",
   "metadata": {},
   "outputs": [
    {
     "name": "stdout",
     "output_type": "stream",
     "text": [
      "{'subsample': 0.9500000000000003} 0.6772940725088253\n",
      "CPU times: total: 11.3 s\n",
      "Wall time: 2min 51s\n"
     ]
    },
    {
     "data": {
      "application/javascript": [
       "\n",
       "            setTimeout(function() {\n",
       "                var nbb_cell_id = 84;\n",
       "                var nbb_unformatted_code = \"%%time\\ngbc, opt_param, score = optimize(n_estimators=n_estimators, \\n                                 learning_rate=learning_rate, \\n                                 min_samples_split=min_samples_split, \\n                                 min_samples_leaf=min_samples_leaf,\\n                                 max_depth=max_depth, \\n                                 max_features=max_features, \\n                                 subsample=subsample,\\n                                 params=params,\\n                                 cv=5)\";\n",
       "                var nbb_formatted_code = \"%%time\\ngbc, opt_param, score = optimize(n_estimators=n_estimators, \\n                                 learning_rate=learning_rate, \\n                                 min_samples_split=min_samples_split, \\n                                 min_samples_leaf=min_samples_leaf,\\n                                 max_depth=max_depth, \\n                                 max_features=max_features, \\n                                 subsample=subsample,\\n                                 params=params,\\n                                 cv=5)\";\n",
       "                var nbb_cells = Jupyter.notebook.get_cells();\n",
       "                for (var i = 0; i < nbb_cells.length; ++i) {\n",
       "                    if (nbb_cells[i].input_prompt_number == nbb_cell_id) {\n",
       "                        if (nbb_cells[i].get_text() == nbb_unformatted_code) {\n",
       "                             nbb_cells[i].set_text(nbb_formatted_code);\n",
       "                        }\n",
       "                        break;\n",
       "                    }\n",
       "                }\n",
       "            }, 500);\n",
       "            "
      ],
      "text/plain": [
       "<IPython.core.display.Javascript object>"
      ]
     },
     "metadata": {},
     "output_type": "display_data"
    }
   ],
   "source": [
    "%%time\n",
    "gbc, opt_param, score = optimize(n_estimators=n_estimators, \n",
    "                                 learning_rate=learning_rate, \n",
    "                                 min_samples_split=min_samples_split, \n",
    "                                 min_samples_leaf=min_samples_leaf,\n",
    "                                 max_depth=max_depth, \n",
    "                                 max_features=max_features, \n",
    "                                 subsample=subsample,\n",
    "                                 params=params,\n",
    "                                 cv=5)"
   ]
  },
  {
   "cell_type": "code",
   "execution_count": 85,
   "id": "1a0ffefc",
   "metadata": {},
   "outputs": [
    {
     "data": {
      "application/javascript": [
       "\n",
       "            setTimeout(function() {\n",
       "                var nbb_cell_id = 85;\n",
       "                var nbb_unformatted_code = \"# Atualizando as vari\\u00e1veis com os resultados\\nmodels = np.append(models, gbc)\\nopt_params = {**opt_params, **opt_param}\\nscores = np.append(scores, score)\";\n",
       "                var nbb_formatted_code = \"# Atualizando as vari\\u00e1veis com os resultados\\nmodels = np.append(models, gbc)\\nopt_params = {**opt_params, **opt_param}\\nscores = np.append(scores, score)\";\n",
       "                var nbb_cells = Jupyter.notebook.get_cells();\n",
       "                for (var i = 0; i < nbb_cells.length; ++i) {\n",
       "                    if (nbb_cells[i].input_prompt_number == nbb_cell_id) {\n",
       "                        if (nbb_cells[i].get_text() == nbb_unformatted_code) {\n",
       "                             nbb_cells[i].set_text(nbb_formatted_code);\n",
       "                        }\n",
       "                        break;\n",
       "                    }\n",
       "                }\n",
       "            }, 500);\n",
       "            "
      ],
      "text/plain": [
       "<IPython.core.display.Javascript object>"
      ]
     },
     "metadata": {},
     "output_type": "display_data"
    }
   ],
   "source": [
    "# Atualizando as variáveis com os resultados\n",
    "models = np.append(models, gbc)\n",
    "opt_params = {**opt_params, **opt_param}\n",
    "scores = np.append(scores, score)"
   ]
  },
  {
   "cell_type": "markdown",
   "id": "19d1b112",
   "metadata": {},
   "source": [
    "----------------------------------"
   ]
  },
  {
   "cell_type": "markdown",
   "id": "837abe34",
   "metadata": {},
   "source": [
    "### 6.7 Sexto Modelo - learning_rate"
   ]
  },
  {
   "cell_type": "markdown",
   "id": "66391975",
   "metadata": {},
   "source": [
    "#### Criaremos uma nova função para obter o melhor learning_rate"
   ]
  },
  {
   "cell_type": "code",
   "execution_count": 86,
   "id": "a14d1002",
   "metadata": {},
   "outputs": [
    {
     "data": {
      "application/javascript": [
       "\n",
       "            setTimeout(function() {\n",
       "                var nbb_cell_id = 86;\n",
       "                var nbb_unformatted_code = \"def optimize2(n_estimators, learning_rate, min_samples_split, min_samples_leaf, max_depth, \\n             max_features,subsample, cv = 5):\\n    \\n    gbc = GradientBoostingClassifier(n_estimators=n_estimators, \\n                                     learning_rate=learning_rate, \\n                                     min_samples_split=min_samples_split, \\n                                     min_samples_leaf=min_samples_leaf,\\n                                     max_depth=max_depth, \\n                                     max_features=max_features, \\n                                     subsample=subsample)\\n    \\n    cv_scores = cross_val_score(gbc, X_train, y_train, scoring='roc_auc', cv=cv, n_jobs =-1)\\n    score = cv_scores.mean()\\n    plt.plot(np.append(scores, score))\\n    plt.title(f'n_estimators = {n_estimators} / learning rate = {learning_rate}')\\n    \\n    return gbc, score\";\n",
       "                var nbb_formatted_code = \"def optimize2(\\n    n_estimators,\\n    learning_rate,\\n    min_samples_split,\\n    min_samples_leaf,\\n    max_depth,\\n    max_features,\\n    subsample,\\n    cv=5,\\n):\\n\\n    gbc = GradientBoostingClassifier(\\n        n_estimators=n_estimators,\\n        learning_rate=learning_rate,\\n        min_samples_split=min_samples_split,\\n        min_samples_leaf=min_samples_leaf,\\n        max_depth=max_depth,\\n        max_features=max_features,\\n        subsample=subsample,\\n    )\\n\\n    cv_scores = cross_val_score(\\n        gbc, X_train, y_train, scoring=\\\"roc_auc\\\", cv=cv, n_jobs=-1\\n    )\\n    score = cv_scores.mean()\\n    plt.plot(np.append(scores, score))\\n    plt.title(f\\\"n_estimators = {n_estimators} / learning rate = {learning_rate}\\\")\\n\\n    return gbc, score\";\n",
       "                var nbb_cells = Jupyter.notebook.get_cells();\n",
       "                for (var i = 0; i < nbb_cells.length; ++i) {\n",
       "                    if (nbb_cells[i].input_prompt_number == nbb_cell_id) {\n",
       "                        if (nbb_cells[i].get_text() == nbb_unformatted_code) {\n",
       "                             nbb_cells[i].set_text(nbb_formatted_code);\n",
       "                        }\n",
       "                        break;\n",
       "                    }\n",
       "                }\n",
       "            }, 500);\n",
       "            "
      ],
      "text/plain": [
       "<IPython.core.display.Javascript object>"
      ]
     },
     "metadata": {},
     "output_type": "display_data"
    }
   ],
   "source": [
    "def optimize2(\n",
    "    n_estimators,\n",
    "    learning_rate,\n",
    "    min_samples_split,\n",
    "    min_samples_leaf,\n",
    "    max_depth,\n",
    "    max_features,\n",
    "    subsample,\n",
    "    cv=5,\n",
    "):\n",
    "\n",
    "    gbc = GradientBoostingClassifier(\n",
    "        n_estimators=n_estimators,\n",
    "        learning_rate=learning_rate,\n",
    "        min_samples_split=min_samples_split,\n",
    "        min_samples_leaf=min_samples_leaf,\n",
    "        max_depth=max_depth,\n",
    "        max_features=max_features,\n",
    "        subsample=subsample,\n",
    "    )\n",
    "\n",
    "    cv_scores = cross_val_score(\n",
    "        gbc, X_train, y_train, scoring=\"roc_auc\", cv=cv, n_jobs=-1\n",
    "    )\n",
    "    score = cv_scores.mean()\n",
    "    plt.plot(np.append(scores, score))\n",
    "    plt.title(f\"n_estimators = {n_estimators} / learning rate = {learning_rate}\")\n",
    "\n",
    "    return gbc, score"
   ]
  },
  {
   "cell_type": "code",
   "execution_count": 87,
   "id": "7aebcad0",
   "metadata": {},
   "outputs": [
    {
     "data": {
      "application/javascript": [
       "\n",
       "            setTimeout(function() {\n",
       "                var nbb_cell_id = 87;\n",
       "                var nbb_unformatted_code = \"subsample = opt_params['subsample']\\nlearning_rate /= 2\\nn_estimators *= 2\";\n",
       "                var nbb_formatted_code = \"subsample = opt_params[\\\"subsample\\\"]\\nlearning_rate /= 2\\nn_estimators *= 2\";\n",
       "                var nbb_cells = Jupyter.notebook.get_cells();\n",
       "                for (var i = 0; i < nbb_cells.length; ++i) {\n",
       "                    if (nbb_cells[i].input_prompt_number == nbb_cell_id) {\n",
       "                        if (nbb_cells[i].get_text() == nbb_unformatted_code) {\n",
       "                             nbb_cells[i].set_text(nbb_formatted_code);\n",
       "                        }\n",
       "                        break;\n",
       "                    }\n",
       "                }\n",
       "            }, 500);\n",
       "            "
      ],
      "text/plain": [
       "<IPython.core.display.Javascript object>"
      ]
     },
     "metadata": {},
     "output_type": "display_data"
    }
   ],
   "source": [
    "subsample = opt_params[\"subsample\"]\n",
    "learning_rate /= 2\n",
    "n_estimators *= 2"
   ]
  },
  {
   "cell_type": "code",
   "execution_count": 88,
   "id": "11b890a4",
   "metadata": {},
   "outputs": [
    {
     "data": {
      "image/png": "[encoded data removed]",
      "text/plain": [
       "<Figure size 640x480 with 1 Axes>"
      ]
     },
     "metadata": {},
     "output_type": "display_data"
    },
    {
     "data": {
      "application/javascript": [
       "\n",
       "            setTimeout(function() {\n",
       "                var nbb_cell_id = 88;\n",
       "                var nbb_unformatted_code = \"gbc, score = optimize2(n_estimators=n_estimators, \\n                                 learning_rate=learning_rate, \\n                                 min_samples_split=min_samples_split, \\n                                 min_samples_leaf=min_samples_leaf,\\n                                 max_depth=max_depth, \\n                                 max_features=max_features, \\n                                 subsample=subsample,\\n                                 cv=5)\";\n",
       "                var nbb_formatted_code = \"gbc, score = optimize2(\\n    n_estimators=n_estimators,\\n    learning_rate=learning_rate,\\n    min_samples_split=min_samples_split,\\n    min_samples_leaf=min_samples_leaf,\\n    max_depth=max_depth,\\n    max_features=max_features,\\n    subsample=subsample,\\n    cv=5,\\n)\";\n",
       "                var nbb_cells = Jupyter.notebook.get_cells();\n",
       "                for (var i = 0; i < nbb_cells.length; ++i) {\n",
       "                    if (nbb_cells[i].input_prompt_number == nbb_cell_id) {\n",
       "                        if (nbb_cells[i].get_text() == nbb_unformatted_code) {\n",
       "                             nbb_cells[i].set_text(nbb_formatted_code);\n",
       "                        }\n",
       "                        break;\n",
       "                    }\n",
       "                }\n",
       "            }, 500);\n",
       "            "
      ],
      "text/plain": [
       "<IPython.core.display.Javascript object>"
      ]
     },
     "metadata": {},
     "output_type": "display_data"
    }
   ],
   "source": [
    "gbc, score = optimize2(\n",
    "    n_estimators=n_estimators,\n",
    "    learning_rate=learning_rate,\n",
    "    min_samples_split=min_samples_split,\n",
    "    min_samples_leaf=min_samples_leaf,\n",
    "    max_depth=max_depth,\n",
    "    max_features=max_features,\n",
    "    subsample=subsample,\n",
    "    cv=5,\n",
    ")"
   ]
  },
  {
   "cell_type": "code",
   "execution_count": 89,
   "id": "b30f503c",
   "metadata": {},
   "outputs": [
    {
     "data": {
      "application/javascript": [
       "\n",
       "            setTimeout(function() {\n",
       "                var nbb_cell_id = 89;\n",
       "                var nbb_unformatted_code = \"# Atualizando as vari\\u00e1veis com os resultados\\nmodels = np.append(models, gbc)\\nscores = np.append(scores, score)\";\n",
       "                var nbb_formatted_code = \"# Atualizando as vari\\u00e1veis com os resultados\\nmodels = np.append(models, gbc)\\nscores = np.append(scores, score)\";\n",
       "                var nbb_cells = Jupyter.notebook.get_cells();\n",
       "                for (var i = 0; i < nbb_cells.length; ++i) {\n",
       "                    if (nbb_cells[i].input_prompt_number == nbb_cell_id) {\n",
       "                        if (nbb_cells[i].get_text() == nbb_unformatted_code) {\n",
       "                             nbb_cells[i].set_text(nbb_formatted_code);\n",
       "                        }\n",
       "                        break;\n",
       "                    }\n",
       "                }\n",
       "            }, 500);\n",
       "            "
      ],
      "text/plain": [
       "<IPython.core.display.Javascript object>"
      ]
     },
     "metadata": {},
     "output_type": "display_data"
    }
   ],
   "source": [
    "# Atualizando as variáveis com os resultados\n",
    "models = np.append(models, gbc)\n",
    "scores = np.append(scores, score)"
   ]
  },
  {
   "cell_type": "markdown",
   "id": "cfb5a081",
   "metadata": {},
   "source": [
    "-------------------"
   ]
  },
  {
   "cell_type": "markdown",
   "id": "20cfb97a",
   "metadata": {},
   "source": [
    "### 6.8 Sétimo Modelo - aprimorando learning_rate "
   ]
  },
  {
   "cell_type": "code",
   "execution_count": 90,
   "id": "29091b08",
   "metadata": {},
   "outputs": [
    {
     "data": {
      "application/javascript": [
       "\n",
       "            setTimeout(function() {\n",
       "                var nbb_cell_id = 90;\n",
       "                var nbb_unformatted_code = \"learning_rate /= 5\\nn_estimators *= 5\";\n",
       "                var nbb_formatted_code = \"learning_rate /= 5\\nn_estimators *= 5\";\n",
       "                var nbb_cells = Jupyter.notebook.get_cells();\n",
       "                for (var i = 0; i < nbb_cells.length; ++i) {\n",
       "                    if (nbb_cells[i].input_prompt_number == nbb_cell_id) {\n",
       "                        if (nbb_cells[i].get_text() == nbb_unformatted_code) {\n",
       "                             nbb_cells[i].set_text(nbb_formatted_code);\n",
       "                        }\n",
       "                        break;\n",
       "                    }\n",
       "                }\n",
       "            }, 500);\n",
       "            "
      ],
      "text/plain": [
       "<IPython.core.display.Javascript object>"
      ]
     },
     "metadata": {},
     "output_type": "display_data"
    }
   ],
   "source": [
    "learning_rate /= 5\n",
    "n_estimators *= 5"
   ]
  },
  {
   "cell_type": "code",
   "execution_count": 91,
   "id": "f2a42e9d",
   "metadata": {},
   "outputs": [
    {
     "data": {
      "image/png": "[encoded data removed]",
      "text/plain": [
       "<Figure size 640x480 with 1 Axes>"
      ]
     },
     "metadata": {},
     "output_type": "display_data"
    },
    {
     "data": {
      "application/javascript": [
       "\n",
       "            setTimeout(function() {\n",
       "                var nbb_cell_id = 91;\n",
       "                var nbb_unformatted_code = \"gbc, score = optimize2(n_estimators=n_estimators, \\n                                 learning_rate=learning_rate, \\n                                 min_samples_split=min_samples_split, \\n                                 min_samples_leaf=min_samples_leaf,\\n                                 max_depth=max_depth, \\n                                 max_features=max_features, \\n                                 subsample=subsample,\\n                                 cv=5)\";\n",
       "                var nbb_formatted_code = \"gbc, score = optimize2(\\n    n_estimators=n_estimators,\\n    learning_rate=learning_rate,\\n    min_samples_split=min_samples_split,\\n    min_samples_leaf=min_samples_leaf,\\n    max_depth=max_depth,\\n    max_features=max_features,\\n    subsample=subsample,\\n    cv=5,\\n)\";\n",
       "                var nbb_cells = Jupyter.notebook.get_cells();\n",
       "                for (var i = 0; i < nbb_cells.length; ++i) {\n",
       "                    if (nbb_cells[i].input_prompt_number == nbb_cell_id) {\n",
       "                        if (nbb_cells[i].get_text() == nbb_unformatted_code) {\n",
       "                             nbb_cells[i].set_text(nbb_formatted_code);\n",
       "                        }\n",
       "                        break;\n",
       "                    }\n",
       "                }\n",
       "            }, 500);\n",
       "            "
      ],
      "text/plain": [
       "<IPython.core.display.Javascript object>"
      ]
     },
     "metadata": {},
     "output_type": "display_data"
    }
   ],
   "source": [
    "gbc, score = optimize2(\n",
    "    n_estimators=n_estimators,\n",
    "    learning_rate=learning_rate,\n",
    "    min_samples_split=min_samples_split,\n",
    "    min_samples_leaf=min_samples_leaf,\n",
    "    max_depth=max_depth,\n",
    "    max_features=max_features,\n",
    "    subsample=subsample,\n",
    "    cv=5,\n",
    ")"
   ]
  },
  {
   "cell_type": "code",
   "execution_count": 92,
   "id": "51b54713",
   "metadata": {},
   "outputs": [
    {
     "data": {
      "application/javascript": [
       "\n",
       "            setTimeout(function() {\n",
       "                var nbb_cell_id = 92;\n",
       "                var nbb_unformatted_code = \"# Atualizando as vari\\u00e1veis com os resultados\\nmodels = np.append(models, gbc)\\nscores = np.append(scores, score)\";\n",
       "                var nbb_formatted_code = \"# Atualizando as vari\\u00e1veis com os resultados\\nmodels = np.append(models, gbc)\\nscores = np.append(scores, score)\";\n",
       "                var nbb_cells = Jupyter.notebook.get_cells();\n",
       "                for (var i = 0; i < nbb_cells.length; ++i) {\n",
       "                    if (nbb_cells[i].input_prompt_number == nbb_cell_id) {\n",
       "                        if (nbb_cells[i].get_text() == nbb_unformatted_code) {\n",
       "                             nbb_cells[i].set_text(nbb_formatted_code);\n",
       "                        }\n",
       "                        break;\n",
       "                    }\n",
       "                }\n",
       "            }, 500);\n",
       "            "
      ],
      "text/plain": [
       "<IPython.core.display.Javascript object>"
      ]
     },
     "metadata": {},
     "output_type": "display_data"
    }
   ],
   "source": [
    "# Atualizando as variáveis com os resultados\n",
    "models = np.append(models, gbc)\n",
    "scores = np.append(scores, score)"
   ]
  },
  {
   "cell_type": "markdown",
   "id": "0c7b1c1f",
   "metadata": {},
   "source": [
    "-----------------------------------"
   ]
  },
  {
   "cell_type": "markdown",
   "id": "ba8def9d",
   "metadata": {},
   "source": [
    "## 7. Melhor Modelo"
   ]
  },
  {
   "cell_type": "code",
   "execution_count": 93,
   "id": "ac8d0ffc",
   "metadata": {},
   "outputs": [
    {
     "name": "stdout",
     "output_type": "stream",
     "text": [
      "Modelo com o melhor desempenho: 6 -- AUC: 0.6793430452966323\n"
     ]
    },
    {
     "data": {
      "application/javascript": [
       "\n",
       "            setTimeout(function() {\n",
       "                var nbb_cell_id = 93;\n",
       "                var nbb_unformatted_code = \"print(f'Modelo com o melhor desempenho: {scores.argmax()} -- AUC: {max(scores)}')\";\n",
       "                var nbb_formatted_code = \"print(f\\\"Modelo com o melhor desempenho: {scores.argmax()} -- AUC: {max(scores)}\\\")\";\n",
       "                var nbb_cells = Jupyter.notebook.get_cells();\n",
       "                for (var i = 0; i < nbb_cells.length; ++i) {\n",
       "                    if (nbb_cells[i].input_prompt_number == nbb_cell_id) {\n",
       "                        if (nbb_cells[i].get_text() == nbb_unformatted_code) {\n",
       "                             nbb_cells[i].set_text(nbb_formatted_code);\n",
       "                        }\n",
       "                        break;\n",
       "                    }\n",
       "                }\n",
       "            }, 500);\n",
       "            "
      ],
      "text/plain": [
       "<IPython.core.display.Javascript object>"
      ]
     },
     "metadata": {},
     "output_type": "display_data"
    }
   ],
   "source": [
    "print(f\"Modelo com o melhor desempenho: {scores.argmax()} -- AUC: {max(scores)}\")"
   ]
  },
  {
   "cell_type": "markdown",
   "id": "a4bd42d3",
   "metadata": {},
   "source": [
    "### 7.1 Visualizando os melhores parâmetros"
   ]
  },
  {
   "cell_type": "code",
   "execution_count": 95,
   "id": "661fbe9d",
   "metadata": {},
   "outputs": [
    {
     "data": {
      "application/javascript": [
       "\n",
       "            setTimeout(function() {\n",
       "                var nbb_cell_id = 95;\n",
       "                var nbb_unformatted_code = \"best_model = models[scores.argmax()]\";\n",
       "                var nbb_formatted_code = \"best_model = models[scores.argmax()]\";\n",
       "                var nbb_cells = Jupyter.notebook.get_cells();\n",
       "                for (var i = 0; i < nbb_cells.length; ++i) {\n",
       "                    if (nbb_cells[i].input_prompt_number == nbb_cell_id) {\n",
       "                        if (nbb_cells[i].get_text() == nbb_unformatted_code) {\n",
       "                             nbb_cells[i].set_text(nbb_formatted_code);\n",
       "                        }\n",
       "                        break;\n",
       "                    }\n",
       "                }\n",
       "            }, 500);\n",
       "            "
      ],
      "text/plain": [
       "<IPython.core.display.Javascript object>"
      ]
     },
     "metadata": {},
     "output_type": "display_data"
    }
   ],
   "source": [
    "best_model = models[scores.argmax()]"
   ]
  },
  {
   "cell_type": "code",
   "execution_count": 96,
   "id": "dab9e4bb",
   "metadata": {},
   "outputs": [
    {
     "data": {
      "text/html": [
       "<style>#sk-container-id-2 {color: black;background-color: white;}#sk-container-id-2 pre{padding: 0;}#sk-container-id-2 div.sk-toggleable {background-color: white;}#sk-container-id-2 label.sk-toggleable__label {cursor: pointer;display: block;width: 100%;margin-bottom: 0;padding: 0.3em;box-sizing: border-box;text-align: center;}#sk-container-id-2 label.sk-toggleable__label-arrow:before {content: \"▸\";float: left;margin-right: 0.25em;color: #696969;}#sk-container-id-2 label.sk-toggleable__label-arrow:hover:before {color: black;}#sk-container-id-2 div.sk-estimator:hover label.sk-toggleable__label-arrow:before {color: black;}#sk-container-id-2 div.sk-toggleable__content {max-height: 0;max-width: 0;overflow: hidden;text-align: left;background-color: #f0f8ff;}#sk-container-id-2 div.sk-toggleable__content pre {margin: 0.2em;color: black;border-radius: 0.25em;background-color: #f0f8ff;}#sk-container-id-2 input.sk-toggleable__control:checked~div.sk-toggleable__content {max-height: 200px;max-width: 100%;overflow: auto;}#sk-container-id-2 input.sk-toggleable__control:checked~label.sk-toggleable__label-arrow:before {content: \"▾\";}#sk-container-id-2 div.sk-estimator input.sk-toggleable__control:checked~label.sk-toggleable__label {background-color: #d4ebff;}#sk-container-id-2 div.sk-label input.sk-toggleable__control:checked~label.sk-toggleable__label {background-color: #d4ebff;}#sk-container-id-2 input.sk-hidden--visually {border: 0;clip: rect(1px 1px 1px 1px);clip: rect(1px, 1px, 1px, 1px);height: 1px;margin: -1px;overflow: hidden;padding: 0;position: absolute;width: 1px;}#sk-container-id-2 div.sk-estimator {font-family: monospace;background-color: #f0f8ff;border: 1px dotted black;border-radius: 0.25em;box-sizing: border-box;margin-bottom: 0.5em;}#sk-container-id-2 div.sk-estimator:hover {background-color: #d4ebff;}#sk-container-id-2 div.sk-parallel-item::after {content: \"\";width: 100%;border-bottom: 1px solid gray;flex-grow: 1;}#sk-container-id-2 div.sk-label:hover label.sk-toggleable__label {background-color: #d4ebff;}#sk-container-id-2 div.sk-serial::before {content: \"\";position: absolute;border-left: 1px solid gray;box-sizing: border-box;top: 0;bottom: 0;left: 50%;z-index: 0;}#sk-container-id-2 div.sk-serial {display: flex;flex-direction: column;align-items: center;background-color: white;padding-right: 0.2em;padding-left: 0.2em;position: relative;}#sk-container-id-2 div.sk-item {position: relative;z-index: 1;}#sk-container-id-2 div.sk-parallel {display: flex;align-items: stretch;justify-content: center;background-color: white;position: relative;}#sk-container-id-2 div.sk-item::before, #sk-container-id-2 div.sk-parallel-item::before {content: \"\";position: absolute;border-left: 1px solid gray;box-sizing: border-box;top: 0;bottom: 0;left: 50%;z-index: -1;}#sk-container-id-2 div.sk-parallel-item {display: flex;flex-direction: column;z-index: 1;position: relative;background-color: white;}#sk-container-id-2 div.sk-parallel-item:first-child::after {align-self: flex-end;width: 50%;}#sk-container-id-2 div.sk-parallel-item:last-child::after {align-self: flex-start;width: 50%;}#sk-container-id-2 div.sk-parallel-item:only-child::after {width: 0;}#sk-container-id-2 div.sk-dashed-wrapped {border: 1px dashed gray;margin: 0 0.4em 0.5em 0.4em;box-sizing: border-box;padding-bottom: 0.4em;background-color: white;}#sk-container-id-2 div.sk-label label {font-family: monospace;font-weight: bold;display: inline-block;line-height: 1.2em;}#sk-container-id-2 div.sk-label-container {text-align: center;}#sk-container-id-2 div.sk-container {/* jupyter's `normalize.less` sets `[hidden] { display: none; }` but bootstrap.min.css set `[hidden] { display: none !important; }` so we also need the `!important` here to be able to override the default hidden behavior on the sphinx rendered scikit-learn.org. See: https://github.com/scikit-learn/scikit-learn/issues/21755 */display: inline-block !important;position: relative;}#sk-container-id-2 div.sk-text-repr-fallback {display: none;}</style><div id=\"sk-container-id-2\" class=\"sk-top-container\"><div class=\"sk-text-repr-fallback\"><pre>GradientBoostingClassifier(learning_rate=0.01, max_depth=5, max_features=23,\n",
       "                           min_samples_leaf=55, min_samples_split=250,\n",
       "                           n_estimators=1100, subsample=0.9500000000000003)</pre><b>In a Jupyter environment, please rerun this cell to show the HTML representation or trust the notebook. <br />On GitHub, the HTML representation is unable to render, please try loading this page with nbviewer.org.</b></div><div class=\"sk-container\" hidden><div class=\"sk-item\"><div class=\"sk-estimator sk-toggleable\"><input class=\"sk-toggleable__control sk-hidden--visually\" id=\"sk-estimator-id-2\" type=\"checkbox\" checked><label for=\"sk-estimator-id-2\" class=\"sk-toggleable__label sk-toggleable__label-arrow\">GradientBoostingClassifier</label><div class=\"sk-toggleable__content\"><pre>GradientBoostingClassifier(learning_rate=0.01, max_depth=5, max_features=23,\n",
       "                           min_samples_leaf=55, min_samples_split=250,\n",
       "                           n_estimators=1100, subsample=0.9500000000000003)</pre></div></div></div></div></div>"
      ],
      "text/plain": [
       "GradientBoostingClassifier(learning_rate=0.01, max_depth=5, max_features=23,\n",
       "                           min_samples_leaf=55, min_samples_split=250,\n",
       "                           n_estimators=1100, subsample=0.9500000000000003)"
      ]
     },
     "execution_count": 96,
     "metadata": {},
     "output_type": "execute_result"
    },
    {
     "data": {
      "application/javascript": [
       "\n",
       "            setTimeout(function() {\n",
       "                var nbb_cell_id = 96;\n",
       "                var nbb_unformatted_code = \"best_model.fit(X_train, y_train)\";\n",
       "                var nbb_formatted_code = \"best_model.fit(X_train, y_train)\";\n",
       "                var nbb_cells = Jupyter.notebook.get_cells();\n",
       "                for (var i = 0; i < nbb_cells.length; ++i) {\n",
       "                    if (nbb_cells[i].input_prompt_number == nbb_cell_id) {\n",
       "                        if (nbb_cells[i].get_text() == nbb_unformatted_code) {\n",
       "                             nbb_cells[i].set_text(nbb_formatted_code);\n",
       "                        }\n",
       "                        break;\n",
       "                    }\n",
       "                }\n",
       "            }, 500);\n",
       "            "
      ],
      "text/plain": [
       "<IPython.core.display.Javascript object>"
      ]
     },
     "metadata": {},
     "output_type": "display_data"
    }
   ],
   "source": [
    "best_model.fit(X_train, y_train)"
   ]
  },
  {
   "cell_type": "markdown",
   "id": "b447ab23",
   "metadata": {},
   "source": [
    "### 7.2 Resultado da predição"
   ]
  },
  {
   "cell_type": "code",
   "execution_count": 97,
   "id": "c461e966",
   "metadata": {},
   "outputs": [
    {
     "data": {
      "text/plain": [
       "0.6842854042583975"
      ]
     },
     "execution_count": 97,
     "metadata": {},
     "output_type": "execute_result"
    },
    {
     "data": {
      "application/javascript": [
       "\n",
       "            setTimeout(function() {\n",
       "                var nbb_cell_id = 97;\n",
       "                var nbb_unformatted_code = \"y_pred_probs = best_model.predict_proba(X_test)\\n\\nroc_auc_score(y_test, y_pred_probs[:, 1])\";\n",
       "                var nbb_formatted_code = \"y_pred_probs = best_model.predict_proba(X_test)\\n\\nroc_auc_score(y_test, y_pred_probs[:, 1])\";\n",
       "                var nbb_cells = Jupyter.notebook.get_cells();\n",
       "                for (var i = 0; i < nbb_cells.length; ++i) {\n",
       "                    if (nbb_cells[i].input_prompt_number == nbb_cell_id) {\n",
       "                        if (nbb_cells[i].get_text() == nbb_unformatted_code) {\n",
       "                             nbb_cells[i].set_text(nbb_formatted_code);\n",
       "                        }\n",
       "                        break;\n",
       "                    }\n",
       "                }\n",
       "            }, 500);\n",
       "            "
      ],
      "text/plain": [
       "<IPython.core.display.Javascript object>"
      ]
     },
     "metadata": {},
     "output_type": "display_data"
    }
   ],
   "source": [
    "y_pred_probs = best_model.predict_proba(X_test)\n",
    "\n",
    "roc_auc_score(y_test, y_pred_probs[:, 1])"
   ]
  },
  {
   "cell_type": "markdown",
   "id": "e731e8cb",
   "metadata": {},
   "source": [
    "-------------------------"
   ]
  }
 ],
 "metadata": {
  "kernelspec": {
   "display_name": "Python 3 (ipykernel)",
   "language": "python",
   "name": "python3"
  },
  "language_info": {
   "codemirror_mode": {
    "name": "ipython",
    "version": 3
   },
   "file_extension": ".py",
   "mimetype": "text/x-python",
   "name": "python",
   "nbconvert_exporter": "python",
   "pygments_lexer": "ipython3",
   "version": "3.9.12"
  }
 },
 "nbformat": 4,
 "nbformat_minor": 5
}
