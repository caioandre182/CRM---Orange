{
 "cells": [
  {
   "cell_type": "markdown",
   "id": "a9d7cc3a",
   "metadata": {},
   "source": [
    "# <center>GESTÃO DE RELACIONAMENTO COM CLIENTE (CRM)</center>"
   ]
  },
  {
   "cell_type": "markdown",
   "id": "afc63df1",
   "metadata": {},
   "source": [
    "<img src='https://blog.multiedro.com.br/wp-content/uploads/2018/07/207884-como-usar-o-crm-na-gestao-de-relacionamento-com-o-cliente.jpg' width=400 heigth=400>"
   ]
  },
  {
   "cell_type": "markdown",
   "id": "d2a1d5e8",
   "metadata": {},
   "source": [
    "## 1 - Introdução"
   ]
  },
  {
   "cell_type": "markdown",
   "id": "4c29c1c9",
   "metadata": {},
   "source": [
    "### 1.1 Mas o que é isso?"
   ]
  },
  {
   "cell_type": "markdown",
   "id": "c8a9791e",
   "metadata": {},
   "source": [
    "<p>Gestão de relacionamento com o cliente é uma estratégia de negócios para qualquer empresa que busca melhorar as receitas e a lucratividade, além de reduzir custos e aumentar a fidelidade do cliente.</p>\n",
    "\n",
    "<p>Quando bem implementado, a getão de relacionamento com o cliente oferece às empresas não apenas uma visão das oportunidades de crescimento de negócios com cada cliente, mas também, uma maneira de medir seu valor dentro da jornada do consumidor.</p>\n",
    "\n",
    "<p>Uma forma prática de calcular essa relação com o cliente, é através de pontuações. Ferramentas que produzem pontuações permitem projetar informações quantificáveis em uma dada população. As pontuações  são então usadas pelo sistema de informação, por exemplo, para personalizar o relacionamento com o consumidor.</p>"
   ]
  },
  {
   "cell_type": "markdown",
   "id": "25c79d17",
   "metadata": {},
   "source": [
    "### 1.2 Objetivo"
   ]
  },
  {
   "cell_type": "markdown",
   "id": "1474bb82",
   "metadata": {},
   "source": [
    "<p>Em 2009, a conferência <b>Knowledge Discovery and Data Mining (KDD)</b> lançou um desafio envolvendo <code>Machine Learning</code>. Dados de consumidores foram disponibilizados da empresa de telecomunicações francesa <i>Orange</i>.</p>\n",
    "\n",
    "<p>O <code>Dataset</code> fornecido tem 50000 instâncias e 230 variáveis, as 190 primeiras são numéricas e as 40 restantes, categóricas. O objetivo é prover um modelo que seja capaz de prever <b>três comportamentos do consumidor.</b></p>\n",
    "\n",
    "<p>\n",
    "    As variáveis de saída do modelo são:\n",
    "        <ul><code>CHURN</code>: Prever o risco do cliente fazer o cancelamento.</ul>\n",
    "        <ul><code>APPETENCY</code>: A tendência do cliente de comprar novos produtos e serviços</ul>\n",
    "        <ul><code>UPSELLING</code>: Propensão para comprar upgrades ou adicionais com maior margem de lucro quando apresentados.</ul>\n",
    "</p>    "
   ]
  },
  {
   "cell_type": "markdown",
   "id": "8a367613",
   "metadata": {},
   "source": [
    "<p> \n",
    "    Neste <i>Notebook</i>, iremos fazer os tratamentos das variáveis, e gerar os <code>datasets</code>, que iremos utilizar para desenvolver nossos modelos. Ou seja, no final deste <i>Notebook</i>, terão 3 <code>datasets</code>, um para cada previsão que será feita.\n",
    "</p>"
   ]
  },
  {
   "cell_type": "markdown",
   "id": "e8404ff8",
   "metadata": {},
   "source": [
    " ### 1.3 Entendendo os dados e um breve resumo da GDPR"
   ]
  },
  {
   "cell_type": "markdown",
   "id": "bc483723",
   "metadata": {},
   "source": [
    "<p>\n",
    "    Como foi citado, existem 230 variáveis no dataset, porém não temos conhecimento algum do valor dos seus dados, já que eles são mascarados, para proteger os dados dos clientes da empresa <i>Orange</i>.\n",
    "</p>\n",
    "\n",
    "<p>\n",
    "    Os dados são protegidos por uma lei, chamada GDPR é uma sigla em inglês que significa General Data Protection Regulation. Ou, em português, Regulamentação Geral de Proteção de Dados. Ela foi aprovada pela União Européia em 2016 e passou a valer oficialmente em 2018.\n",
    "</p>\n",
    "\n",
    "<p>\n",
    "    No Brasil temos a, Lei Geral de Proteção de Dados Pessoais (LGPD), que pode ser considera a resposta a GDPR.\n",
    "</p>\n",
    "\n",
    "<p>\n",
    "    Todo o trabalho feito na base de dados, será considerado a natureza dos dados, e não o valor da própria variável.\n",
    "</p>"
   ]
  },
  {
   "cell_type": "markdown",
   "id": "0669d8b0",
   "metadata": {},
   "source": [
    "<img src='https://files.tecnoblog.net/wp-content/uploads/2018/04/gdpr.jpg' width=400 heigth=400>"
   ]
  },
  {
   "cell_type": "markdown",
   "id": "8c017acc",
   "metadata": {},
   "source": [
    "______________________________________\n",
    "--------------------------------------"
   ]
  },
  {
   "cell_type": "markdown",
   "id": "772cee11",
   "metadata": {},
   "source": [
    "## 2 - Bibliotecas e Datasets"
   ]
  },
  {
   "cell_type": "markdown",
   "id": "14d44b6f",
   "metadata": {},
   "source": [
    "### 2.1 Importando as bibliotecas"
   ]
  },
  {
   "cell_type": "code",
   "execution_count": 1,
   "id": "64e832b0",
   "metadata": {},
   "outputs": [
    {
     "data": {
      "application/javascript": [
       "\n",
       "            setTimeout(function() {\n",
       "                var nbb_cell_id = 1;\n",
       "                var nbb_unformatted_code = \"# Manipula\\u00e7\\u00e3o dos dados\\nimport pandas as pd\\nimport numpy as np\\n\\n# Visualiza\\u00e7\\u00e3o\\nimport matplotlib.pyplot as plt\\nimport seaborn as sns\\n\\n# Sele\\u00e7\\u00e3o de vari\\u00e1veis\\nfrom sklearn.ensemble import ExtraTreesClassifier\\nfrom sklearn.feature_selection import chi2\\nfrom sklearn.feature_selection import SelectKBest\\n\\n#### Settings ####\\npd.options.display.float_format = \\\"{:,.3f}\\\".format\\nplt.style.use(\\\"classic\\\")\\n# plt.rcParams(\\\"figure.figsize\\\") = [10,5]\\n%load_ext nb_black\";\n",
       "                var nbb_formatted_code = \"# Manipula\\u00e7\\u00e3o dos dados\\nimport pandas as pd\\nimport numpy as np\\n\\n# Visualiza\\u00e7\\u00e3o\\nimport matplotlib.pyplot as plt\\nimport seaborn as sns\\n\\n# Sele\\u00e7\\u00e3o de vari\\u00e1veis\\nfrom sklearn.ensemble import ExtraTreesClassifier\\nfrom sklearn.feature_selection import chi2\\nfrom sklearn.feature_selection import SelectKBest\\n\\n#### Settings ####\\npd.options.display.float_format = \\\"{:,.3f}\\\".format\\nplt.style.use(\\\"classic\\\")\\n# plt.rcParams(\\\"figure.figsize\\\") = [10,5]\\n%load_ext nb_black\";\n",
       "                var nbb_cells = Jupyter.notebook.get_cells();\n",
       "                for (var i = 0; i < nbb_cells.length; ++i) {\n",
       "                    if (nbb_cells[i].input_prompt_number == nbb_cell_id) {\n",
       "                        if (nbb_cells[i].get_text() == nbb_unformatted_code) {\n",
       "                             nbb_cells[i].set_text(nbb_formatted_code);\n",
       "                        }\n",
       "                        break;\n",
       "                    }\n",
       "                }\n",
       "            }, 500);\n",
       "            "
      ],
      "text/plain": [
       "<IPython.core.display.Javascript object>"
      ]
     },
     "metadata": {},
     "output_type": "display_data"
    }
   ],
   "source": [
    "# Manipulação dos dados\n",
    "import pandas as pd\n",
    "import numpy as np\n",
    "\n",
    "# Visualização\n",
    "import matplotlib.pyplot as plt\n",
    "import seaborn as sns\n",
    "\n",
    "# Seleção de variáveis\n",
    "from sklearn.ensemble import ExtraTreesClassifier\n",
    "from sklearn.feature_selection import chi2\n",
    "from sklearn.feature_selection import SelectKBest\n",
    "\n",
    "#### Settings ####\n",
    "pd.options.display.float_format = \"{:,.3f}\".format\n",
    "plt.style.use(\"classic\")\n",
    "# plt.rcParams(\"figure.figsize\") = [10,5]\n",
    "%load_ext nb_black"
   ]
  },
  {
   "cell_type": "markdown",
   "id": "02166534",
   "metadata": {},
   "source": [
    "### 2.2 Carregando os datasets"
   ]
  },
  {
   "cell_type": "code",
   "execution_count": 2,
   "id": "d2537e64",
   "metadata": {},
   "outputs": [
    {
     "data": {
      "application/javascript": [
       "\n",
       "            setTimeout(function() {\n",
       "                var nbb_cell_id = 2;\n",
       "                var nbb_unformatted_code = \"features_train = pd.read_csv(\\\"orange_small_train.data\\\", sep=\\\"\\\\t\\\", na_filter=False)\\n\\nchurn = pd.read_csv(\\\"orange_small_train_churn.labels\\\", header=None)\\nappentency = pd.read_csv(\\\"orange_small_train_appetency.labels\\\", header=None)\\nupselling = pd.read_csv(\\\"orange_small_train_upselling.labels\\\", header=None)\";\n",
       "                var nbb_formatted_code = \"features_train = pd.read_csv(\\\"orange_small_train.data\\\", sep=\\\"\\\\t\\\", na_filter=False)\\n\\nchurn = pd.read_csv(\\\"orange_small_train_churn.labels\\\", header=None)\\nappentency = pd.read_csv(\\\"orange_small_train_appetency.labels\\\", header=None)\\nupselling = pd.read_csv(\\\"orange_small_train_upselling.labels\\\", header=None)\";\n",
       "                var nbb_cells = Jupyter.notebook.get_cells();\n",
       "                for (var i = 0; i < nbb_cells.length; ++i) {\n",
       "                    if (nbb_cells[i].input_prompt_number == nbb_cell_id) {\n",
       "                        if (nbb_cells[i].get_text() == nbb_unformatted_code) {\n",
       "                             nbb_cells[i].set_text(nbb_formatted_code);\n",
       "                        }\n",
       "                        break;\n",
       "                    }\n",
       "                }\n",
       "            }, 500);\n",
       "            "
      ],
      "text/plain": [
       "<IPython.core.display.Javascript object>"
      ]
     },
     "metadata": {},
     "output_type": "display_data"
    }
   ],
   "source": [
    "features_train = pd.read_csv(\"orange_small_train.data\", sep=\"\\t\", na_filter=False)\n",
    "\n",
    "churn = pd.read_csv(\"orange_small_train_churn.labels\", header=None)\n",
    "appentency = pd.read_csv(\"orange_small_train_appetency.labels\", header=None)\n",
    "upselling = pd.read_csv(\"orange_small_train_upselling.labels\", header=None)"
   ]
  },
  {
   "cell_type": "code",
   "execution_count": 3,
   "id": "2d9b09f7",
   "metadata": {},
   "outputs": [
    {
     "data": {
      "text/plain": [
       "(50000, 230)"
      ]
     },
     "execution_count": 3,
     "metadata": {},
     "output_type": "execute_result"
    },
    {
     "data": {
      "application/javascript": [
       "\n",
       "            setTimeout(function() {\n",
       "                var nbb_cell_id = 3;\n",
       "                var nbb_unformatted_code = \"features_train.shape\";\n",
       "                var nbb_formatted_code = \"features_train.shape\";\n",
       "                var nbb_cells = Jupyter.notebook.get_cells();\n",
       "                for (var i = 0; i < nbb_cells.length; ++i) {\n",
       "                    if (nbb_cells[i].input_prompt_number == nbb_cell_id) {\n",
       "                        if (nbb_cells[i].get_text() == nbb_unformatted_code) {\n",
       "                             nbb_cells[i].set_text(nbb_formatted_code);\n",
       "                        }\n",
       "                        break;\n",
       "                    }\n",
       "                }\n",
       "            }, 500);\n",
       "            "
      ],
      "text/plain": [
       "<IPython.core.display.Javascript object>"
      ]
     },
     "metadata": {},
     "output_type": "display_data"
    }
   ],
   "source": [
    "features_train.shape"
   ]
  },
  {
   "cell_type": "markdown",
   "id": "3de0a66e",
   "metadata": {},
   "source": [
    "#### Visualizando as 5 primeiras linhas do dataset."
   ]
  },
  {
   "cell_type": "code",
   "execution_count": 4,
   "id": "d087cdc9",
   "metadata": {},
   "outputs": [
    {
     "data": {
      "text/html": [
       "<div>\n",
       "<style scoped>\n",
       "    .dataframe tbody tr th:only-of-type {\n",
       "        vertical-align: middle;\n",
       "    }\n",
       "\n",
       "    .dataframe tbody tr th {\n",
       "        vertical-align: top;\n",
       "    }\n",
       "\n",
       "    .dataframe thead th {\n",
       "        text-align: right;\n",
       "    }\n",
       "</style>\n",
       "<table border=\"1\" class=\"dataframe\">\n",
       "  <thead>\n",
       "    <tr style=\"text-align: right;\">\n",
       "      <th></th>\n",
       "      <th>Var1</th>\n",
       "      <th>Var2</th>\n",
       "      <th>Var3</th>\n",
       "      <th>Var4</th>\n",
       "      <th>Var5</th>\n",
       "      <th>Var6</th>\n",
       "      <th>Var7</th>\n",
       "      <th>Var8</th>\n",
       "      <th>Var9</th>\n",
       "      <th>Var10</th>\n",
       "      <th>...</th>\n",
       "      <th>Var221</th>\n",
       "      <th>Var222</th>\n",
       "      <th>Var223</th>\n",
       "      <th>Var224</th>\n",
       "      <th>Var225</th>\n",
       "      <th>Var226</th>\n",
       "      <th>Var227</th>\n",
       "      <th>Var228</th>\n",
       "      <th>Var229</th>\n",
       "      <th>Var230</th>\n",
       "    </tr>\n",
       "  </thead>\n",
       "  <tbody>\n",
       "    <tr>\n",
       "      <th>0</th>\n",
       "      <td></td>\n",
       "      <td></td>\n",
       "      <td></td>\n",
       "      <td></td>\n",
       "      <td></td>\n",
       "      <td>1526</td>\n",
       "      <td>7</td>\n",
       "      <td></td>\n",
       "      <td></td>\n",
       "      <td></td>\n",
       "      <td>...</td>\n",
       "      <td>oslk</td>\n",
       "      <td>fXVEsaq</td>\n",
       "      <td>jySVZNlOJy</td>\n",
       "      <td></td>\n",
       "      <td></td>\n",
       "      <td>xb3V</td>\n",
       "      <td>RAYp</td>\n",
       "      <td>F2FyR07IdsN7I</td>\n",
       "      <td></td>\n",
       "      <td></td>\n",
       "    </tr>\n",
       "    <tr>\n",
       "      <th>1</th>\n",
       "      <td></td>\n",
       "      <td></td>\n",
       "      <td></td>\n",
       "      <td></td>\n",
       "      <td></td>\n",
       "      <td>525</td>\n",
       "      <td>0</td>\n",
       "      <td></td>\n",
       "      <td></td>\n",
       "      <td></td>\n",
       "      <td>...</td>\n",
       "      <td>oslk</td>\n",
       "      <td>2Kb5FSF</td>\n",
       "      <td>LM8l689qOp</td>\n",
       "      <td></td>\n",
       "      <td></td>\n",
       "      <td>fKCe</td>\n",
       "      <td>RAYp</td>\n",
       "      <td>F2FyR07IdsN7I</td>\n",
       "      <td></td>\n",
       "      <td></td>\n",
       "    </tr>\n",
       "    <tr>\n",
       "      <th>2</th>\n",
       "      <td></td>\n",
       "      <td></td>\n",
       "      <td></td>\n",
       "      <td></td>\n",
       "      <td></td>\n",
       "      <td>5236</td>\n",
       "      <td>7</td>\n",
       "      <td></td>\n",
       "      <td></td>\n",
       "      <td></td>\n",
       "      <td>...</td>\n",
       "      <td>Al6ZaUT</td>\n",
       "      <td>NKv4yOc</td>\n",
       "      <td>jySVZNlOJy</td>\n",
       "      <td></td>\n",
       "      <td>kG3k</td>\n",
       "      <td>Qu4f</td>\n",
       "      <td>02N6s8f</td>\n",
       "      <td>ib5G6X1eUxUn6</td>\n",
       "      <td>am7c</td>\n",
       "      <td></td>\n",
       "    </tr>\n",
       "    <tr>\n",
       "      <th>3</th>\n",
       "      <td></td>\n",
       "      <td></td>\n",
       "      <td></td>\n",
       "      <td></td>\n",
       "      <td></td>\n",
       "      <td></td>\n",
       "      <td>0</td>\n",
       "      <td></td>\n",
       "      <td></td>\n",
       "      <td></td>\n",
       "      <td>...</td>\n",
       "      <td>oslk</td>\n",
       "      <td>CE7uk3u</td>\n",
       "      <td>LM8l689qOp</td>\n",
       "      <td></td>\n",
       "      <td></td>\n",
       "      <td>FSa2</td>\n",
       "      <td>RAYp</td>\n",
       "      <td>F2FyR07IdsN7I</td>\n",
       "      <td></td>\n",
       "      <td></td>\n",
       "    </tr>\n",
       "    <tr>\n",
       "      <th>4</th>\n",
       "      <td></td>\n",
       "      <td></td>\n",
       "      <td></td>\n",
       "      <td></td>\n",
       "      <td></td>\n",
       "      <td>1029</td>\n",
       "      <td>7</td>\n",
       "      <td></td>\n",
       "      <td></td>\n",
       "      <td></td>\n",
       "      <td>...</td>\n",
       "      <td>oslk</td>\n",
       "      <td>1J2cvxe</td>\n",
       "      <td>LM8l689qOp</td>\n",
       "      <td></td>\n",
       "      <td>kG3k</td>\n",
       "      <td>FSa2</td>\n",
       "      <td>RAYp</td>\n",
       "      <td>F2FyR07IdsN7I</td>\n",
       "      <td>mj86</td>\n",
       "      <td></td>\n",
       "    </tr>\n",
       "  </tbody>\n",
       "</table>\n",
       "<p>5 rows × 230 columns</p>\n",
       "</div>"
      ],
      "text/plain": [
       "  Var1 Var2 Var3 Var4 Var5  Var6 Var7 Var8 Var9 Var10  ...   Var221   Var222  \\\n",
       "0                           1526    7                  ...     oslk  fXVEsaq   \n",
       "1                            525    0                  ...     oslk  2Kb5FSF   \n",
       "2                           5236    7                  ...  Al6ZaUT  NKv4yOc   \n",
       "3                                   0                  ...     oslk  CE7uk3u   \n",
       "4                           1029    7                  ...     oslk  1J2cvxe   \n",
       "\n",
       "       Var223 Var224 Var225 Var226   Var227         Var228 Var229 Var230  \n",
       "0  jySVZNlOJy                 xb3V     RAYp  F2FyR07IdsN7I                \n",
       "1  LM8l689qOp                 fKCe     RAYp  F2FyR07IdsN7I                \n",
       "2  jySVZNlOJy          kG3k   Qu4f  02N6s8f  ib5G6X1eUxUn6   am7c         \n",
       "3  LM8l689qOp                 FSa2     RAYp  F2FyR07IdsN7I                \n",
       "4  LM8l689qOp          kG3k   FSa2     RAYp  F2FyR07IdsN7I   mj86         \n",
       "\n",
       "[5 rows x 230 columns]"
      ]
     },
     "execution_count": 4,
     "metadata": {},
     "output_type": "execute_result"
    },
    {
     "data": {
      "application/javascript": [
       "\n",
       "            setTimeout(function() {\n",
       "                var nbb_cell_id = 4;\n",
       "                var nbb_unformatted_code = \"features_train.head()\";\n",
       "                var nbb_formatted_code = \"features_train.head()\";\n",
       "                var nbb_cells = Jupyter.notebook.get_cells();\n",
       "                for (var i = 0; i < nbb_cells.length; ++i) {\n",
       "                    if (nbb_cells[i].input_prompt_number == nbb_cell_id) {\n",
       "                        if (nbb_cells[i].get_text() == nbb_unformatted_code) {\n",
       "                             nbb_cells[i].set_text(nbb_formatted_code);\n",
       "                        }\n",
       "                        break;\n",
       "                    }\n",
       "                }\n",
       "            }, 500);\n",
       "            "
      ],
      "text/plain": [
       "<IPython.core.display.Javascript object>"
      ]
     },
     "metadata": {},
     "output_type": "display_data"
    }
   ],
   "source": [
    "features_train.head()"
   ]
  },
  {
   "cell_type": "markdown",
   "id": "225e5fa9",
   "metadata": {},
   "source": [
    "------------------------------------------------------------"
   ]
  },
  {
   "cell_type": "markdown",
   "id": "b71b93f2",
   "metadata": {},
   "source": [
    "##### Observações:\n",
    "<p>\n",
    "    Podemos notar visualizando os datasets(treino e teste), que os dados não fazem sentido. E os valores ausentes estão marcados com <code>\"\"</code> -> Valores Vazios, em vez de <code>NaN</code> -> Valores Nulos.\n",
    "</p>"
   ]
  },
  {
   "cell_type": "markdown",
   "id": "8abf9df2",
   "metadata": {},
   "source": [
    "---------------------------------------------------------"
   ]
  },
  {
   "cell_type": "markdown",
   "id": "87596ab8",
   "metadata": {},
   "source": [
    "### 2.3 Transformando valores vazios em nulos."
   ]
  },
  {
   "cell_type": "markdown",
   "id": "3b8c47a9",
   "metadata": {},
   "source": [
    "<p>\n",
    "    Para garantir a consistência das variáveis e facilitar no tratamento das mesmas, iremos realizar a transformação com o método <code><b>replace</b></code> da biblioteca <b>pandas</b>.\n",
    "</p>"
   ]
  },
  {
   "cell_type": "code",
   "execution_count": 5,
   "id": "8bee9a4b",
   "metadata": {},
   "outputs": [
    {
     "data": {
      "application/javascript": [
       "\n",
       "            setTimeout(function() {\n",
       "                var nbb_cell_id = 5;\n",
       "                var nbb_unformatted_code = \"features_train = features_train.replace(\\\"\\\", np.NaN)\";\n",
       "                var nbb_formatted_code = \"features_train = features_train.replace(\\\"\\\", np.NaN)\";\n",
       "                var nbb_cells = Jupyter.notebook.get_cells();\n",
       "                for (var i = 0; i < nbb_cells.length; ++i) {\n",
       "                    if (nbb_cells[i].input_prompt_number == nbb_cell_id) {\n",
       "                        if (nbb_cells[i].get_text() == nbb_unformatted_code) {\n",
       "                             nbb_cells[i].set_text(nbb_formatted_code);\n",
       "                        }\n",
       "                        break;\n",
       "                    }\n",
       "                }\n",
       "            }, 500);\n",
       "            "
      ],
      "text/plain": [
       "<IPython.core.display.Javascript object>"
      ]
     },
     "metadata": {},
     "output_type": "display_data"
    }
   ],
   "source": [
    "features_train = features_train.replace(\"\", np.NaN)"
   ]
  },
  {
   "cell_type": "markdown",
   "id": "eb2ac024",
   "metadata": {},
   "source": [
    "#### Visualizando a primeira linha do Dataset)"
   ]
  },
  {
   "cell_type": "code",
   "execution_count": 6,
   "id": "d01d4b1d",
   "metadata": {},
   "outputs": [
    {
     "data": {
      "text/html": [
       "<div>\n",
       "<style scoped>\n",
       "    .dataframe tbody tr th:only-of-type {\n",
       "        vertical-align: middle;\n",
       "    }\n",
       "\n",
       "    .dataframe tbody tr th {\n",
       "        vertical-align: top;\n",
       "    }\n",
       "\n",
       "    .dataframe thead th {\n",
       "        text-align: right;\n",
       "    }\n",
       "</style>\n",
       "<table border=\"1\" class=\"dataframe\">\n",
       "  <thead>\n",
       "    <tr style=\"text-align: right;\">\n",
       "      <th></th>\n",
       "      <th>Var1</th>\n",
       "      <th>Var2</th>\n",
       "      <th>Var3</th>\n",
       "      <th>Var4</th>\n",
       "      <th>Var5</th>\n",
       "      <th>Var6</th>\n",
       "      <th>Var7</th>\n",
       "      <th>Var8</th>\n",
       "      <th>Var9</th>\n",
       "      <th>Var10</th>\n",
       "      <th>...</th>\n",
       "      <th>Var221</th>\n",
       "      <th>Var222</th>\n",
       "      <th>Var223</th>\n",
       "      <th>Var224</th>\n",
       "      <th>Var225</th>\n",
       "      <th>Var226</th>\n",
       "      <th>Var227</th>\n",
       "      <th>Var228</th>\n",
       "      <th>Var229</th>\n",
       "      <th>Var230</th>\n",
       "    </tr>\n",
       "  </thead>\n",
       "  <tbody>\n",
       "    <tr>\n",
       "      <th>0</th>\n",
       "      <td>NaN</td>\n",
       "      <td>NaN</td>\n",
       "      <td>NaN</td>\n",
       "      <td>NaN</td>\n",
       "      <td>NaN</td>\n",
       "      <td>1526</td>\n",
       "      <td>7</td>\n",
       "      <td>NaN</td>\n",
       "      <td>NaN</td>\n",
       "      <td>NaN</td>\n",
       "      <td>...</td>\n",
       "      <td>oslk</td>\n",
       "      <td>fXVEsaq</td>\n",
       "      <td>jySVZNlOJy</td>\n",
       "      <td>NaN</td>\n",
       "      <td>NaN</td>\n",
       "      <td>xb3V</td>\n",
       "      <td>RAYp</td>\n",
       "      <td>F2FyR07IdsN7I</td>\n",
       "      <td>NaN</td>\n",
       "      <td>NaN</td>\n",
       "    </tr>\n",
       "  </tbody>\n",
       "</table>\n",
       "<p>1 rows × 230 columns</p>\n",
       "</div>"
      ],
      "text/plain": [
       "  Var1 Var2 Var3 Var4 Var5  Var6 Var7  Var8 Var9 Var10  ... Var221   Var222  \\\n",
       "0  NaN  NaN  NaN  NaN  NaN  1526    7   NaN  NaN   NaN  ...   oslk  fXVEsaq   \n",
       "\n",
       "       Var223 Var224  Var225 Var226 Var227         Var228 Var229  Var230  \n",
       "0  jySVZNlOJy    NaN     NaN   xb3V   RAYp  F2FyR07IdsN7I    NaN     NaN  \n",
       "\n",
       "[1 rows x 230 columns]"
      ]
     },
     "execution_count": 6,
     "metadata": {},
     "output_type": "execute_result"
    },
    {
     "data": {
      "application/javascript": [
       "\n",
       "            setTimeout(function() {\n",
       "                var nbb_cell_id = 6;\n",
       "                var nbb_unformatted_code = \"features_train.head(1)\";\n",
       "                var nbb_formatted_code = \"features_train.head(1)\";\n",
       "                var nbb_cells = Jupyter.notebook.get_cells();\n",
       "                for (var i = 0; i < nbb_cells.length; ++i) {\n",
       "                    if (nbb_cells[i].input_prompt_number == nbb_cell_id) {\n",
       "                        if (nbb_cells[i].get_text() == nbb_unformatted_code) {\n",
       "                             nbb_cells[i].set_text(nbb_formatted_code);\n",
       "                        }\n",
       "                        break;\n",
       "                    }\n",
       "                }\n",
       "            }, 500);\n",
       "            "
      ],
      "text/plain": [
       "<IPython.core.display.Javascript object>"
      ]
     },
     "metadata": {},
     "output_type": "display_data"
    }
   ],
   "source": [
    "features_train.head(1)"
   ]
  },
  {
   "cell_type": "markdown",
   "id": "0b2320c3",
   "metadata": {},
   "source": [
    "_________________________________________________"
   ]
  },
  {
   "cell_type": "markdown",
   "id": "80e15889",
   "metadata": {},
   "source": [
    "### 2.4 Divisão das variáveis categóricas e numéricas"
   ]
  },
  {
   "cell_type": "markdown",
   "id": "641aa5e7",
   "metadata": {},
   "source": [
    "<p>\n",
    "    Como já foi falado, as 190 primeiras variáveis são númericas e o restante delas são categóricas.\n",
    "</p>"
   ]
  },
  {
   "cell_type": "code",
   "execution_count": 7,
   "id": "b316559f",
   "metadata": {},
   "outputs": [
    {
     "data": {
      "application/javascript": [
       "\n",
       "            setTimeout(function() {\n",
       "                var nbb_cell_id = 7;\n",
       "                var nbb_unformatted_code = \"all_vars = features_train.columns\\n\\nnum_vars = np.array(all_vars[:190])\\ncat_vars = np.array(all_vars[190:])\";\n",
       "                var nbb_formatted_code = \"all_vars = features_train.columns\\n\\nnum_vars = np.array(all_vars[:190])\\ncat_vars = np.array(all_vars[190:])\";\n",
       "                var nbb_cells = Jupyter.notebook.get_cells();\n",
       "                for (var i = 0; i < nbb_cells.length; ++i) {\n",
       "                    if (nbb_cells[i].input_prompt_number == nbb_cell_id) {\n",
       "                        if (nbb_cells[i].get_text() == nbb_unformatted_code) {\n",
       "                             nbb_cells[i].set_text(nbb_formatted_code);\n",
       "                        }\n",
       "                        break;\n",
       "                    }\n",
       "                }\n",
       "            }, 500);\n",
       "            "
      ],
      "text/plain": [
       "<IPython.core.display.Javascript object>"
      ]
     },
     "metadata": {},
     "output_type": "display_data"
    }
   ],
   "source": [
    "all_vars = features_train.columns\n",
    "\n",
    "num_vars = np.array(all_vars[:190])\n",
    "cat_vars = np.array(all_vars[190:])"
   ]
  },
  {
   "cell_type": "markdown",
   "id": "9265de23",
   "metadata": {},
   "source": [
    "#### 2.4.1 Garantindo que os valores estão em seu tipo correto"
   ]
  },
  {
   "cell_type": "code",
   "execution_count": 8,
   "id": "82e251a3",
   "metadata": {},
   "outputs": [
    {
     "data": {
      "application/javascript": [
       "\n",
       "            setTimeout(function() {\n",
       "                var nbb_cell_id = 8;\n",
       "                var nbb_unformatted_code = \"for col in num_vars:\\n    features_train[col] = features_train[col].astype(\\\"float\\\")\";\n",
       "                var nbb_formatted_code = \"for col in num_vars:\\n    features_train[col] = features_train[col].astype(\\\"float\\\")\";\n",
       "                var nbb_cells = Jupyter.notebook.get_cells();\n",
       "                for (var i = 0; i < nbb_cells.length; ++i) {\n",
       "                    if (nbb_cells[i].input_prompt_number == nbb_cell_id) {\n",
       "                        if (nbb_cells[i].get_text() == nbb_unformatted_code) {\n",
       "                             nbb_cells[i].set_text(nbb_formatted_code);\n",
       "                        }\n",
       "                        break;\n",
       "                    }\n",
       "                }\n",
       "            }, 500);\n",
       "            "
      ],
      "text/plain": [
       "<IPython.core.display.Javascript object>"
      ]
     },
     "metadata": {},
     "output_type": "display_data"
    }
   ],
   "source": [
    "for col in num_vars:\n",
    "    features_train[col] = features_train[col].astype(\"float\")"
   ]
  },
  {
   "cell_type": "code",
   "execution_count": 9,
   "id": "8e2a9b93",
   "metadata": {},
   "outputs": [
    {
     "data": {
      "application/javascript": [
       "\n",
       "            setTimeout(function() {\n",
       "                var nbb_cell_id = 9;\n",
       "                var nbb_unformatted_code = \"for col in cat_vars:\\n    features_train[col] = features_train[col].astype(\\\"category\\\")\";\n",
       "                var nbb_formatted_code = \"for col in cat_vars:\\n    features_train[col] = features_train[col].astype(\\\"category\\\")\";\n",
       "                var nbb_cells = Jupyter.notebook.get_cells();\n",
       "                for (var i = 0; i < nbb_cells.length; ++i) {\n",
       "                    if (nbb_cells[i].input_prompt_number == nbb_cell_id) {\n",
       "                        if (nbb_cells[i].get_text() == nbb_unformatted_code) {\n",
       "                             nbb_cells[i].set_text(nbb_formatted_code);\n",
       "                        }\n",
       "                        break;\n",
       "                    }\n",
       "                }\n",
       "            }, 500);\n",
       "            "
      ],
      "text/plain": [
       "<IPython.core.display.Javascript object>"
      ]
     },
     "metadata": {},
     "output_type": "display_data"
    }
   ],
   "source": [
    "for col in cat_vars:\n",
    "    features_train[col] = features_train[col].astype(\"category\")"
   ]
  },
  {
   "cell_type": "code",
   "execution_count": 10,
   "id": "82e31df3",
   "metadata": {},
   "outputs": [
    {
     "data": {
      "text/plain": [
       "('Var1', 'Var190')"
      ]
     },
     "execution_count": 10,
     "metadata": {},
     "output_type": "execute_result"
    },
    {
     "data": {
      "application/javascript": [
       "\n",
       "            setTimeout(function() {\n",
       "                var nbb_cell_id = 10;\n",
       "                var nbb_unformatted_code = \"num_vars[0], num_vars[-1]\";\n",
       "                var nbb_formatted_code = \"num_vars[0], num_vars[-1]\";\n",
       "                var nbb_cells = Jupyter.notebook.get_cells();\n",
       "                for (var i = 0; i < nbb_cells.length; ++i) {\n",
       "                    if (nbb_cells[i].input_prompt_number == nbb_cell_id) {\n",
       "                        if (nbb_cells[i].get_text() == nbb_unformatted_code) {\n",
       "                             nbb_cells[i].set_text(nbb_formatted_code);\n",
       "                        }\n",
       "                        break;\n",
       "                    }\n",
       "                }\n",
       "            }, 500);\n",
       "            "
      ],
      "text/plain": [
       "<IPython.core.display.Javascript object>"
      ]
     },
     "metadata": {},
     "output_type": "display_data"
    }
   ],
   "source": [
    "num_vars[0], num_vars[-1]"
   ]
  },
  {
   "cell_type": "code",
   "execution_count": 11,
   "id": "10040831",
   "metadata": {},
   "outputs": [
    {
     "data": {
      "text/plain": [
       "('Var191', 'Var230')"
      ]
     },
     "execution_count": 11,
     "metadata": {},
     "output_type": "execute_result"
    },
    {
     "data": {
      "application/javascript": [
       "\n",
       "            setTimeout(function() {\n",
       "                var nbb_cell_id = 11;\n",
       "                var nbb_unformatted_code = \"cat_vars[0], cat_vars[-1]\";\n",
       "                var nbb_formatted_code = \"cat_vars[0], cat_vars[-1]\";\n",
       "                var nbb_cells = Jupyter.notebook.get_cells();\n",
       "                for (var i = 0; i < nbb_cells.length; ++i) {\n",
       "                    if (nbb_cells[i].input_prompt_number == nbb_cell_id) {\n",
       "                        if (nbb_cells[i].get_text() == nbb_unformatted_code) {\n",
       "                             nbb_cells[i].set_text(nbb_formatted_code);\n",
       "                        }\n",
       "                        break;\n",
       "                    }\n",
       "                }\n",
       "            }, 500);\n",
       "            "
      ],
      "text/plain": [
       "<IPython.core.display.Javascript object>"
      ]
     },
     "metadata": {},
     "output_type": "display_data"
    }
   ],
   "source": [
    "cat_vars[0], cat_vars[-1]"
   ]
  },
  {
   "cell_type": "markdown",
   "id": "a916d337",
   "metadata": {},
   "source": [
    "---------------------------------------------------------\n",
    "------------------------------------------------------"
   ]
  },
  {
   "cell_type": "markdown",
   "id": "6cf3c0ef",
   "metadata": {},
   "source": [
    "## 3 - Tratamento do Dataset "
   ]
  },
  {
   "cell_type": "markdown",
   "id": "99386ee4",
   "metadata": {},
   "source": [
    "<p>\n",
    "   Agora iremos iniciar o tratamento do Dataset, para garantir a consistência dos dados.\n",
    "</p>"
   ]
  },
  {
   "cell_type": "markdown",
   "id": "8bd1df12",
   "metadata": {},
   "source": [
    "### 3.1 Trabalhando com os valores nulos"
   ]
  },
  {
   "cell_type": "markdown",
   "id": "975b3e85",
   "metadata": {},
   "source": [
    "<p>\n",
    "    Não podemos adivinhar o que cada variável traz de valor, e variáveis com grandes quantidades de valores faltantes, ou nulos, serão excluídas por falta de informação. Já que não é possível utilizar técnicas para que sejam preenchidas, como seria o caso de aplicar a média ou mediana para variáveis numéricas.\n",
    "</p>"
   ]
  },
  {
   "cell_type": "code",
   "execution_count": 12,
   "id": "5285c0c1",
   "metadata": {},
   "outputs": [
    {
     "data": {
      "application/javascript": [
       "\n",
       "            setTimeout(function() {\n",
       "                var nbb_cell_id = 12;\n",
       "                var nbb_unformatted_code = \"# Criando uma lista com valores nulos por coluna\\nempty_values_by_columns = features_train.isna().sum()\";\n",
       "                var nbb_formatted_code = \"# Criando uma lista com valores nulos por coluna\\nempty_values_by_columns = features_train.isna().sum()\";\n",
       "                var nbb_cells = Jupyter.notebook.get_cells();\n",
       "                for (var i = 0; i < nbb_cells.length; ++i) {\n",
       "                    if (nbb_cells[i].input_prompt_number == nbb_cell_id) {\n",
       "                        if (nbb_cells[i].get_text() == nbb_unformatted_code) {\n",
       "                             nbb_cells[i].set_text(nbb_formatted_code);\n",
       "                        }\n",
       "                        break;\n",
       "                    }\n",
       "                }\n",
       "            }, 500);\n",
       "            "
      ],
      "text/plain": [
       "<IPython.core.display.Javascript object>"
      ]
     },
     "metadata": {},
     "output_type": "display_data"
    }
   ],
   "source": [
    "# Criando uma lista com valores nulos por coluna\n",
    "empty_values_by_columns = features_train.isna().sum()"
   ]
  },
  {
   "cell_type": "code",
   "execution_count": 13,
   "id": "f65b2b7a",
   "metadata": {},
   "outputs": [
    {
     "data": {
      "text/plain": [
       "Var1      49298\n",
       "Var2      48759\n",
       "Var3      48760\n",
       "Var4      48421\n",
       "Var5      48513\n",
       "          ...  \n",
       "Var226        0\n",
       "Var227        0\n",
       "Var228        0\n",
       "Var229    28432\n",
       "Var230    50000\n",
       "Length: 230, dtype: int64"
      ]
     },
     "execution_count": 13,
     "metadata": {},
     "output_type": "execute_result"
    },
    {
     "data": {
      "application/javascript": [
       "\n",
       "            setTimeout(function() {\n",
       "                var nbb_cell_id = 13;\n",
       "                var nbb_unformatted_code = \"empty_values_by_columns\";\n",
       "                var nbb_formatted_code = \"empty_values_by_columns\";\n",
       "                var nbb_cells = Jupyter.notebook.get_cells();\n",
       "                for (var i = 0; i < nbb_cells.length; ++i) {\n",
       "                    if (nbb_cells[i].input_prompt_number == nbb_cell_id) {\n",
       "                        if (nbb_cells[i].get_text() == nbb_unformatted_code) {\n",
       "                             nbb_cells[i].set_text(nbb_formatted_code);\n",
       "                        }\n",
       "                        break;\n",
       "                    }\n",
       "                }\n",
       "            }, 500);\n",
       "            "
      ],
      "text/plain": [
       "<IPython.core.display.Javascript object>"
      ]
     },
     "metadata": {},
     "output_type": "display_data"
    }
   ],
   "source": [
    "empty_values_by_columns"
   ]
  },
  {
   "cell_type": "markdown",
   "id": "41bd2860",
   "metadata": {},
   "source": [
    "### 3.2 Visualizando os valores nulos por coluna"
   ]
  },
  {
   "cell_type": "code",
   "execution_count": 14,
   "id": "ccd0c975",
   "metadata": {},
   "outputs": [
    {
     "data": {
      "text/plain": [
       "Text(0, 0.5, '')"
      ]
     },
     "execution_count": 14,
     "metadata": {},
     "output_type": "execute_result"
    },
    {
     "data": {
      "image/png": "[encoded data removed]",
      "text/plain": [
       "<Figure size 960x800 with 2 Axes>"
      ]
     },
     "metadata": {},
     "output_type": "display_data"
    },
    {
     "data": {
      "application/javascript": [
       "\n",
       "            setTimeout(function() {\n",
       "                var nbb_cell_id = 14;\n",
       "                var nbb_unformatted_code = \"fig = plt.figure(figsize=(12,10))\\ngs = fig.add_gridspec(1,2)\\nax0 = fig.add_subplot(gs[0,0])\\nax1 = fig.add_subplot(gs[0,1])\\n\\ncolor_palette = [\\\"#800000\\\",\\\"#8000ff\\\",\\\"#6aac90\\\",\\\"#5833ff\\\",\\\"#da8829\\\"]\\n\\nbackground_color = '#F8ECE0'\\nfig.patch.set_facecolor(background_color) \\nax0.set_facecolor(background_color) \\nax1.set_facecolor(background_color) \\n\\nax0.text(-0.5, 54000, 'Boxplot - Valores Nulos por Vari\\u00e1veis', fontsize=14, fontweight='bold', fontfamily='serif', color=\\\"#000000\\\")\\nax0.grid(color='#000000', linestyle=':', axis='y', zorder=0,  dashes=(1,5))\\nsns.boxenplot(ax=ax0, y=empty_values_by_columns, palette=['#FA5858'])\\nax0.set_xlabel('')\\nax0.set_xlabel('')\\n\\nax1.text(0, 166, 'Histograma - Valors Nulos por Vari\\u00e1veis', fontsize=14, fontweight='bold', fontfamily='serif', color=\\\"#000000\\\")\\nax1.grid(color='#000000', linestyle=':', axis='y', zorder=0,  dashes=(1,5))\\nsns.histplot(ax=ax1, x=empty_values_by_columns,palette=color_palette)\\nax1.set_xlabel(\\\"\\\")\\nax1.set_ylabel(\\\"\\\")\";\n",
       "                var nbb_formatted_code = \"fig = plt.figure(figsize=(12, 10))\\ngs = fig.add_gridspec(1, 2)\\nax0 = fig.add_subplot(gs[0, 0])\\nax1 = fig.add_subplot(gs[0, 1])\\n\\ncolor_palette = [\\\"#800000\\\", \\\"#8000ff\\\", \\\"#6aac90\\\", \\\"#5833ff\\\", \\\"#da8829\\\"]\\n\\nbackground_color = \\\"#F8ECE0\\\"\\nfig.patch.set_facecolor(background_color)\\nax0.set_facecolor(background_color)\\nax1.set_facecolor(background_color)\\n\\nax0.text(\\n    -0.5,\\n    54000,\\n    \\\"Boxplot - Valores Nulos por Vari\\u00e1veis\\\",\\n    fontsize=14,\\n    fontweight=\\\"bold\\\",\\n    fontfamily=\\\"serif\\\",\\n    color=\\\"#000000\\\",\\n)\\nax0.grid(color=\\\"#000000\\\", linestyle=\\\":\\\", axis=\\\"y\\\", zorder=0, dashes=(1, 5))\\nsns.boxenplot(ax=ax0, y=empty_values_by_columns, palette=[\\\"#FA5858\\\"])\\nax0.set_xlabel(\\\"\\\")\\nax0.set_xlabel(\\\"\\\")\\n\\nax1.text(\\n    0,\\n    166,\\n    \\\"Histograma - Valors Nulos por Vari\\u00e1veis\\\",\\n    fontsize=14,\\n    fontweight=\\\"bold\\\",\\n    fontfamily=\\\"serif\\\",\\n    color=\\\"#000000\\\",\\n)\\nax1.grid(color=\\\"#000000\\\", linestyle=\\\":\\\", axis=\\\"y\\\", zorder=0, dashes=(1, 5))\\nsns.histplot(ax=ax1, x=empty_values_by_columns, palette=color_palette)\\nax1.set_xlabel(\\\"\\\")\\nax1.set_ylabel(\\\"\\\")\";\n",
       "                var nbb_cells = Jupyter.notebook.get_cells();\n",
       "                for (var i = 0; i < nbb_cells.length; ++i) {\n",
       "                    if (nbb_cells[i].input_prompt_number == nbb_cell_id) {\n",
       "                        if (nbb_cells[i].get_text() == nbb_unformatted_code) {\n",
       "                             nbb_cells[i].set_text(nbb_formatted_code);\n",
       "                        }\n",
       "                        break;\n",
       "                    }\n",
       "                }\n",
       "            }, 500);\n",
       "            "
      ],
      "text/plain": [
       "<IPython.core.display.Javascript object>"
      ]
     },
     "metadata": {},
     "output_type": "display_data"
    }
   ],
   "source": [
    "fig = plt.figure(figsize=(12,10))\n",
    "gs = fig.add_gridspec(1,2)\n",
    "ax0 = fig.add_subplot(gs[0,0])\n",
    "ax1 = fig.add_subplot(gs[0,1])\n",
    "\n",
    "color_palette = [\"#800000\",\"#8000ff\",\"#6aac90\",\"#5833ff\",\"#da8829\"]\n",
    "\n",
    "background_color = '#F8ECE0'\n",
    "fig.patch.set_facecolor(background_color) \n",
    "ax0.set_facecolor(background_color) \n",
    "ax1.set_facecolor(background_color) \n",
    "\n",
    "ax0.text(-0.5, 54000, 'Boxplot - Valores Nulos por Variáveis', fontsize=14, fontweight='bold', fontfamily='serif', color=\"#000000\")\n",
    "ax0.grid(color='#000000', linestyle=':', axis='y', zorder=0,  dashes=(1,5))\n",
    "sns.boxenplot(ax=ax0, y=empty_values_by_columns, palette=['#FA5858'])\n",
    "ax0.set_xlabel('')\n",
    "ax0.set_xlabel('')\n",
    "\n",
    "ax1.text(0, 166, 'Histograma - Valors Nulos por Variáveis', fontsize=14, fontweight='bold', fontfamily='serif', color=\"#000000\")\n",
    "ax1.grid(color='#000000', linestyle=':', axis='y', zorder=0,  dashes=(1,5))\n",
    "sns.histplot(ax=ax1, x=empty_values_by_columns,palette=color_palette)\n",
    "ax1.set_xlabel(\"\")\n",
    "ax1.set_ylabel(\"\")\n"
   ]
  },
  {
   "cell_type": "markdown",
   "id": "e7d1d0eb",
   "metadata": {},
   "source": [
    "#### Insights :"
   ]
  },
  {
   "cell_type": "markdown",
   "id": "816c4c71",
   "metadata": {},
   "source": [
    "<p>\n",
    "    Pelo gráfico do BoxPlot, é nítido que está desbalanceado, já que a mediana está próxima dos 50.000, é no Histograma podemos visualizar que existem algumas variáveis com até 10.000 e  um pouco mais de 20.000.\n",
    "</p>\n",
    "\n",
    "<p>\n",
    "    Irei selecionar as variáveis através de um cálculo com um threshold de 0,25. O resto será deletado, como não sabemos a origem, preencher os dados com a alguma medida descritiva seria um equívoco.\n",
    "</p>"
   ]
  },
  {
   "cell_type": "markdown",
   "id": "cc4fab7f",
   "metadata": {},
   "source": [
    "#### 3.2.1 Mediana"
   ]
  },
  {
   "cell_type": "code",
   "execution_count": 15,
   "id": "c1ee4f32",
   "metadata": {},
   "outputs": [
    {
     "name": "stdout",
     "output_type": "stream",
     "text": [
      "Valor da mediana dos Valores Nulos por Variável: 48513.0\n"
     ]
    },
    {
     "data": {
      "application/javascript": [
       "\n",
       "            setTimeout(function() {\n",
       "                var nbb_cell_id = 15;\n",
       "                var nbb_unformatted_code = \"print(\\n    f\\\"Valor da mediana dos Valores Nulos por Vari\\u00e1vel: {empty_values_by_columns.median()}\\\"\\n)\";\n",
       "                var nbb_formatted_code = \"print(\\n    f\\\"Valor da mediana dos Valores Nulos por Vari\\u00e1vel: {empty_values_by_columns.median()}\\\"\\n)\";\n",
       "                var nbb_cells = Jupyter.notebook.get_cells();\n",
       "                for (var i = 0; i < nbb_cells.length; ++i) {\n",
       "                    if (nbb_cells[i].input_prompt_number == nbb_cell_id) {\n",
       "                        if (nbb_cells[i].get_text() == nbb_unformatted_code) {\n",
       "                             nbb_cells[i].set_text(nbb_formatted_code);\n",
       "                        }\n",
       "                        break;\n",
       "                    }\n",
       "                }\n",
       "            }, 500);\n",
       "            "
      ],
      "text/plain": [
       "<IPython.core.display.Javascript object>"
      ]
     },
     "metadata": {},
     "output_type": "display_data"
    }
   ],
   "source": [
    "print(\n",
    "    f\"Valor da mediana dos Valores Nulos por Variável: {empty_values_by_columns.median()}\"\n",
    ")"
   ]
  },
  {
   "cell_type": "markdown",
   "id": "05b26466",
   "metadata": {},
   "source": [
    "#### 3.2.2 Definindo o threshold e selecionando as variáveis"
   ]
  },
  {
   "cell_type": "code",
   "execution_count": 16,
   "id": "7b5b810f",
   "metadata": {},
   "outputs": [
    {
     "name": "stdout",
     "output_type": "stream",
     "text": [
      "o limite de valores nulos será de 12500.0\n"
     ]
    },
    {
     "data": {
      "application/javascript": [
       "\n",
       "            setTimeout(function() {\n",
       "                var nbb_cell_id = 16;\n",
       "                var nbb_unformatted_code = \"num_rows = len(features_train)\\nthreshold = 0.25\\nnum_th = num_rows * threshold\\nprint(f\\\"o limite de valores nulos ser\\u00e1 de {num_th}\\\")\";\n",
       "                var nbb_formatted_code = \"num_rows = len(features_train)\\nthreshold = 0.25\\nnum_th = num_rows * threshold\\nprint(f\\\"o limite de valores nulos ser\\u00e1 de {num_th}\\\")\";\n",
       "                var nbb_cells = Jupyter.notebook.get_cells();\n",
       "                for (var i = 0; i < nbb_cells.length; ++i) {\n",
       "                    if (nbb_cells[i].input_prompt_number == nbb_cell_id) {\n",
       "                        if (nbb_cells[i].get_text() == nbb_unformatted_code) {\n",
       "                             nbb_cells[i].set_text(nbb_formatted_code);\n",
       "                        }\n",
       "                        break;\n",
       "                    }\n",
       "                }\n",
       "            }, 500);\n",
       "            "
      ],
      "text/plain": [
       "<IPython.core.display.Javascript object>"
      ]
     },
     "metadata": {},
     "output_type": "display_data"
    }
   ],
   "source": [
    "num_rows = len(features_train)\n",
    "threshold = 0.25\n",
    "num_th = num_rows * threshold\n",
    "print(f\"o limite de valores nulos será de {num_th}\")"
   ]
  },
  {
   "cell_type": "markdown",
   "id": "660aebc5",
   "metadata": {},
   "source": [
    "-------------------------------------------"
   ]
  },
  {
   "cell_type": "markdown",
   "id": "4dfc6684",
   "metadata": {},
   "source": [
    "<p>\n",
    "    Agora é aplicar um filtro para manter as variáveis que tem 12.500 ou menos valores nulos.\n",
    "</p>"
   ]
  },
  {
   "cell_type": "code",
   "execution_count": 17,
   "id": "42e32862",
   "metadata": {},
   "outputs": [
    {
     "data": {
      "application/javascript": [
       "\n",
       "            setTimeout(function() {\n",
       "                var nbb_cell_id = 17;\n",
       "                var nbb_unformatted_code = \"keep_vars = np.array(all_vars[(empty_values_by_columns <= num_th)])\";\n",
       "                var nbb_formatted_code = \"keep_vars = np.array(all_vars[(empty_values_by_columns <= num_th)])\";\n",
       "                var nbb_cells = Jupyter.notebook.get_cells();\n",
       "                for (var i = 0; i < nbb_cells.length; ++i) {\n",
       "                    if (nbb_cells[i].input_prompt_number == nbb_cell_id) {\n",
       "                        if (nbb_cells[i].get_text() == nbb_unformatted_code) {\n",
       "                             nbb_cells[i].set_text(nbb_formatted_code);\n",
       "                        }\n",
       "                        break;\n",
       "                    }\n",
       "                }\n",
       "            }, 500);\n",
       "            "
      ],
      "text/plain": [
       "<IPython.core.display.Javascript object>"
      ]
     },
     "metadata": {},
     "output_type": "display_data"
    }
   ],
   "source": [
    "keep_vars = np.array(all_vars[(empty_values_by_columns <= num_th)])"
   ]
  },
  {
   "cell_type": "code",
   "execution_count": 18,
   "id": "430b12ff",
   "metadata": {},
   "outputs": [
    {
     "name": "stdout",
     "output_type": "stream",
     "text": [
      "Antes do filtro: 230 variáveis\n",
      "------------------------------\n",
      "Após do filtro:  66  variáveis\n"
     ]
    },
    {
     "data": {
      "application/javascript": [
       "\n",
       "            setTimeout(function() {\n",
       "                var nbb_cell_id = 18;\n",
       "                var nbb_unformatted_code = \"print(f\\\"Antes do filtro: {len(all_vars)} vari\\u00e1veis\\\")\\nprint(\\\"------------------------------\\\")\\nprint(f\\\"Ap\\u00f3s do filtro:  {len(keep_vars)}  vari\\u00e1veis\\\")\";\n",
       "                var nbb_formatted_code = \"print(f\\\"Antes do filtro: {len(all_vars)} vari\\u00e1veis\\\")\\nprint(\\\"------------------------------\\\")\\nprint(f\\\"Ap\\u00f3s do filtro:  {len(keep_vars)}  vari\\u00e1veis\\\")\";\n",
       "                var nbb_cells = Jupyter.notebook.get_cells();\n",
       "                for (var i = 0; i < nbb_cells.length; ++i) {\n",
       "                    if (nbb_cells[i].input_prompt_number == nbb_cell_id) {\n",
       "                        if (nbb_cells[i].get_text() == nbb_unformatted_code) {\n",
       "                             nbb_cells[i].set_text(nbb_formatted_code);\n",
       "                        }\n",
       "                        break;\n",
       "                    }\n",
       "                }\n",
       "            }, 500);\n",
       "            "
      ],
      "text/plain": [
       "<IPython.core.display.Javascript object>"
      ]
     },
     "metadata": {},
     "output_type": "display_data"
    }
   ],
   "source": [
    "print(f\"Antes do filtro: {len(all_vars)} variáveis\")\n",
    "print(\"------------------------------\")\n",
    "print(f\"Após do filtro:  {len(keep_vars)}  variáveis\")"
   ]
  },
  {
   "cell_type": "markdown",
   "id": "c97d895d",
   "metadata": {},
   "source": [
    "### 3.3 Atualizando a lista de variáveis categóricas e numéricas"
   ]
  },
  {
   "cell_type": "code",
   "execution_count": 19,
   "id": "33e21f2e",
   "metadata": {},
   "outputs": [
    {
     "data": {
      "application/javascript": [
       "\n",
       "            setTimeout(function() {\n",
       "                var nbb_cell_id = 19;\n",
       "                var nbb_unformatted_code = \"num_vars = [i for i in num_vars if i in keep_vars]\\ncat_vars = [i for i in cat_vars if i in keep_vars]\";\n",
       "                var nbb_formatted_code = \"num_vars = [i for i in num_vars if i in keep_vars]\\ncat_vars = [i for i in cat_vars if i in keep_vars]\";\n",
       "                var nbb_cells = Jupyter.notebook.get_cells();\n",
       "                for (var i = 0; i < nbb_cells.length; ++i) {\n",
       "                    if (nbb_cells[i].input_prompt_number == nbb_cell_id) {\n",
       "                        if (nbb_cells[i].get_text() == nbb_unformatted_code) {\n",
       "                             nbb_cells[i].set_text(nbb_formatted_code);\n",
       "                        }\n",
       "                        break;\n",
       "                    }\n",
       "                }\n",
       "            }, 500);\n",
       "            "
      ],
      "text/plain": [
       "<IPython.core.display.Javascript object>"
      ]
     },
     "metadata": {},
     "output_type": "display_data"
    }
   ],
   "source": [
    "num_vars = [i for i in num_vars if i in keep_vars]\n",
    "cat_vars = [i for i in cat_vars if i in keep_vars]"
   ]
  },
  {
   "cell_type": "code",
   "execution_count": 20,
   "id": "b3b9c874",
   "metadata": {},
   "outputs": [
    {
     "data": {
      "text/plain": [
       "(38, 28)"
      ]
     },
     "execution_count": 20,
     "metadata": {},
     "output_type": "execute_result"
    },
    {
     "data": {
      "application/javascript": [
       "\n",
       "            setTimeout(function() {\n",
       "                var nbb_cell_id = 20;\n",
       "                var nbb_unformatted_code = \"len(num_vars), len(cat_vars)\";\n",
       "                var nbb_formatted_code = \"len(num_vars), len(cat_vars)\";\n",
       "                var nbb_cells = Jupyter.notebook.get_cells();\n",
       "                for (var i = 0; i < nbb_cells.length; ++i) {\n",
       "                    if (nbb_cells[i].input_prompt_number == nbb_cell_id) {\n",
       "                        if (nbb_cells[i].get_text() == nbb_unformatted_code) {\n",
       "                             nbb_cells[i].set_text(nbb_formatted_code);\n",
       "                        }\n",
       "                        break;\n",
       "                    }\n",
       "                }\n",
       "            }, 500);\n",
       "            "
      ],
      "text/plain": [
       "<IPython.core.display.Javascript object>"
      ]
     },
     "metadata": {},
     "output_type": "display_data"
    }
   ],
   "source": [
    "len(num_vars), len(cat_vars)"
   ]
  },
  {
   "cell_type": "markdown",
   "id": "f46cff66",
   "metadata": {},
   "source": [
    "-----------------------------------"
   ]
  },
  {
   "cell_type": "markdown",
   "id": "eb37107d",
   "metadata": {},
   "source": [
    "### 3.4 Preenchendo os valores nulos que sobraram "
   ]
  },
  {
   "cell_type": "markdown",
   "id": "170cfb7b",
   "metadata": {},
   "source": [
    "<p>\n",
    "    Com a diminuição dos valores nulos, podemos aplicar algumas técnicas com mais confiança. Para as númericas utilizaremos o preenchimento com a <b>média</b>, e as categóricas irão ganhar uma nova categoria <i>'missing'</i>\n",
    "<p>"
   ]
  },
  {
   "cell_type": "code",
   "execution_count": 21,
   "id": "b537cde2",
   "metadata": {},
   "outputs": [
    {
     "data": {
      "application/javascript": [
       "\n",
       "            setTimeout(function() {\n",
       "                var nbb_cell_id = 21;\n",
       "                var nbb_unformatted_code = \"# Vari\\u00e1veis n\\u00famericas\\nfor col in num_vars:\\n    col_mean = features_train[col].mean()\\n    features_train[col] = features_train[col].fillna(col_mean)\";\n",
       "                var nbb_formatted_code = \"# Vari\\u00e1veis n\\u00famericas\\nfor col in num_vars:\\n    col_mean = features_train[col].mean()\\n    features_train[col] = features_train[col].fillna(col_mean)\";\n",
       "                var nbb_cells = Jupyter.notebook.get_cells();\n",
       "                for (var i = 0; i < nbb_cells.length; ++i) {\n",
       "                    if (nbb_cells[i].input_prompt_number == nbb_cell_id) {\n",
       "                        if (nbb_cells[i].get_text() == nbb_unformatted_code) {\n",
       "                             nbb_cells[i].set_text(nbb_formatted_code);\n",
       "                        }\n",
       "                        break;\n",
       "                    }\n",
       "                }\n",
       "            }, 500);\n",
       "            "
      ],
      "text/plain": [
       "<IPython.core.display.Javascript object>"
      ]
     },
     "metadata": {},
     "output_type": "display_data"
    }
   ],
   "source": [
    "# Variáveis númericas\n",
    "for col in num_vars:\n",
    "    col_mean = features_train[col].mean()\n",
    "    features_train[col] = features_train[col].fillna(col_mean)"
   ]
  },
  {
   "cell_type": "code",
   "execution_count": 22,
   "id": "3762974b",
   "metadata": {},
   "outputs": [
    {
     "data": {
      "application/javascript": [
       "\n",
       "            setTimeout(function() {\n",
       "                var nbb_cell_id = 22;\n",
       "                var nbb_unformatted_code = \"# Vari\\u00e1veis categ\\u00f3ricas\\nfor col in cat_vars:\\n    features_train[col] = features_train[col].cat.add_categories(\\\"missing\\\")\\n    features_train[col] = features_train[col].fillna(\\\"missing\\\")\";\n",
       "                var nbb_formatted_code = \"# Vari\\u00e1veis categ\\u00f3ricas\\nfor col in cat_vars:\\n    features_train[col] = features_train[col].cat.add_categories(\\\"missing\\\")\\n    features_train[col] = features_train[col].fillna(\\\"missing\\\")\";\n",
       "                var nbb_cells = Jupyter.notebook.get_cells();\n",
       "                for (var i = 0; i < nbb_cells.length; ++i) {\n",
       "                    if (nbb_cells[i].input_prompt_number == nbb_cell_id) {\n",
       "                        if (nbb_cells[i].get_text() == nbb_unformatted_code) {\n",
       "                             nbb_cells[i].set_text(nbb_formatted_code);\n",
       "                        }\n",
       "                        break;\n",
       "                    }\n",
       "                }\n",
       "            }, 500);\n",
       "            "
      ],
      "text/plain": [
       "<IPython.core.display.Javascript object>"
      ]
     },
     "metadata": {},
     "output_type": "display_data"
    }
   ],
   "source": [
    "# Variáveis categóricas\n",
    "for col in cat_vars:\n",
    "    features_train[col] = features_train[col].cat.add_categories(\"missing\")\n",
    "    features_train[col] = features_train[col].fillna(\"missing\")"
   ]
  },
  {
   "cell_type": "markdown",
   "id": "d8512a58",
   "metadata": {},
   "source": [
    "-----------------------------------------"
   ]
  },
  {
   "cell_type": "markdown",
   "id": "25e3461c",
   "metadata": {},
   "source": [
    "### 3.5 Verificando a quantidade de categorias de cada variável"
   ]
  },
  {
   "cell_type": "code",
   "execution_count": 23,
   "id": "2c25438e",
   "metadata": {},
   "outputs": [
    {
     "data": {
      "application/javascript": [
       "\n",
       "            setTimeout(function() {\n",
       "                var nbb_cell_id = 23;\n",
       "                var nbb_unformatted_code = \"n_categories = features_train[cat_vars].apply(lambda x: len(set(x)))\";\n",
       "                var nbb_formatted_code = \"n_categories = features_train[cat_vars].apply(lambda x: len(set(x)))\";\n",
       "                var nbb_cells = Jupyter.notebook.get_cells();\n",
       "                for (var i = 0; i < nbb_cells.length; ++i) {\n",
       "                    if (nbb_cells[i].input_prompt_number == nbb_cell_id) {\n",
       "                        if (nbb_cells[i].get_text() == nbb_unformatted_code) {\n",
       "                             nbb_cells[i].set_text(nbb_formatted_code);\n",
       "                        }\n",
       "                        break;\n",
       "                    }\n",
       "                }\n",
       "            }, 500);\n",
       "            "
      ],
      "text/plain": [
       "<IPython.core.display.Javascript object>"
      ]
     },
     "metadata": {},
     "output_type": "display_data"
    }
   ],
   "source": [
    "n_categories = features_train[cat_vars].apply(lambda x: len(set(x)))"
   ]
  },
  {
   "cell_type": "markdown",
   "id": "c4b2120c",
   "metadata": {},
   "source": [
    "<p>\n",
    "    Visualizando a quantidade de categorias por variável.\n",
    "</p>"
   ]
  },
  {
   "cell_type": "code",
   "execution_count": 24,
   "id": "891c14ad",
   "metadata": {},
   "outputs": [
    {
     "data": {
      "text/plain": [
       "Text(0.5, 1.0, 'Número de Categoria por Variável')"
      ]
     },
     "execution_count": 24,
     "metadata": {},
     "output_type": "execute_result"
    },
    {
     "data": {
      "image/png": "[encoded data removed]",
      "text/plain": [
       "<Figure size 640x480 with 1 Axes>"
      ]
     },
     "metadata": {},
     "output_type": "display_data"
    },
    {
     "data": {
      "application/javascript": [
       "\n",
       "            setTimeout(function() {\n",
       "                var nbb_cell_id = 24;\n",
       "                var nbb_unformatted_code = \"sns.histplot(n_categories)\\nplt.title(\\\"N\\u00famero de Categoria por Vari\\u00e1vel\\\")\";\n",
       "                var nbb_formatted_code = \"sns.histplot(n_categories)\\nplt.title(\\\"N\\u00famero de Categoria por Vari\\u00e1vel\\\")\";\n",
       "                var nbb_cells = Jupyter.notebook.get_cells();\n",
       "                for (var i = 0; i < nbb_cells.length; ++i) {\n",
       "                    if (nbb_cells[i].input_prompt_number == nbb_cell_id) {\n",
       "                        if (nbb_cells[i].get_text() == nbb_unformatted_code) {\n",
       "                             nbb_cells[i].set_text(nbb_formatted_code);\n",
       "                        }\n",
       "                        break;\n",
       "                    }\n",
       "                }\n",
       "            }, 500);\n",
       "            "
      ],
      "text/plain": [
       "<IPython.core.display.Javascript object>"
      ]
     },
     "metadata": {},
     "output_type": "display_data"
    }
   ],
   "source": [
    "sns.histplot(n_categories)\n",
    "plt.title(\"Número de Categoria por Variável\")"
   ]
  },
  {
   "cell_type": "markdown",
   "id": "95003145",
   "metadata": {},
   "source": [
    "#### Observações:\n",
    "<p>\n",
    "    Existem algumas variáveis com um número expressivo de categorias, o que não vai refletir    informações relevantes no modelo. Podemos observar pelo gráfico, das 28 variáveis, um pouco mais de 20 se encontram com menos de 2000 categorias, e nesse ponto limitaremos um corte.\n",
    "</p>"
   ]
  },
  {
   "cell_type": "code",
   "execution_count": 25,
   "id": "d1d22910",
   "metadata": {},
   "outputs": [
    {
     "data": {
      "application/javascript": [
       "\n",
       "            setTimeout(function() {\n",
       "                var nbb_cell_id = 25;\n",
       "                var nbb_unformatted_code = \"cat_vars = np.array(n_categories[n_categories < 2000].index)\";\n",
       "                var nbb_formatted_code = \"cat_vars = np.array(n_categories[n_categories < 2000].index)\";\n",
       "                var nbb_cells = Jupyter.notebook.get_cells();\n",
       "                for (var i = 0; i < nbb_cells.length; ++i) {\n",
       "                    if (nbb_cells[i].input_prompt_number == nbb_cell_id) {\n",
       "                        if (nbb_cells[i].get_text() == nbb_unformatted_code) {\n",
       "                             nbb_cells[i].set_text(nbb_formatted_code);\n",
       "                        }\n",
       "                        break;\n",
       "                    }\n",
       "                }\n",
       "            }, 500);\n",
       "            "
      ],
      "text/plain": [
       "<IPython.core.display.Javascript object>"
      ]
     },
     "metadata": {},
     "output_type": "display_data"
    }
   ],
   "source": [
    "cat_vars = np.array(n_categories[n_categories < 2000].index)"
   ]
  },
  {
   "cell_type": "code",
   "execution_count": 26,
   "id": "cf9b9551",
   "metadata": {},
   "outputs": [
    {
     "name": "stdout",
     "output_type": "stream",
     "text": [
      "Número de variáveis restantes: 21\n"
     ]
    },
    {
     "data": {
      "application/javascript": [
       "\n",
       "            setTimeout(function() {\n",
       "                var nbb_cell_id = 26;\n",
       "                var nbb_unformatted_code = \"print(f\\\"N\\u00famero de vari\\u00e1veis restantes: {len(cat_vars)}\\\")\";\n",
       "                var nbb_formatted_code = \"print(f\\\"N\\u00famero de vari\\u00e1veis restantes: {len(cat_vars)}\\\")\";\n",
       "                var nbb_cells = Jupyter.notebook.get_cells();\n",
       "                for (var i = 0; i < nbb_cells.length; ++i) {\n",
       "                    if (nbb_cells[i].input_prompt_number == nbb_cell_id) {\n",
       "                        if (nbb_cells[i].get_text() == nbb_unformatted_code) {\n",
       "                             nbb_cells[i].set_text(nbb_formatted_code);\n",
       "                        }\n",
       "                        break;\n",
       "                    }\n",
       "                }\n",
       "            }, 500);\n",
       "            "
      ],
      "text/plain": [
       "<IPython.core.display.Javascript object>"
      ]
     },
     "metadata": {},
     "output_type": "display_data"
    }
   ],
   "source": [
    "print(f\"Número de variáveis restantes: {len(cat_vars)}\")"
   ]
  },
  {
   "cell_type": "markdown",
   "id": "a2652df5",
   "metadata": {},
   "source": [
    "## 4. Seleção de Variáveis"
   ]
  },
  {
   "cell_type": "markdown",
   "id": "81f671dd",
   "metadata": {},
   "source": [
    "<p>\n",
    "    Primeiro iremos juntar as variáveis categóricas e numéricas, após realizar o procedimento realizaremos a transformação das variáveis categóricas em dummies para a modelagem. \n",
    "</p>"
   ]
  },
  {
   "cell_type": "code",
   "execution_count": 27,
   "id": "220f8111",
   "metadata": {},
   "outputs": [
    {
     "name": "stdout",
     "output_type": "stream",
     "text": [
      "(50000, 59)\n"
     ]
    },
    {
     "data": {
      "text/html": [
       "<div>\n",
       "<style scoped>\n",
       "    .dataframe tbody tr th:only-of-type {\n",
       "        vertical-align: middle;\n",
       "    }\n",
       "\n",
       "    .dataframe tbody tr th {\n",
       "        vertical-align: top;\n",
       "    }\n",
       "\n",
       "    .dataframe thead th {\n",
       "        text-align: right;\n",
       "    }\n",
       "</style>\n",
       "<table border=\"1\" class=\"dataframe\">\n",
       "  <thead>\n",
       "    <tr style=\"text-align: right;\">\n",
       "      <th></th>\n",
       "      <th>Var6</th>\n",
       "      <th>Var7</th>\n",
       "      <th>Var13</th>\n",
       "      <th>Var21</th>\n",
       "      <th>Var22</th>\n",
       "      <th>Var24</th>\n",
       "      <th>Var25</th>\n",
       "      <th>Var28</th>\n",
       "      <th>Var35</th>\n",
       "      <th>Var38</th>\n",
       "      <th>...</th>\n",
       "      <th>Var210</th>\n",
       "      <th>Var211</th>\n",
       "      <th>Var212</th>\n",
       "      <th>Var218</th>\n",
       "      <th>Var219</th>\n",
       "      <th>Var221</th>\n",
       "      <th>Var223</th>\n",
       "      <th>Var226</th>\n",
       "      <th>Var227</th>\n",
       "      <th>Var228</th>\n",
       "    </tr>\n",
       "  </thead>\n",
       "  <tbody>\n",
       "    <tr>\n",
       "      <th>0</th>\n",
       "      <td>1,526.000</td>\n",
       "      <td>7.000</td>\n",
       "      <td>184.000</td>\n",
       "      <td>464.000</td>\n",
       "      <td>580.000</td>\n",
       "      <td>14.000</td>\n",
       "      <td>128.000</td>\n",
       "      <td>166.560</td>\n",
       "      <td>0.000</td>\n",
       "      <td>3,570.000</td>\n",
       "      <td>...</td>\n",
       "      <td>uKAI</td>\n",
       "      <td>L84s</td>\n",
       "      <td>XfqtO3UdzaXh_</td>\n",
       "      <td>cJvF</td>\n",
       "      <td>FzaX</td>\n",
       "      <td>oslk</td>\n",
       "      <td>jySVZNlOJy</td>\n",
       "      <td>xb3V</td>\n",
       "      <td>RAYp</td>\n",
       "      <td>F2FyR07IdsN7I</td>\n",
       "    </tr>\n",
       "    <tr>\n",
       "      <th>1</th>\n",
       "      <td>525.000</td>\n",
       "      <td>0.000</td>\n",
       "      <td>0.000</td>\n",
       "      <td>168.000</td>\n",
       "      <td>210.000</td>\n",
       "      <td>2.000</td>\n",
       "      <td>24.000</td>\n",
       "      <td>353.520</td>\n",
       "      <td>0.000</td>\n",
       "      <td>4,764,966.000</td>\n",
       "      <td>...</td>\n",
       "      <td>uKAI</td>\n",
       "      <td>L84s</td>\n",
       "      <td>NhsEn4L</td>\n",
       "      <td>missing</td>\n",
       "      <td>FzaX</td>\n",
       "      <td>oslk</td>\n",
       "      <td>LM8l689qOp</td>\n",
       "      <td>fKCe</td>\n",
       "      <td>RAYp</td>\n",
       "      <td>F2FyR07IdsN7I</td>\n",
       "    </tr>\n",
       "    <tr>\n",
       "      <th>2</th>\n",
       "      <td>5,236.000</td>\n",
       "      <td>7.000</td>\n",
       "      <td>904.000</td>\n",
       "      <td>1,212.000</td>\n",
       "      <td>1,515.000</td>\n",
       "      <td>26.000</td>\n",
       "      <td>816.000</td>\n",
       "      <td>220.080</td>\n",
       "      <td>0.000</td>\n",
       "      <td>5,883,894.000</td>\n",
       "      <td>...</td>\n",
       "      <td>uKAI</td>\n",
       "      <td>L84s</td>\n",
       "      <td>UbxQ8lZ</td>\n",
       "      <td>UYBR</td>\n",
       "      <td>FzaX</td>\n",
       "      <td>Al6ZaUT</td>\n",
       "      <td>jySVZNlOJy</td>\n",
       "      <td>Qu4f</td>\n",
       "      <td>02N6s8f</td>\n",
       "      <td>ib5G6X1eUxUn6</td>\n",
       "    </tr>\n",
       "    <tr>\n",
       "      <th>3</th>\n",
       "      <td>1,326.437</td>\n",
       "      <td>0.000</td>\n",
       "      <td>0.000</td>\n",
       "      <td>234.518</td>\n",
       "      <td>0.000</td>\n",
       "      <td>4.508</td>\n",
       "      <td>0.000</td>\n",
       "      <td>22.080</td>\n",
       "      <td>0.000</td>\n",
       "      <td>0.000</td>\n",
       "      <td>...</td>\n",
       "      <td>uKAI</td>\n",
       "      <td>Mtgm</td>\n",
       "      <td>NhsEn4L</td>\n",
       "      <td>UYBR</td>\n",
       "      <td>FzaX</td>\n",
       "      <td>oslk</td>\n",
       "      <td>LM8l689qOp</td>\n",
       "      <td>FSa2</td>\n",
       "      <td>RAYp</td>\n",
       "      <td>F2FyR07IdsN7I</td>\n",
       "    </tr>\n",
       "    <tr>\n",
       "      <th>4</th>\n",
       "      <td>1,029.000</td>\n",
       "      <td>7.000</td>\n",
       "      <td>3,216.000</td>\n",
       "      <td>64.000</td>\n",
       "      <td>80.000</td>\n",
       "      <td>4.000</td>\n",
       "      <td>64.000</td>\n",
       "      <td>200.000</td>\n",
       "      <td>0.000</td>\n",
       "      <td>0.000</td>\n",
       "      <td>...</td>\n",
       "      <td>uKAI</td>\n",
       "      <td>L84s</td>\n",
       "      <td>XfqtO3UdzaXh_</td>\n",
       "      <td>UYBR</td>\n",
       "      <td>FzaX</td>\n",
       "      <td>oslk</td>\n",
       "      <td>LM8l689qOp</td>\n",
       "      <td>FSa2</td>\n",
       "      <td>RAYp</td>\n",
       "      <td>F2FyR07IdsN7I</td>\n",
       "    </tr>\n",
       "  </tbody>\n",
       "</table>\n",
       "<p>5 rows × 59 columns</p>\n",
       "</div>"
      ],
      "text/plain": [
       "       Var6  Var7     Var13     Var21     Var22  Var24   Var25   Var28  Var35  \\\n",
       "0 1,526.000 7.000   184.000   464.000   580.000 14.000 128.000 166.560  0.000   \n",
       "1   525.000 0.000     0.000   168.000   210.000  2.000  24.000 353.520  0.000   \n",
       "2 5,236.000 7.000   904.000 1,212.000 1,515.000 26.000 816.000 220.080  0.000   \n",
       "3 1,326.437 0.000     0.000   234.518     0.000  4.508   0.000  22.080  0.000   \n",
       "4 1,029.000 7.000 3,216.000    64.000    80.000  4.000  64.000 200.000  0.000   \n",
       "\n",
       "          Var38  ...  Var210  Var211         Var212   Var218  Var219   Var221  \\\n",
       "0     3,570.000  ...    uKAI    L84s  XfqtO3UdzaXh_     cJvF    FzaX     oslk   \n",
       "1 4,764,966.000  ...    uKAI    L84s        NhsEn4L  missing    FzaX     oslk   \n",
       "2 5,883,894.000  ...    uKAI    L84s        UbxQ8lZ     UYBR    FzaX  Al6ZaUT   \n",
       "3         0.000  ...    uKAI    Mtgm        NhsEn4L     UYBR    FzaX     oslk   \n",
       "4         0.000  ...    uKAI    L84s  XfqtO3UdzaXh_     UYBR    FzaX     oslk   \n",
       "\n",
       "       Var223  Var226   Var227         Var228  \n",
       "0  jySVZNlOJy    xb3V     RAYp  F2FyR07IdsN7I  \n",
       "1  LM8l689qOp    fKCe     RAYp  F2FyR07IdsN7I  \n",
       "2  jySVZNlOJy    Qu4f  02N6s8f  ib5G6X1eUxUn6  \n",
       "3  LM8l689qOp    FSa2     RAYp  F2FyR07IdsN7I  \n",
       "4  LM8l689qOp    FSa2     RAYp  F2FyR07IdsN7I  \n",
       "\n",
       "[5 rows x 59 columns]"
      ]
     },
     "execution_count": 27,
     "metadata": {},
     "output_type": "execute_result"
    },
    {
     "data": {
      "application/javascript": [
       "\n",
       "            setTimeout(function() {\n",
       "                var nbb_cell_id = 27;\n",
       "                var nbb_unformatted_code = \"# features_train\\nfeatures_train = features_train[list(num_vars) + list(cat_vars)]\\nprint(features_train.shape)\\nfeatures_train.head()\";\n",
       "                var nbb_formatted_code = \"# features_train\\nfeatures_train = features_train[list(num_vars) + list(cat_vars)]\\nprint(features_train.shape)\\nfeatures_train.head()\";\n",
       "                var nbb_cells = Jupyter.notebook.get_cells();\n",
       "                for (var i = 0; i < nbb_cells.length; ++i) {\n",
       "                    if (nbb_cells[i].input_prompt_number == nbb_cell_id) {\n",
       "                        if (nbb_cells[i].get_text() == nbb_unformatted_code) {\n",
       "                             nbb_cells[i].set_text(nbb_formatted_code);\n",
       "                        }\n",
       "                        break;\n",
       "                    }\n",
       "                }\n",
       "            }, 500);\n",
       "            "
      ],
      "text/plain": [
       "<IPython.core.display.Javascript object>"
      ]
     },
     "metadata": {},
     "output_type": "display_data"
    }
   ],
   "source": [
    "# features_train\n",
    "features_train = features_train[list(num_vars) + list(cat_vars)]\n",
    "print(features_train.shape)\n",
    "features_train.head()"
   ]
  },
  {
   "cell_type": "code",
   "execution_count": 28,
   "id": "2778b2a0",
   "metadata": {},
   "outputs": [
    {
     "data": {
      "text/plain": [
       "(50000, 1052)"
      ]
     },
     "execution_count": 28,
     "metadata": {},
     "output_type": "execute_result"
    },
    {
     "data": {
      "application/javascript": [
       "\n",
       "            setTimeout(function() {\n",
       "                var nbb_cell_id = 28;\n",
       "                var nbb_unformatted_code = \"# features_train\\nfeatures_train = pd.get_dummies(features_train)\\nfeatures_train.shape\";\n",
       "                var nbb_formatted_code = \"# features_train\\nfeatures_train = pd.get_dummies(features_train)\\nfeatures_train.shape\";\n",
       "                var nbb_cells = Jupyter.notebook.get_cells();\n",
       "                for (var i = 0; i < nbb_cells.length; ++i) {\n",
       "                    if (nbb_cells[i].input_prompt_number == nbb_cell_id) {\n",
       "                        if (nbb_cells[i].get_text() == nbb_unformatted_code) {\n",
       "                             nbb_cells[i].set_text(nbb_formatted_code);\n",
       "                        }\n",
       "                        break;\n",
       "                    }\n",
       "                }\n",
       "            }, 500);\n",
       "            "
      ],
      "text/plain": [
       "<IPython.core.display.Javascript object>"
      ]
     },
     "metadata": {},
     "output_type": "display_data"
    }
   ],
   "source": [
    "# features_train\n",
    "features_train = pd.get_dummies(features_train)\n",
    "features_train.shape"
   ]
  },
  {
   "cell_type": "markdown",
   "id": "b237e7bf",
   "metadata": {},
   "source": [
    "---------------------------------"
   ]
  },
  {
   "cell_type": "markdown",
   "id": "62bdd9cc",
   "metadata": {},
   "source": [
    "### 4.1 Extra Trees Classifier"
   ]
  },
  {
   "cell_type": "markdown",
   "id": "a70d674a",
   "metadata": {},
   "source": [
    "<p>\n",
    "    Utilizaremos o modelo Extra Trees Classifier, ele não é muito comentado, mas tem um bom desempenho com a seleção de variáveis.\n",
    "</p>\n",
    "<p>\n",
    "    Existem variáveis que iremos fazer a previsão, cada variável terá suas variáveis mais importantes, começaremos pelo <code><b>CHURN</b></code>:\n",
    "</p>"
   ]
  },
  {
   "cell_type": "code",
   "execution_count": 29,
   "id": "c8975e56",
   "metadata": {},
   "outputs": [
    {
     "data": {
      "application/javascript": [
       "\n",
       "            setTimeout(function() {\n",
       "                var nbb_cell_id = 29;\n",
       "                var nbb_unformatted_code = \"# Fun\\u00e7\\u00e3o para receber as vari\\u00e1veis e sua import\\u00e2ncia.\\ndef var_importances(features, outcome):\\n    model = ExtraTreesClassifier(n_estimators=200, criterion=\\\"entropy\\\", verbose=0)\\n    model.fit(features, np.array(outcome).ravel())\\n\\n    importances = model.feature_importances_\\n    variables = np.array(features.columns)\\n    indices = np.argsort(importances)[::-1]\\n    importances = importances[indices]\\n    variables = variables[indices]\\n\\n    return variables, importances\";\n",
       "                var nbb_formatted_code = \"# Fun\\u00e7\\u00e3o para receber as vari\\u00e1veis e sua import\\u00e2ncia.\\ndef var_importances(features, outcome):\\n    model = ExtraTreesClassifier(n_estimators=200, criterion=\\\"entropy\\\", verbose=0)\\n    model.fit(features, np.array(outcome).ravel())\\n\\n    importances = model.feature_importances_\\n    variables = np.array(features.columns)\\n    indices = np.argsort(importances)[::-1]\\n    importances = importances[indices]\\n    variables = variables[indices]\\n\\n    return variables, importances\";\n",
       "                var nbb_cells = Jupyter.notebook.get_cells();\n",
       "                for (var i = 0; i < nbb_cells.length; ++i) {\n",
       "                    if (nbb_cells[i].input_prompt_number == nbb_cell_id) {\n",
       "                        if (nbb_cells[i].get_text() == nbb_unformatted_code) {\n",
       "                             nbb_cells[i].set_text(nbb_formatted_code);\n",
       "                        }\n",
       "                        break;\n",
       "                    }\n",
       "                }\n",
       "            }, 500);\n",
       "            "
      ],
      "text/plain": [
       "<IPython.core.display.Javascript object>"
      ]
     },
     "metadata": {},
     "output_type": "display_data"
    }
   ],
   "source": [
    "# Função para receber as variáveis e sua importância.\n",
    "def var_importances(features, outcome):\n",
    "    model = ExtraTreesClassifier(n_estimators=200, criterion=\"entropy\", verbose=0)\n",
    "    model.fit(features, np.array(outcome).ravel())\n",
    "\n",
    "    importances = model.feature_importances_\n",
    "    variables = np.array(features.columns)\n",
    "    indices = np.argsort(importances)[::-1]\n",
    "    importances = importances[indices]\n",
    "    variables = variables[indices]\n",
    "\n",
    "    return variables, importances"
   ]
  },
  {
   "cell_type": "markdown",
   "id": "8944343b",
   "metadata": {},
   "source": [
    "### 4.1.1 Churn"
   ]
  },
  {
   "cell_type": "code",
   "execution_count": 30,
   "id": "06c19c52",
   "metadata": {},
   "outputs": [
    {
     "data": {
      "application/javascript": [
       "\n",
       "            setTimeout(function() {\n",
       "                var nbb_cell_id = 30;\n",
       "                var nbb_unformatted_code = \"variables, importances = var_importances(features_train, churn)\";\n",
       "                var nbb_formatted_code = \"variables, importances = var_importances(features_train, churn)\";\n",
       "                var nbb_cells = Jupyter.notebook.get_cells();\n",
       "                for (var i = 0; i < nbb_cells.length; ++i) {\n",
       "                    if (nbb_cells[i].input_prompt_number == nbb_cell_id) {\n",
       "                        if (nbb_cells[i].get_text() == nbb_unformatted_code) {\n",
       "                             nbb_cells[i].set_text(nbb_formatted_code);\n",
       "                        }\n",
       "                        break;\n",
       "                    }\n",
       "                }\n",
       "            }, 500);\n",
       "            "
      ],
      "text/plain": [
       "<IPython.core.display.Javascript object>"
      ]
     },
     "metadata": {},
     "output_type": "display_data"
    }
   ],
   "source": [
    "variables, importances = var_importances(features_train, churn)"
   ]
  },
  {
   "cell_type": "code",
   "execution_count": 31,
   "id": "b533f9c1",
   "metadata": {},
   "outputs": [
    {
     "data": {
      "text/html": [
       "<div>\n",
       "<style scoped>\n",
       "    .dataframe tbody tr th:only-of-type {\n",
       "        vertical-align: middle;\n",
       "    }\n",
       "\n",
       "    .dataframe tbody tr th {\n",
       "        vertical-align: top;\n",
       "    }\n",
       "\n",
       "    .dataframe thead th {\n",
       "        text-align: right;\n",
       "    }\n",
       "</style>\n",
       "<table border=\"1\" class=\"dataframe\">\n",
       "  <thead>\n",
       "    <tr style=\"text-align: right;\">\n",
       "      <th></th>\n",
       "      <th>variables</th>\n",
       "      <th>importances</th>\n",
       "    </tr>\n",
       "  </thead>\n",
       "  <tbody>\n",
       "    <tr>\n",
       "      <th>0</th>\n",
       "      <td>Var57</td>\n",
       "      <td>0.018</td>\n",
       "    </tr>\n",
       "    <tr>\n",
       "      <th>1</th>\n",
       "      <td>Var73</td>\n",
       "      <td>0.018</td>\n",
       "    </tr>\n",
       "    <tr>\n",
       "      <th>2</th>\n",
       "      <td>Var113</td>\n",
       "      <td>0.017</td>\n",
       "    </tr>\n",
       "    <tr>\n",
       "      <th>3</th>\n",
       "      <td>Var81</td>\n",
       "      <td>0.014</td>\n",
       "    </tr>\n",
       "    <tr>\n",
       "      <th>4</th>\n",
       "      <td>Var153</td>\n",
       "      <td>0.014</td>\n",
       "    </tr>\n",
       "    <tr>\n",
       "      <th>...</th>\n",
       "      <td>...</td>\n",
       "      <td>...</td>\n",
       "    </tr>\n",
       "    <tr>\n",
       "      <th>1047</th>\n",
       "      <td>Var212_missing</td>\n",
       "      <td>0.000</td>\n",
       "    </tr>\n",
       "    <tr>\n",
       "      <th>1048</th>\n",
       "      <td>Var193_QG5U1Qs9mF3805lxYz2cGPnrm</td>\n",
       "      <td>0.000</td>\n",
       "    </tr>\n",
       "    <tr>\n",
       "      <th>1049</th>\n",
       "      <td>Var193_KjAW4rq3iyvu8XwKkyQ2_svIATjM3B5</td>\n",
       "      <td>0.000</td>\n",
       "    </tr>\n",
       "    <tr>\n",
       "      <th>1050</th>\n",
       "      <td>Var204_missing</td>\n",
       "      <td>0.000</td>\n",
       "    </tr>\n",
       "    <tr>\n",
       "      <th>1051</th>\n",
       "      <td>Var228_missing</td>\n",
       "      <td>0.000</td>\n",
       "    </tr>\n",
       "  </tbody>\n",
       "</table>\n",
       "<p>1052 rows × 2 columns</p>\n",
       "</div>"
      ],
      "text/plain": [
       "                                   variables  importances\n",
       "0                                      Var57        0.018\n",
       "1                                      Var73        0.018\n",
       "2                                     Var113        0.017\n",
       "3                                      Var81        0.014\n",
       "4                                     Var153        0.014\n",
       "...                                      ...          ...\n",
       "1047                          Var212_missing        0.000\n",
       "1048        Var193_QG5U1Qs9mF3805lxYz2cGPnrm        0.000\n",
       "1049  Var193_KjAW4rq3iyvu8XwKkyQ2_svIATjM3B5        0.000\n",
       "1050                          Var204_missing        0.000\n",
       "1051                          Var228_missing        0.000\n",
       "\n",
       "[1052 rows x 2 columns]"
      ]
     },
     "execution_count": 31,
     "metadata": {},
     "output_type": "execute_result"
    },
    {
     "data": {
      "application/javascript": [
       "\n",
       "            setTimeout(function() {\n",
       "                var nbb_cell_id = 31;\n",
       "                var nbb_unformatted_code = \"df_importances = pd.DataFrame({\\\"variables\\\": variables, \\\"importances\\\": importances})\\ndf_importances\";\n",
       "                var nbb_formatted_code = \"df_importances = pd.DataFrame({\\\"variables\\\": variables, \\\"importances\\\": importances})\\ndf_importances\";\n",
       "                var nbb_cells = Jupyter.notebook.get_cells();\n",
       "                for (var i = 0; i < nbb_cells.length; ++i) {\n",
       "                    if (nbb_cells[i].input_prompt_number == nbb_cell_id) {\n",
       "                        if (nbb_cells[i].get_text() == nbb_unformatted_code) {\n",
       "                             nbb_cells[i].set_text(nbb_formatted_code);\n",
       "                        }\n",
       "                        break;\n",
       "                    }\n",
       "                }\n",
       "            }, 500);\n",
       "            "
      ],
      "text/plain": [
       "<IPython.core.display.Javascript object>"
      ]
     },
     "metadata": {},
     "output_type": "display_data"
    }
   ],
   "source": [
    "df_importances = pd.DataFrame({\"variables\": variables, \"importances\": importances})\n",
    "df_importances"
   ]
  },
  {
   "cell_type": "markdown",
   "id": "51fd9675",
   "metadata": {},
   "source": [
    "------------------------------------------------------"
   ]
  },
  {
   "cell_type": "markdown",
   "id": "f70f13a4",
   "metadata": {},
   "source": [
    "<p>\n",
    "    O dataset está da variável de maior importância, para a de menor importância, podemos notar que pelos últimos valores que não representam a menor significância para o modelo. E o total da soma das importâncias, resultará no valor 1.0. Por isso faremos um corte das variáveis que não trazem significância. \n",
    "<p>"
   ]
  },
  {
   "cell_type": "markdown",
   "id": "1884bf78",
   "metadata": {},
   "source": [
    "#### 4.1.2 Visualizando a importância das variáveis"
   ]
  },
  {
   "cell_type": "code",
   "execution_count": 32,
   "id": "c33f44d2",
   "metadata": {},
   "outputs": [
    {
     "data": {
      "application/javascript": [
       "\n",
       "            setTimeout(function() {\n",
       "                var nbb_cell_id = 32;\n",
       "                var nbb_unformatted_code = \"def sum_and_plot(variables, importances):\\n    var = []\\n    imp_sum = []\\n    for i in range(len(importances)):\\n        sum_importances = importances[: (i + 1)].sum()\\n        var.append(variables[i])\\n        imp_sum.append(sum_importances)\\n    sum_importances = pd.DataFrame({\\\"var\\\": var, \\\"sum_importances\\\": imp_sum})\\n    plt.scatter(sum_importances.index, sum_importances.iloc[:, 1])\\n    return sum_importances\";\n",
       "                var nbb_formatted_code = \"def sum_and_plot(variables, importances):\\n    var = []\\n    imp_sum = []\\n    for i in range(len(importances)):\\n        sum_importances = importances[: (i + 1)].sum()\\n        var.append(variables[i])\\n        imp_sum.append(sum_importances)\\n    sum_importances = pd.DataFrame({\\\"var\\\": var, \\\"sum_importances\\\": imp_sum})\\n    plt.scatter(sum_importances.index, sum_importances.iloc[:, 1])\\n    return sum_importances\";\n",
       "                var nbb_cells = Jupyter.notebook.get_cells();\n",
       "                for (var i = 0; i < nbb_cells.length; ++i) {\n",
       "                    if (nbb_cells[i].input_prompt_number == nbb_cell_id) {\n",
       "                        if (nbb_cells[i].get_text() == nbb_unformatted_code) {\n",
       "                             nbb_cells[i].set_text(nbb_formatted_code);\n",
       "                        }\n",
       "                        break;\n",
       "                    }\n",
       "                }\n",
       "            }, 500);\n",
       "            "
      ],
      "text/plain": [
       "<IPython.core.display.Javascript object>"
      ]
     },
     "metadata": {},
     "output_type": "display_data"
    }
   ],
   "source": [
    "def sum_and_plot(variables, importances):\n",
    "    var = []\n",
    "    imp_sum = []\n",
    "    for i in range(len(importances)):\n",
    "        sum_importances = importances[: (i + 1)].sum()\n",
    "        var.append(variables[i])\n",
    "        imp_sum.append(sum_importances)\n",
    "    sum_importances = pd.DataFrame({\"var\": var, \"sum_importances\": imp_sum})\n",
    "    plt.scatter(sum_importances.index, sum_importances.iloc[:, 1])\n",
    "    return sum_importances"
   ]
  },
  {
   "cell_type": "code",
   "execution_count": 33,
   "id": "429d57e6",
   "metadata": {},
   "outputs": [
    {
     "data": {
      "image/png": "[encoded data removed]",
      "text/plain": [
       "<Figure size 640x480 with 1 Axes>"
      ]
     },
     "metadata": {},
     "output_type": "display_data"
    },
    {
     "data": {
      "application/javascript": [
       "\n",
       "            setTimeout(function() {\n",
       "                var nbb_cell_id = 33;\n",
       "                var nbb_unformatted_code = \"sum_importances = sum_and_plot(variables, importances)\";\n",
       "                var nbb_formatted_code = \"sum_importances = sum_and_plot(variables, importances)\";\n",
       "                var nbb_cells = Jupyter.notebook.get_cells();\n",
       "                for (var i = 0; i < nbb_cells.length; ++i) {\n",
       "                    if (nbb_cells[i].input_prompt_number == nbb_cell_id) {\n",
       "                        if (nbb_cells[i].get_text() == nbb_unformatted_code) {\n",
       "                             nbb_cells[i].set_text(nbb_formatted_code);\n",
       "                        }\n",
       "                        break;\n",
       "                    }\n",
       "                }\n",
       "            }, 500);\n",
       "            "
      ],
      "text/plain": [
       "<IPython.core.display.Javascript object>"
      ]
     },
     "metadata": {},
     "output_type": "display_data"
    }
   ],
   "source": [
    "sum_importances = sum_and_plot(variables, importances)"
   ]
  },
  {
   "cell_type": "markdown",
   "id": "59c12a91",
   "metadata": {},
   "source": [
    "#### Observações:\n",
    "\n",
    "<p>\n",
    "    Pelo gráfico a reta, ele atinge um valor próximo de 1, perto das 700 variáveis, iremos utilizar as variáveis que somam 0.99 e retirar o resto.\n",
    "</p>"
   ]
  },
  {
   "cell_type": "markdown",
   "id": "29761b0d",
   "metadata": {},
   "source": [
    "#### 4.1.3 Aplicando um filtro para retirar as variáveis com menor importância"
   ]
  },
  {
   "cell_type": "code",
   "execution_count": 34,
   "id": "385edbe9",
   "metadata": {},
   "outputs": [
    {
     "data": {
      "application/javascript": [
       "\n",
       "            setTimeout(function() {\n",
       "                var nbb_cell_id = 34;\n",
       "                var nbb_unformatted_code = \"keep_vars = sum_importances[sum_importances.iloc[:, 1] <= 0.99].iloc[:, 0]\";\n",
       "                var nbb_formatted_code = \"keep_vars = sum_importances[sum_importances.iloc[:, 1] <= 0.99].iloc[:, 0]\";\n",
       "                var nbb_cells = Jupyter.notebook.get_cells();\n",
       "                for (var i = 0; i < nbb_cells.length; ++i) {\n",
       "                    if (nbb_cells[i].input_prompt_number == nbb_cell_id) {\n",
       "                        if (nbb_cells[i].get_text() == nbb_unformatted_code) {\n",
       "                             nbb_cells[i].set_text(nbb_formatted_code);\n",
       "                        }\n",
       "                        break;\n",
       "                    }\n",
       "                }\n",
       "            }, 500);\n",
       "            "
      ],
      "text/plain": [
       "<IPython.core.display.Javascript object>"
      ]
     },
     "metadata": {},
     "output_type": "display_data"
    }
   ],
   "source": [
    "keep_vars = sum_importances[sum_importances.iloc[:, 1] <= 0.99].iloc[:, 0]"
   ]
  },
  {
   "cell_type": "code",
   "execution_count": 35,
   "id": "82376206",
   "metadata": {},
   "outputs": [
    {
     "data": {
      "text/plain": [
       "(50000, 685)"
      ]
     },
     "execution_count": 35,
     "metadata": {},
     "output_type": "execute_result"
    },
    {
     "data": {
      "application/javascript": [
       "\n",
       "            setTimeout(function() {\n",
       "                var nbb_cell_id = 35;\n",
       "                var nbb_unformatted_code = \"features_train_churn = features_train[keep_vars]\\nfeatures_train_churn.shape\";\n",
       "                var nbb_formatted_code = \"features_train_churn = features_train[keep_vars]\\nfeatures_train_churn.shape\";\n",
       "                var nbb_cells = Jupyter.notebook.get_cells();\n",
       "                for (var i = 0; i < nbb_cells.length; ++i) {\n",
       "                    if (nbb_cells[i].input_prompt_number == nbb_cell_id) {\n",
       "                        if (nbb_cells[i].get_text() == nbb_unformatted_code) {\n",
       "                             nbb_cells[i].set_text(nbb_formatted_code);\n",
       "                        }\n",
       "                        break;\n",
       "                    }\n",
       "                }\n",
       "            }, 500);\n",
       "            "
      ],
      "text/plain": [
       "<IPython.core.display.Javascript object>"
      ]
     },
     "metadata": {},
     "output_type": "display_data"
    }
   ],
   "source": [
    "features_train_churn = features_train[keep_vars]\n",
    "features_train_churn.shape"
   ]
  },
  {
   "cell_type": "markdown",
   "id": "0aee1668",
   "metadata": {},
   "source": [
    "#### 4.1.4 Exportando o Dataset"
   ]
  },
  {
   "cell_type": "markdown",
   "id": "6b2e3b9e",
   "metadata": {},
   "source": [
    "<p>\n",
    "    Exportando o Dataset que iremos realizar as previsões em outro Notebook\n",
    "</p>"
   ]
  },
  {
   "cell_type": "code",
   "execution_count": 51,
   "id": "07104b66",
   "metadata": {},
   "outputs": [
    {
     "data": {
      "application/javascript": [
       "\n",
       "            setTimeout(function() {\n",
       "                var nbb_cell_id = 51;\n",
       "                var nbb_unformatted_code = \"features_train_churn.to_csv(\\\"features_train_churn.csv\\\", index=False)\";\n",
       "                var nbb_formatted_code = \"features_train_churn.to_csv(\\\"features_train_churn.csv\\\", index=False)\";\n",
       "                var nbb_cells = Jupyter.notebook.get_cells();\n",
       "                for (var i = 0; i < nbb_cells.length; ++i) {\n",
       "                    if (nbb_cells[i].input_prompt_number == nbb_cell_id) {\n",
       "                        if (nbb_cells[i].get_text() == nbb_unformatted_code) {\n",
       "                             nbb_cells[i].set_text(nbb_formatted_code);\n",
       "                        }\n",
       "                        break;\n",
       "                    }\n",
       "                }\n",
       "            }, 500);\n",
       "            "
      ],
      "text/plain": [
       "<IPython.core.display.Javascript object>"
      ]
     },
     "metadata": {},
     "output_type": "display_data"
    }
   ],
   "source": [
    "features_train_churn.to_csv(\"features_train_churn.csv\", index=False)"
   ]
  },
  {
   "cell_type": "markdown",
   "id": "75804916",
   "metadata": {},
   "source": [
    "-----------------------------"
   ]
  },
  {
   "cell_type": "markdown",
   "id": "8c3857bb",
   "metadata": {},
   "source": [
    "### 4.2 Appentency"
   ]
  },
  {
   "cell_type": "markdown",
   "id": "f15aa43e",
   "metadata": {},
   "source": [
    "<p>\n",
    "    Será realizado o mesmo processo para Appentency\n",
    "</p>"
   ]
  },
  {
   "cell_type": "code",
   "execution_count": 37,
   "id": "4fcd988e",
   "metadata": {},
   "outputs": [
    {
     "data": {
      "application/javascript": [
       "\n",
       "            setTimeout(function() {\n",
       "                var nbb_cell_id = 37;\n",
       "                var nbb_unformatted_code = \"variables, importances = var_importances(features_train, appentency)\";\n",
       "                var nbb_formatted_code = \"variables, importances = var_importances(features_train, appentency)\";\n",
       "                var nbb_cells = Jupyter.notebook.get_cells();\n",
       "                for (var i = 0; i < nbb_cells.length; ++i) {\n",
       "                    if (nbb_cells[i].input_prompt_number == nbb_cell_id) {\n",
       "                        if (nbb_cells[i].get_text() == nbb_unformatted_code) {\n",
       "                             nbb_cells[i].set_text(nbb_formatted_code);\n",
       "                        }\n",
       "                        break;\n",
       "                    }\n",
       "                }\n",
       "            }, 500);\n",
       "            "
      ],
      "text/plain": [
       "<IPython.core.display.Javascript object>"
      ]
     },
     "metadata": {},
     "output_type": "display_data"
    }
   ],
   "source": [
    "variables, importances = var_importances(features_train, appentency)"
   ]
  },
  {
   "cell_type": "code",
   "execution_count": 38,
   "id": "f80bbe28",
   "metadata": {},
   "outputs": [
    {
     "data": {
      "text/html": [
       "<div>\n",
       "<style scoped>\n",
       "    .dataframe tbody tr th:only-of-type {\n",
       "        vertical-align: middle;\n",
       "    }\n",
       "\n",
       "    .dataframe tbody tr th {\n",
       "        vertical-align: top;\n",
       "    }\n",
       "\n",
       "    .dataframe thead th {\n",
       "        text-align: right;\n",
       "    }\n",
       "</style>\n",
       "<table border=\"1\" class=\"dataframe\">\n",
       "  <thead>\n",
       "    <tr style=\"text-align: right;\">\n",
       "      <th></th>\n",
       "      <th>variables</th>\n",
       "      <th>importances</th>\n",
       "    </tr>\n",
       "  </thead>\n",
       "  <tbody>\n",
       "    <tr>\n",
       "      <th>0</th>\n",
       "      <td>Var218_cJvF</td>\n",
       "      <td>0.024</td>\n",
       "    </tr>\n",
       "    <tr>\n",
       "      <th>1</th>\n",
       "      <td>Var218_UYBR</td>\n",
       "      <td>0.021</td>\n",
       "    </tr>\n",
       "    <tr>\n",
       "      <th>2</th>\n",
       "      <td>Var57</td>\n",
       "      <td>0.019</td>\n",
       "    </tr>\n",
       "    <tr>\n",
       "      <th>3</th>\n",
       "      <td>Var113</td>\n",
       "      <td>0.016</td>\n",
       "    </tr>\n",
       "    <tr>\n",
       "      <th>4</th>\n",
       "      <td>Var73</td>\n",
       "      <td>0.016</td>\n",
       "    </tr>\n",
       "    <tr>\n",
       "      <th>...</th>\n",
       "      <td>...</td>\n",
       "      <td>...</td>\n",
       "    </tr>\n",
       "    <tr>\n",
       "      <th>1047</th>\n",
       "      <td>Var192_xlbmfoTlru</td>\n",
       "      <td>0.000</td>\n",
       "    </tr>\n",
       "    <tr>\n",
       "      <th>1048</th>\n",
       "      <td>Var192_MfKrEyQtC3</td>\n",
       "      <td>0.000</td>\n",
       "    </tr>\n",
       "    <tr>\n",
       "      <th>1049</th>\n",
       "      <td>Var192_LDPvyxdtN_</td>\n",
       "      <td>0.000</td>\n",
       "    </tr>\n",
       "    <tr>\n",
       "      <th>1050</th>\n",
       "      <td>Var192_LDPrjIswVc</td>\n",
       "      <td>0.000</td>\n",
       "    </tr>\n",
       "    <tr>\n",
       "      <th>1051</th>\n",
       "      <td>Var228_missing</td>\n",
       "      <td>0.000</td>\n",
       "    </tr>\n",
       "  </tbody>\n",
       "</table>\n",
       "<p>1052 rows × 2 columns</p>\n",
       "</div>"
      ],
      "text/plain": [
       "              variables  importances\n",
       "0           Var218_cJvF        0.024\n",
       "1           Var218_UYBR        0.021\n",
       "2                 Var57        0.019\n",
       "3                Var113        0.016\n",
       "4                 Var73        0.016\n",
       "...                 ...          ...\n",
       "1047  Var192_xlbmfoTlru        0.000\n",
       "1048  Var192_MfKrEyQtC3        0.000\n",
       "1049  Var192_LDPvyxdtN_        0.000\n",
       "1050  Var192_LDPrjIswVc        0.000\n",
       "1051     Var228_missing        0.000\n",
       "\n",
       "[1052 rows x 2 columns]"
      ]
     },
     "execution_count": 38,
     "metadata": {},
     "output_type": "execute_result"
    },
    {
     "data": {
      "application/javascript": [
       "\n",
       "            setTimeout(function() {\n",
       "                var nbb_cell_id = 38;\n",
       "                var nbb_unformatted_code = \"df_importances = pd.DataFrame({\\\"variables\\\": variables, \\\"importances\\\": importances})\\ndf_importances\";\n",
       "                var nbb_formatted_code = \"df_importances = pd.DataFrame({\\\"variables\\\": variables, \\\"importances\\\": importances})\\ndf_importances\";\n",
       "                var nbb_cells = Jupyter.notebook.get_cells();\n",
       "                for (var i = 0; i < nbb_cells.length; ++i) {\n",
       "                    if (nbb_cells[i].input_prompt_number == nbb_cell_id) {\n",
       "                        if (nbb_cells[i].get_text() == nbb_unformatted_code) {\n",
       "                             nbb_cells[i].set_text(nbb_formatted_code);\n",
       "                        }\n",
       "                        break;\n",
       "                    }\n",
       "                }\n",
       "            }, 500);\n",
       "            "
      ],
      "text/plain": [
       "<IPython.core.display.Javascript object>"
      ]
     },
     "metadata": {},
     "output_type": "display_data"
    }
   ],
   "source": [
    "df_importances = pd.DataFrame({\"variables\": variables, \"importances\": importances})\n",
    "df_importances"
   ]
  },
  {
   "cell_type": "markdown",
   "id": "6b57d5d9",
   "metadata": {},
   "source": [
    "#### 4.2.2 Visualizando a importância das variáveis"
   ]
  },
  {
   "cell_type": "code",
   "execution_count": 39,
   "id": "e4abd0b0",
   "metadata": {},
   "outputs": [
    {
     "data": {
      "image/png": "[encoded data removed]",
      "text/plain": [
       "<Figure size 640x480 with 1 Axes>"
      ]
     },
     "metadata": {},
     "output_type": "display_data"
    },
    {
     "data": {
      "application/javascript": [
       "\n",
       "            setTimeout(function() {\n",
       "                var nbb_cell_id = 39;\n",
       "                var nbb_unformatted_code = \"sum_importances = sum_and_plot(variables, importances)\";\n",
       "                var nbb_formatted_code = \"sum_importances = sum_and_plot(variables, importances)\";\n",
       "                var nbb_cells = Jupyter.notebook.get_cells();\n",
       "                for (var i = 0; i < nbb_cells.length; ++i) {\n",
       "                    if (nbb_cells[i].input_prompt_number == nbb_cell_id) {\n",
       "                        if (nbb_cells[i].get_text() == nbb_unformatted_code) {\n",
       "                             nbb_cells[i].set_text(nbb_formatted_code);\n",
       "                        }\n",
       "                        break;\n",
       "                    }\n",
       "                }\n",
       "            }, 500);\n",
       "            "
      ],
      "text/plain": [
       "<IPython.core.display.Javascript object>"
      ]
     },
     "metadata": {},
     "output_type": "display_data"
    }
   ],
   "source": [
    "sum_importances = sum_and_plot(variables, importances)"
   ]
  },
  {
   "cell_type": "markdown",
   "id": "3f69e706",
   "metadata": {},
   "source": [
    "#### 4.2.3 Aplicando um filtro para retirar as variáveis com menor importância\n"
   ]
  },
  {
   "cell_type": "code",
   "execution_count": 40,
   "id": "086d2d24",
   "metadata": {},
   "outputs": [
    {
     "data": {
      "application/javascript": [
       "\n",
       "            setTimeout(function() {\n",
       "                var nbb_cell_id = 40;\n",
       "                var nbb_unformatted_code = \"keep_vars = sum_importances[sum_importances.iloc[:, 1] <= 0.99].iloc[:, 0]\";\n",
       "                var nbb_formatted_code = \"keep_vars = sum_importances[sum_importances.iloc[:, 1] <= 0.99].iloc[:, 0]\";\n",
       "                var nbb_cells = Jupyter.notebook.get_cells();\n",
       "                for (var i = 0; i < nbb_cells.length; ++i) {\n",
       "                    if (nbb_cells[i].input_prompt_number == nbb_cell_id) {\n",
       "                        if (nbb_cells[i].get_text() == nbb_unformatted_code) {\n",
       "                             nbb_cells[i].set_text(nbb_formatted_code);\n",
       "                        }\n",
       "                        break;\n",
       "                    }\n",
       "                }\n",
       "            }, 500);\n",
       "            "
      ],
      "text/plain": [
       "<IPython.core.display.Javascript object>"
      ]
     },
     "metadata": {},
     "output_type": "display_data"
    }
   ],
   "source": [
    "keep_vars = sum_importances[sum_importances.iloc[:, 1] <= 0.99].iloc[:, 0]"
   ]
  },
  {
   "cell_type": "code",
   "execution_count": 41,
   "id": "9c749e3d",
   "metadata": {},
   "outputs": [
    {
     "data": {
      "text/plain": [
       "(50000, 592)"
      ]
     },
     "execution_count": 41,
     "metadata": {},
     "output_type": "execute_result"
    },
    {
     "data": {
      "application/javascript": [
       "\n",
       "            setTimeout(function() {\n",
       "                var nbb_cell_id = 41;\n",
       "                var nbb_unformatted_code = \"features_train_appentency = features_train[keep_vars]\\nfeatures_train_appentency.shape\";\n",
       "                var nbb_formatted_code = \"features_train_appentency = features_train[keep_vars]\\nfeatures_train_appentency.shape\";\n",
       "                var nbb_cells = Jupyter.notebook.get_cells();\n",
       "                for (var i = 0; i < nbb_cells.length; ++i) {\n",
       "                    if (nbb_cells[i].input_prompt_number == nbb_cell_id) {\n",
       "                        if (nbb_cells[i].get_text() == nbb_unformatted_code) {\n",
       "                             nbb_cells[i].set_text(nbb_formatted_code);\n",
       "                        }\n",
       "                        break;\n",
       "                    }\n",
       "                }\n",
       "            }, 500);\n",
       "            "
      ],
      "text/plain": [
       "<IPython.core.display.Javascript object>"
      ]
     },
     "metadata": {},
     "output_type": "display_data"
    }
   ],
   "source": [
    "features_train_appentency = features_train[keep_vars]\n",
    "features_train_appentency.shape"
   ]
  },
  {
   "cell_type": "markdown",
   "id": "673ac2b5",
   "metadata": {},
   "source": [
    "#### 4.2.4 Exportando o Dataset"
   ]
  },
  {
   "cell_type": "code",
   "execution_count": 50,
   "id": "23c4a586",
   "metadata": {},
   "outputs": [
    {
     "data": {
      "application/javascript": [
       "\n",
       "            setTimeout(function() {\n",
       "                var nbb_cell_id = 50;\n",
       "                var nbb_unformatted_code = \"features_train_appentency.to_csv(\\\"features_train_appentency.csv\\\", index=False)\";\n",
       "                var nbb_formatted_code = \"features_train_appentency.to_csv(\\\"features_train_appentency.csv\\\", index=False)\";\n",
       "                var nbb_cells = Jupyter.notebook.get_cells();\n",
       "                for (var i = 0; i < nbb_cells.length; ++i) {\n",
       "                    if (nbb_cells[i].input_prompt_number == nbb_cell_id) {\n",
       "                        if (nbb_cells[i].get_text() == nbb_unformatted_code) {\n",
       "                             nbb_cells[i].set_text(nbb_formatted_code);\n",
       "                        }\n",
       "                        break;\n",
       "                    }\n",
       "                }\n",
       "            }, 500);\n",
       "            "
      ],
      "text/plain": [
       "<IPython.core.display.Javascript object>"
      ]
     },
     "metadata": {},
     "output_type": "display_data"
    }
   ],
   "source": [
    "features_train_appentency.to_csv(\"features_train_appentency.csv\", index=False)"
   ]
  },
  {
   "cell_type": "markdown",
   "id": "a7151c5c",
   "metadata": {},
   "source": [
    "-----------------------------------------------"
   ]
  },
  {
   "cell_type": "markdown",
   "id": "55d4fd9b",
   "metadata": {},
   "source": [
    "### 4.3 Upseling"
   ]
  },
  {
   "cell_type": "markdown",
   "id": "53d8f5d9",
   "metadata": {},
   "source": [
    "<p>\n",
    "    Por últimos iremos realizar com Upseling, e finalizar o tratamento e seleção da variáveis.\n",
    "</p>"
   ]
  },
  {
   "cell_type": "code",
   "execution_count": 43,
   "id": "3c72968a",
   "metadata": {},
   "outputs": [
    {
     "data": {
      "application/javascript": [
       "\n",
       "            setTimeout(function() {\n",
       "                var nbb_cell_id = 43;\n",
       "                var nbb_unformatted_code = \"variables, importances = var_importances(features_train, upselling)\";\n",
       "                var nbb_formatted_code = \"variables, importances = var_importances(features_train, upselling)\";\n",
       "                var nbb_cells = Jupyter.notebook.get_cells();\n",
       "                for (var i = 0; i < nbb_cells.length; ++i) {\n",
       "                    if (nbb_cells[i].input_prompt_number == nbb_cell_id) {\n",
       "                        if (nbb_cells[i].get_text() == nbb_unformatted_code) {\n",
       "                             nbb_cells[i].set_text(nbb_formatted_code);\n",
       "                        }\n",
       "                        break;\n",
       "                    }\n",
       "                }\n",
       "            }, 500);\n",
       "            "
      ],
      "text/plain": [
       "<IPython.core.display.Javascript object>"
      ]
     },
     "metadata": {},
     "output_type": "display_data"
    }
   ],
   "source": [
    "variables, importances = var_importances(features_train, upselling)"
   ]
  },
  {
   "cell_type": "code",
   "execution_count": 44,
   "id": "447c82c4",
   "metadata": {},
   "outputs": [
    {
     "data": {
      "text/html": [
       "<div>\n",
       "<style scoped>\n",
       "    .dataframe tbody tr th:only-of-type {\n",
       "        vertical-align: middle;\n",
       "    }\n",
       "\n",
       "    .dataframe tbody tr th {\n",
       "        vertical-align: top;\n",
       "    }\n",
       "\n",
       "    .dataframe thead th {\n",
       "        text-align: right;\n",
       "    }\n",
       "</style>\n",
       "<table border=\"1\" class=\"dataframe\">\n",
       "  <thead>\n",
       "    <tr style=\"text-align: right;\">\n",
       "      <th></th>\n",
       "      <th>variables</th>\n",
       "      <th>importances</th>\n",
       "    </tr>\n",
       "  </thead>\n",
       "  <tbody>\n",
       "    <tr>\n",
       "      <th>0</th>\n",
       "      <td>Var211_L84s</td>\n",
       "      <td>0.022</td>\n",
       "    </tr>\n",
       "    <tr>\n",
       "      <th>1</th>\n",
       "      <td>Var211_Mtgm</td>\n",
       "      <td>0.021</td>\n",
       "    </tr>\n",
       "    <tr>\n",
       "      <th>2</th>\n",
       "      <td>Var153</td>\n",
       "      <td>0.016</td>\n",
       "    </tr>\n",
       "    <tr>\n",
       "      <th>3</th>\n",
       "      <td>Var28</td>\n",
       "      <td>0.016</td>\n",
       "    </tr>\n",
       "    <tr>\n",
       "      <th>4</th>\n",
       "      <td>Var57</td>\n",
       "      <td>0.015</td>\n",
       "    </tr>\n",
       "    <tr>\n",
       "      <th>...</th>\n",
       "      <td>...</td>\n",
       "      <td>...</td>\n",
       "    </tr>\n",
       "    <tr>\n",
       "      <th>1047</th>\n",
       "      <td>Var195_XMIgoIlPqx</td>\n",
       "      <td>0.000</td>\n",
       "    </tr>\n",
       "    <tr>\n",
       "      <th>1048</th>\n",
       "      <td>Var212_3vzwTT0wY25GE</td>\n",
       "      <td>0.000</td>\n",
       "    </tr>\n",
       "    <tr>\n",
       "      <th>1049</th>\n",
       "      <td>Var211_missing</td>\n",
       "      <td>0.000</td>\n",
       "    </tr>\n",
       "    <tr>\n",
       "      <th>1050</th>\n",
       "      <td>Var210_missing</td>\n",
       "      <td>0.000</td>\n",
       "    </tr>\n",
       "    <tr>\n",
       "      <th>1051</th>\n",
       "      <td>Var228_missing</td>\n",
       "      <td>0.000</td>\n",
       "    </tr>\n",
       "  </tbody>\n",
       "</table>\n",
       "<p>1052 rows × 2 columns</p>\n",
       "</div>"
      ],
      "text/plain": [
       "                 variables  importances\n",
       "0              Var211_L84s        0.022\n",
       "1              Var211_Mtgm        0.021\n",
       "2                   Var153        0.016\n",
       "3                    Var28        0.016\n",
       "4                    Var57        0.015\n",
       "...                    ...          ...\n",
       "1047     Var195_XMIgoIlPqx        0.000\n",
       "1048  Var212_3vzwTT0wY25GE        0.000\n",
       "1049        Var211_missing        0.000\n",
       "1050        Var210_missing        0.000\n",
       "1051        Var228_missing        0.000\n",
       "\n",
       "[1052 rows x 2 columns]"
      ]
     },
     "execution_count": 44,
     "metadata": {},
     "output_type": "execute_result"
    },
    {
     "data": {
      "application/javascript": [
       "\n",
       "            setTimeout(function() {\n",
       "                var nbb_cell_id = 44;\n",
       "                var nbb_unformatted_code = \"df_importances = pd.DataFrame({\\\"variables\\\": variables, \\\"importances\\\": importances})\\ndf_importances\";\n",
       "                var nbb_formatted_code = \"df_importances = pd.DataFrame({\\\"variables\\\": variables, \\\"importances\\\": importances})\\ndf_importances\";\n",
       "                var nbb_cells = Jupyter.notebook.get_cells();\n",
       "                for (var i = 0; i < nbb_cells.length; ++i) {\n",
       "                    if (nbb_cells[i].input_prompt_number == nbb_cell_id) {\n",
       "                        if (nbb_cells[i].get_text() == nbb_unformatted_code) {\n",
       "                             nbb_cells[i].set_text(nbb_formatted_code);\n",
       "                        }\n",
       "                        break;\n",
       "                    }\n",
       "                }\n",
       "            }, 500);\n",
       "            "
      ],
      "text/plain": [
       "<IPython.core.display.Javascript object>"
      ]
     },
     "metadata": {},
     "output_type": "display_data"
    }
   ],
   "source": [
    "df_importances = pd.DataFrame({\"variables\": variables, \"importances\": importances})\n",
    "df_importances"
   ]
  },
  {
   "cell_type": "markdown",
   "id": "3ca98a8d",
   "metadata": {},
   "source": [
    "#### 4.3.2 Visualizando a importância das variáveis"
   ]
  },
  {
   "cell_type": "code",
   "execution_count": 45,
   "id": "94f59672",
   "metadata": {},
   "outputs": [
    {
     "data": {
      "image/png": "[encoded data removed]",
      "text/plain": [
       "<Figure size 640x480 with 1 Axes>"
      ]
     },
     "metadata": {},
     "output_type": "display_data"
    },
    {
     "data": {
      "application/javascript": [
       "\n",
       "            setTimeout(function() {\n",
       "                var nbb_cell_id = 45;\n",
       "                var nbb_unformatted_code = \"sum_importances = sum_and_plot(variables, importances)\";\n",
       "                var nbb_formatted_code = \"sum_importances = sum_and_plot(variables, importances)\";\n",
       "                var nbb_cells = Jupyter.notebook.get_cells();\n",
       "                for (var i = 0; i < nbb_cells.length; ++i) {\n",
       "                    if (nbb_cells[i].input_prompt_number == nbb_cell_id) {\n",
       "                        if (nbb_cells[i].get_text() == nbb_unformatted_code) {\n",
       "                             nbb_cells[i].set_text(nbb_formatted_code);\n",
       "                        }\n",
       "                        break;\n",
       "                    }\n",
       "                }\n",
       "            }, 500);\n",
       "            "
      ],
      "text/plain": [
       "<IPython.core.display.Javascript object>"
      ]
     },
     "metadata": {},
     "output_type": "display_data"
    }
   ],
   "source": [
    "sum_importances = sum_and_plot(variables, importances)"
   ]
  },
  {
   "cell_type": "markdown",
   "id": "ce228269",
   "metadata": {},
   "source": [
    "#### 4.3.3 Aplicando um filtro para retirar as variáveis com menor importância"
   ]
  },
  {
   "cell_type": "code",
   "execution_count": 46,
   "id": "f4e2efa3",
   "metadata": {},
   "outputs": [
    {
     "data": {
      "application/javascript": [
       "\n",
       "            setTimeout(function() {\n",
       "                var nbb_cell_id = 46;\n",
       "                var nbb_unformatted_code = \"keep_vars = sum_importances[sum_importances.iloc[:, 1] <= 0.99].iloc[:, 0]\";\n",
       "                var nbb_formatted_code = \"keep_vars = sum_importances[sum_importances.iloc[:, 1] <= 0.99].iloc[:, 0]\";\n",
       "                var nbb_cells = Jupyter.notebook.get_cells();\n",
       "                for (var i = 0; i < nbb_cells.length; ++i) {\n",
       "                    if (nbb_cells[i].input_prompt_number == nbb_cell_id) {\n",
       "                        if (nbb_cells[i].get_text() == nbb_unformatted_code) {\n",
       "                             nbb_cells[i].set_text(nbb_formatted_code);\n",
       "                        }\n",
       "                        break;\n",
       "                    }\n",
       "                }\n",
       "            }, 500);\n",
       "            "
      ],
      "text/plain": [
       "<IPython.core.display.Javascript object>"
      ]
     },
     "metadata": {},
     "output_type": "display_data"
    }
   ],
   "source": [
    "keep_vars = sum_importances[sum_importances.iloc[:, 1] <= 0.99].iloc[:, 0]"
   ]
  },
  {
   "cell_type": "code",
   "execution_count": 47,
   "id": "1f44192e",
   "metadata": {},
   "outputs": [
    {
     "data": {
      "text/plain": [
       "(50000, 646)"
      ]
     },
     "execution_count": 47,
     "metadata": {},
     "output_type": "execute_result"
    },
    {
     "data": {
      "application/javascript": [
       "\n",
       "            setTimeout(function() {\n",
       "                var nbb_cell_id = 47;\n",
       "                var nbb_unformatted_code = \"features_train_upselling = features_train[keep_vars]\\nfeatures_train_upselling.shape\";\n",
       "                var nbb_formatted_code = \"features_train_upselling = features_train[keep_vars]\\nfeatures_train_upselling.shape\";\n",
       "                var nbb_cells = Jupyter.notebook.get_cells();\n",
       "                for (var i = 0; i < nbb_cells.length; ++i) {\n",
       "                    if (nbb_cells[i].input_prompt_number == nbb_cell_id) {\n",
       "                        if (nbb_cells[i].get_text() == nbb_unformatted_code) {\n",
       "                             nbb_cells[i].set_text(nbb_formatted_code);\n",
       "                        }\n",
       "                        break;\n",
       "                    }\n",
       "                }\n",
       "            }, 500);\n",
       "            "
      ],
      "text/plain": [
       "<IPython.core.display.Javascript object>"
      ]
     },
     "metadata": {},
     "output_type": "display_data"
    }
   ],
   "source": [
    "features_train_upselling = features_train[keep_vars]\n",
    "features_train_upselling.shape"
   ]
  },
  {
   "cell_type": "markdown",
   "id": "193c44e3",
   "metadata": {},
   "source": [
    "#### 4.3.4 Exportando o Dataset"
   ]
  },
  {
   "cell_type": "code",
   "execution_count": 49,
   "id": "28979e35",
   "metadata": {},
   "outputs": [
    {
     "data": {
      "application/javascript": [
       "\n",
       "            setTimeout(function() {\n",
       "                var nbb_cell_id = 49;\n",
       "                var nbb_unformatted_code = \"features_train_upselling.to_csv(\\\"features_train_upselling.csv\\\", index=False)\";\n",
       "                var nbb_formatted_code = \"features_train_upselling.to_csv(\\\"features_train_upselling.csv\\\", index=False)\";\n",
       "                var nbb_cells = Jupyter.notebook.get_cells();\n",
       "                for (var i = 0; i < nbb_cells.length; ++i) {\n",
       "                    if (nbb_cells[i].input_prompt_number == nbb_cell_id) {\n",
       "                        if (nbb_cells[i].get_text() == nbb_unformatted_code) {\n",
       "                             nbb_cells[i].set_text(nbb_formatted_code);\n",
       "                        }\n",
       "                        break;\n",
       "                    }\n",
       "                }\n",
       "            }, 500);\n",
       "            "
      ],
      "text/plain": [
       "<IPython.core.display.Javascript object>"
      ]
     },
     "metadata": {},
     "output_type": "display_data"
    }
   ],
   "source": [
    "features_train_upselling.to_csv(\"features_train_upselling.csv\", index=False)"
   ]
  },
  {
   "cell_type": "markdown",
   "id": "e3b96eb8",
   "metadata": {},
   "source": [
    "## Conclusões"
   ]
  },
  {
   "cell_type": "markdown",
   "id": "9fdeb7df",
   "metadata": {},
   "source": [
    "<p>\n",
    "    Os tratamentos necessários para a aplicação do modelo, foram concluidos com sucesso. Temos três <code>Datasets</code>, para cada uma das variáveis targets. Reforçando, todo o processo foi baseado apenas na natureza dos dados, já que os mesmos são mascarados para preservar os clientes.\n",
    "</p>\n",
    "\n",
    "<p>\n",
    "    Finalmente iremos começar, nos próximos Notebooks, as previsões.\n",
    "</p>"
   ]
  }
 ],
 "metadata": {
  "kernelspec": {
   "display_name": "Python 3 (ipykernel)",
   "language": "python",
   "name": "python3"
  },
  "language_info": {
   "codemirror_mode": {
    "name": "ipython",
    "version": 3
   },
   "file_extension": ".py",
   "mimetype": "text/x-python",
   "name": "python",
   "nbconvert_exporter": "python",
   "pygments_lexer": "ipython3",
   "version": "3.9.12"
  }
 },
 "nbformat": 4,
 "nbformat_minor": 5
}
